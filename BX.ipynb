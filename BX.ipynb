{
 "cells": [
  {
   "cell_type": "markdown",
   "metadata": {},
   "source": [
    "Collaborative Filtering Utilizing Neural Networks/book-crossing dataset"
   ]
  },
  {
   "cell_type": "markdown",
   "metadata": {
    "toc": true
   },
   "source": [
    "<h1>Table of Contents<span class=\"tocSkip\"></span></h1>\n",
    "<div class=\"toc\"><ul class=\"toc-item\"><li><span><a href=\"#Data-pre-processing\" data-toc-modified-id=\"Data-pre-processing-1\"><span class=\"toc-item-num\">1&nbsp;&nbsp;</span>Data pre-processing</a></span></li><li><span><a href=\"#Models\" data-toc-modified-id=\"Models-2\"><span class=\"toc-item-num\">2&nbsp;&nbsp;</span>Models</a></span><ul class=\"toc-item\"><li><span><a href=\"#MF-MLP-model\" data-toc-modified-id=\"MF-MLP-model-2.1\"><span class=\"toc-item-num\">2.1&nbsp;&nbsp;</span>MF-MLP model</a></span><ul class=\"toc-item\"><li><span><a href=\"#Model-Construction\" data-toc-modified-id=\"Model-Construction-2.1.1\"><span class=\"toc-item-num\">2.1.1&nbsp;&nbsp;</span>Model Construction</a></span></li><li><span><a href=\"#Prediction-and-evaluation\" data-toc-modified-id=\"Prediction-and-evaluation-2.1.2\"><span class=\"toc-item-num\">2.1.2&nbsp;&nbsp;</span>Prediction and evaluation</a></span></li></ul></li><li><span><a href=\"#MF-LSTM-model\" data-toc-modified-id=\"MF-LSTM-model-2.2\"><span class=\"toc-item-num\">2.2&nbsp;&nbsp;</span>MF-LSTM model</a></span><ul class=\"toc-item\"><li><span><a href=\"#Model-Construction\" data-toc-modified-id=\"Model-Construction-2.2.1\"><span class=\"toc-item-num\">2.2.1&nbsp;&nbsp;</span>Model Construction</a></span></li><li><span><a href=\"#Prediction-and-evaluation\" data-toc-modified-id=\"Prediction-and-evaluation-2.2.2\"><span class=\"toc-item-num\">2.2.2&nbsp;&nbsp;</span>Prediction and evaluation</a></span></li></ul></li></ul></li></ul></div>"
   ]
  },
  {
   "cell_type": "markdown",
   "metadata": {},
   "source": [
    "## Data pre-processing"
   ]
  },
  {
   "cell_type": "markdown",
   "metadata": {},
   "source": [
    "**Load data and split columns by delimiter**"
   ]
  },
  {
   "cell_type": "code",
   "execution_count": 95,
   "metadata": {
    "ExecuteTime": {
     "end_time": "2023-01-27T14:57:53.887156Z",
     "start_time": "2023-01-27T14:57:33.794609Z"
    }
   },
   "outputs": [
    {
     "name": "stderr",
     "output_type": "stream",
     "text": [
      "<ipython-input-95-c99501dbbf82>:5: ParserWarning: Falling back to the 'python' engine because the 'c' engine does not support regex separators (separators > 1 char and different from '\\s+' are interpreted as regex); you can avoid this warning by specifying engine='python'.\n",
      "  data = pd.read_csv('BX/BX-Book-Ratings.csv', delimiter = ';\"', skiprows = 1, names=[\"User-ID\", \"ISBN\", \"Book-Rating\"], encoding=\"latin1\")\n"
     ]
    },
    {
     "data": {
      "text/html": [
       "<div>\n",
       "<style scoped>\n",
       "    .dataframe tbody tr th:only-of-type {\n",
       "        vertical-align: middle;\n",
       "    }\n",
       "\n",
       "    .dataframe tbody tr th {\n",
       "        vertical-align: top;\n",
       "    }\n",
       "\n",
       "    .dataframe thead th {\n",
       "        text-align: right;\n",
       "    }\n",
       "</style>\n",
       "<table border=\"1\" class=\"dataframe\">\n",
       "  <thead>\n",
       "    <tr style=\"text-align: right;\">\n",
       "      <th></th>\n",
       "      <th>User-ID</th>\n",
       "      <th>ISBN</th>\n",
       "      <th>Book-Rating</th>\n",
       "    </tr>\n",
       "  </thead>\n",
       "  <tbody>\n",
       "    <tr>\n",
       "      <th>0</th>\n",
       "      <td>\"276725</td>\n",
       "      <td>\"034545104X\"\"</td>\n",
       "      <td>\"0\"\"\"</td>\n",
       "    </tr>\n",
       "    <tr>\n",
       "      <th>1</th>\n",
       "      <td>\"276726</td>\n",
       "      <td>\"0155061224\"\"</td>\n",
       "      <td>\"5\"\"\"</td>\n",
       "    </tr>\n",
       "    <tr>\n",
       "      <th>2</th>\n",
       "      <td>\"276727</td>\n",
       "      <td>\"0446520802\"\"</td>\n",
       "      <td>\"0\"\"\"</td>\n",
       "    </tr>\n",
       "    <tr>\n",
       "      <th>3</th>\n",
       "      <td>\"276729</td>\n",
       "      <td>\"052165615X\"\"</td>\n",
       "      <td>\"3\"\"\"</td>\n",
       "    </tr>\n",
       "    <tr>\n",
       "      <th>4</th>\n",
       "      <td>\"276729</td>\n",
       "      <td>\"0521795028\"\"</td>\n",
       "      <td>\"6\"\"\"</td>\n",
       "    </tr>\n",
       "  </tbody>\n",
       "</table>\n",
       "</div>"
      ],
      "text/plain": [
       "   User-ID           ISBN Book-Rating\n",
       "0  \"276725  \"034545104X\"\"       \"0\"\"\"\n",
       "1  \"276726  \"0155061224\"\"       \"5\"\"\"\n",
       "2  \"276727  \"0446520802\"\"       \"0\"\"\"\n",
       "3  \"276729  \"052165615X\"\"       \"3\"\"\"\n",
       "4  \"276729  \"0521795028\"\"       \"6\"\"\""
      ]
     },
     "execution_count": 95,
     "metadata": {},
     "output_type": "execute_result"
    }
   ],
   "source": [
    "import pandas as pd\n",
    "import tensorflow as tf\n",
    "from sklearn import preprocessing\n",
    "\n",
    "data = pd.read_csv('BX/BX-Book-Ratings.csv', delimiter = ';\"', skiprows = 1, names=[\"User-ID\", \"ISBN\", \"Book-Rating\"], encoding=\"latin1\")\n",
    "data.head()"
   ]
  },
  {
   "cell_type": "code",
   "execution_count": 96,
   "metadata": {
    "ExecuteTime": {
     "end_time": "2023-01-27T14:57:58.276637Z",
     "start_time": "2023-01-27T14:57:53.893153Z"
    }
   },
   "outputs": [
    {
     "data": {
      "text/html": [
       "<div>\n",
       "<style scoped>\n",
       "    .dataframe tbody tr th:only-of-type {\n",
       "        vertical-align: middle;\n",
       "    }\n",
       "\n",
       "    .dataframe tbody tr th {\n",
       "        vertical-align: top;\n",
       "    }\n",
       "\n",
       "    .dataframe thead th {\n",
       "        text-align: right;\n",
       "    }\n",
       "</style>\n",
       "<table border=\"1\" class=\"dataframe\">\n",
       "  <thead>\n",
       "    <tr style=\"text-align: right;\">\n",
       "      <th></th>\n",
       "      <th>User-ID</th>\n",
       "      <th>ISBN</th>\n",
       "      <th>Book-Rating</th>\n",
       "    </tr>\n",
       "  </thead>\n",
       "  <tbody>\n",
       "    <tr>\n",
       "      <th>0</th>\n",
       "      <td>276725</td>\n",
       "      <td>034545104X</td>\n",
       "      <td>0</td>\n",
       "    </tr>\n",
       "    <tr>\n",
       "      <th>1</th>\n",
       "      <td>276726</td>\n",
       "      <td>0155061224</td>\n",
       "      <td>5</td>\n",
       "    </tr>\n",
       "    <tr>\n",
       "      <th>2</th>\n",
       "      <td>276727</td>\n",
       "      <td>0446520802</td>\n",
       "      <td>0</td>\n",
       "    </tr>\n",
       "    <tr>\n",
       "      <th>3</th>\n",
       "      <td>276729</td>\n",
       "      <td>052165615X</td>\n",
       "      <td>3</td>\n",
       "    </tr>\n",
       "    <tr>\n",
       "      <th>4</th>\n",
       "      <td>276729</td>\n",
       "      <td>0521795028</td>\n",
       "      <td>6</td>\n",
       "    </tr>\n",
       "  </tbody>\n",
       "</table>\n",
       "</div>"
      ],
      "text/plain": [
       "  User-ID        ISBN  Book-Rating\n",
       "0  276725  034545104X            0\n",
       "1  276726  0155061224            5\n",
       "2  276727  0446520802            0\n",
       "3  276729  052165615X            3\n",
       "4  276729  0521795028            6"
      ]
     },
     "execution_count": 96,
     "metadata": {},
     "output_type": "execute_result"
    }
   ],
   "source": [
    "data['User-ID'] = data['User-ID'].str[1:].astype(str)\n",
    "data['ISBN'] = data['ISBN'].str[1:-2].astype(str)\n",
    "data['Book-Rating'] = data['Book-Rating'].str[1:-3].astype(int)\n",
    "data.head()"
   ]
  },
  {
   "cell_type": "markdown",
   "metadata": {},
   "source": [
    "**Check for duplicates**"
   ]
  },
  {
   "cell_type": "code",
   "execution_count": 97,
   "metadata": {
    "ExecuteTime": {
     "end_time": "2023-01-27T14:57:59.252079Z",
     "start_time": "2023-01-27T14:57:58.280638Z"
    }
   },
   "outputs": [
    {
     "data": {
      "text/html": [
       "<div>\n",
       "<style scoped>\n",
       "    .dataframe tbody tr th:only-of-type {\n",
       "        vertical-align: middle;\n",
       "    }\n",
       "\n",
       "    .dataframe tbody tr th {\n",
       "        vertical-align: top;\n",
       "    }\n",
       "\n",
       "    .dataframe thead th {\n",
       "        text-align: right;\n",
       "    }\n",
       "</style>\n",
       "<table border=\"1\" class=\"dataframe\">\n",
       "  <thead>\n",
       "    <tr style=\"text-align: right;\">\n",
       "      <th></th>\n",
       "      <th>User-ID</th>\n",
       "      <th>ISBN</th>\n",
       "      <th>Book-Rating</th>\n",
       "    </tr>\n",
       "  </thead>\n",
       "  <tbody>\n",
       "  </tbody>\n",
       "</table>\n",
       "</div>"
      ],
      "text/plain": [
       "Empty DataFrame\n",
       "Columns: [User-ID, ISBN, Book-Rating]\n",
       "Index: []"
      ]
     },
     "execution_count": 97,
     "metadata": {},
     "output_type": "execute_result"
    }
   ],
   "source": [
    "data[data.duplicated()]"
   ]
  },
  {
   "cell_type": "markdown",
   "metadata": {},
   "source": [
    "**Check the number of registrations, the number of users and the number of books we have in our dataset**"
   ]
  },
  {
   "cell_type": "code",
   "execution_count": 98,
   "metadata": {
    "ExecuteTime": {
     "end_time": "2023-01-27T14:57:59.942685Z",
     "start_time": "2023-01-27T14:57:59.255076Z"
    }
   },
   "outputs": [
    {
     "name": "stdout",
     "output_type": "stream",
     "text": [
      "len: 1048575\n",
      "Users: 95513\n",
      "Books: 323416\n"
     ]
    }
   ],
   "source": [
    "print('len:', len(data))\n",
    "print('Users:', data['User-ID'].nunique())\n",
    "print('Books:', data['ISBN'].nunique())"
   ]
  },
  {
   "cell_type": "markdown",
   "metadata": {},
   "source": [
    "**Keep users who has read at least 40 books and books with at least 20 users read them in out dataset**"
   ]
  },
  {
   "cell_type": "code",
   "execution_count": 99,
   "metadata": {
    "ExecuteTime": {
     "end_time": "2023-01-27T14:58:01.233939Z",
     "start_time": "2023-01-27T14:57:59.945680Z"
    }
   },
   "outputs": [],
   "source": [
    "# we keep users who has rated at least 200 books. And Books with at least 40 ratings\n",
    "users_keep = data['User-ID'].value_counts() > 200\n",
    "y = users_keep[users_keep].index\n",
    "data = data[data['User-ID'].isin(y)]\n",
    "\n",
    "data.reset_index(inplace = True, drop = True)\n",
    "\n",
    "books_keep = data['ISBN'].value_counts() > 40\n",
    "y = books_keep[books_keep].index\n",
    "data = data[data['ISBN'].isin(y)]"
   ]
  },
  {
   "cell_type": "markdown",
   "metadata": {},
   "source": [
    "**Check the number of registrations, the number of users and the number of books we have in our dataset**"
   ]
  },
  {
   "cell_type": "code",
   "execution_count": 100,
   "metadata": {
    "ExecuteTime": {
     "end_time": "2023-01-27T14:58:01.295905Z",
     "start_time": "2023-01-27T14:58:01.236938Z"
    }
   },
   "outputs": [
    {
     "name": "stdout",
     "output_type": "stream",
     "text": [
      "len: 43560\n",
      "Users: 801\n",
      "Books: 654\n"
     ]
    }
   ],
   "source": [
    "print('len:', len(data))\n",
    "print('Users:', data['User-ID'].nunique())\n",
    "print('Books:', data['ISBN'].nunique())"
   ]
  },
  {
   "cell_type": "markdown",
   "metadata": {},
   "source": [
    "**Check the ratings of the books**"
   ]
  },
  {
   "cell_type": "code",
   "execution_count": 101,
   "metadata": {
    "ExecuteTime": {
     "end_time": "2023-01-27T14:58:01.423831Z",
     "start_time": "2023-01-27T14:58:01.299902Z"
    },
    "scrolled": true
   },
   "outputs": [
    {
     "data": {
      "text/plain": [
       "0     32840\n",
       "8      2646\n",
       "10     2344\n",
       "9      2168\n",
       "7      1627\n",
       "5       953\n",
       "6       677\n",
       "4       154\n",
       "3        77\n",
       "1        40\n",
       "2        34\n",
       "Name: Book-Rating, dtype: int64"
      ]
     },
     "execution_count": 101,
     "metadata": {},
     "output_type": "execute_result"
    }
   ],
   "source": [
    "data['Book-Rating'].value_counts()"
   ]
  },
  {
   "cell_type": "markdown",
   "metadata": {},
   "source": [
    "**Keep only registrations which represents that user liked the book (Book-Rating>5) or hasn't read it yet(Book-Rating=0)**"
   ]
  },
  {
   "cell_type": "code",
   "execution_count": 102,
   "metadata": {
    "ExecuteTime": {
     "end_time": "2023-01-27T14:58:01.503786Z",
     "start_time": "2023-01-27T14:58:01.431826Z"
    }
   },
   "outputs": [
    {
     "data": {
      "text/plain": [
       "0     32840\n",
       "8      2646\n",
       "10     2344\n",
       "9      2168\n",
       "7      1627\n",
       "6       677\n",
       "Name: Book-Rating, dtype: int64"
      ]
     },
     "execution_count": 102,
     "metadata": {},
     "output_type": "execute_result"
    }
   ],
   "source": [
    "data = data[(data['Book-Rating'] == 0) | (data['Book-Rating'] > 5)]\n",
    "data['Book-Rating'].value_counts()"
   ]
  },
  {
   "cell_type": "markdown",
   "metadata": {},
   "source": [
    "**Reset the index column**"
   ]
  },
  {
   "cell_type": "code",
   "execution_count": 103,
   "metadata": {
    "ExecuteTime": {
     "end_time": "2023-01-27T14:58:01.581740Z",
     "start_time": "2023-01-27T14:58:01.508782Z"
    }
   },
   "outputs": [],
   "source": [
    "data.reset_index(inplace = True, drop = True)"
   ]
  },
  {
   "cell_type": "markdown",
   "metadata": {},
   "source": [
    "**Book-Rating=1 represents that user liked the corresponding book & Book-Rating=0 that he hasn't read it yet**"
   ]
  },
  {
   "cell_type": "code",
   "execution_count": 104,
   "metadata": {
    "ExecuteTime": {
     "end_time": "2023-01-27T14:58:01.757640Z",
     "start_time": "2023-01-27T14:58:01.586740Z"
    }
   },
   "outputs": [
    {
     "name": "stdout",
     "output_type": "stream",
     "text": [
      "0    32840\n",
      "1     9462\n",
      "Name: Book-Rating, dtype: int64\n"
     ]
    },
    {
     "data": {
      "text/html": [
       "<div>\n",
       "<style scoped>\n",
       "    .dataframe tbody tr th:only-of-type {\n",
       "        vertical-align: middle;\n",
       "    }\n",
       "\n",
       "    .dataframe tbody tr th {\n",
       "        vertical-align: top;\n",
       "    }\n",
       "\n",
       "    .dataframe thead th {\n",
       "        text-align: right;\n",
       "    }\n",
       "</style>\n",
       "<table border=\"1\" class=\"dataframe\">\n",
       "  <thead>\n",
       "    <tr style=\"text-align: right;\">\n",
       "      <th></th>\n",
       "      <th>User-ID</th>\n",
       "      <th>ISBN</th>\n",
       "      <th>Book-Rating</th>\n",
       "    </tr>\n",
       "  </thead>\n",
       "  <tbody>\n",
       "    <tr>\n",
       "      <th>0</th>\n",
       "      <td>277427</td>\n",
       "      <td>002542730X</td>\n",
       "      <td>1</td>\n",
       "    </tr>\n",
       "    <tr>\n",
       "      <th>1</th>\n",
       "      <td>277427</td>\n",
       "      <td>0060930535</td>\n",
       "      <td>0</td>\n",
       "    </tr>\n",
       "    <tr>\n",
       "      <th>2</th>\n",
       "      <td>277427</td>\n",
       "      <td>0060934417</td>\n",
       "      <td>0</td>\n",
       "    </tr>\n",
       "    <tr>\n",
       "      <th>3</th>\n",
       "      <td>277427</td>\n",
       "      <td>0061009059</td>\n",
       "      <td>1</td>\n",
       "    </tr>\n",
       "    <tr>\n",
       "      <th>4</th>\n",
       "      <td>277427</td>\n",
       "      <td>0140067477</td>\n",
       "      <td>0</td>\n",
       "    </tr>\n",
       "  </tbody>\n",
       "</table>\n",
       "</div>"
      ],
      "text/plain": [
       "  User-ID        ISBN  Book-Rating\n",
       "0  277427  002542730X            1\n",
       "1  277427  0060930535            0\n",
       "2  277427  0060934417            0\n",
       "3  277427  0061009059            1\n",
       "4  277427  0140067477            0"
      ]
     },
     "execution_count": 104,
     "metadata": {},
     "output_type": "execute_result"
    }
   ],
   "source": [
    "data['Book-Rating'] = data['Book-Rating'].apply(lambda rating : +1 if rating != 0 else 0)\n",
    "print(data['Book-Rating'].value_counts())\n",
    "data.head()"
   ]
  },
  {
   "cell_type": "markdown",
   "metadata": {},
   "source": [
    "**Convert users and books names into encoded IDs**"
   ]
  },
  {
   "cell_type": "code",
   "execution_count": 105,
   "metadata": {
    "ExecuteTime": {
     "end_time": "2023-01-27T14:58:01.931540Z",
     "start_time": "2023-01-27T14:58:01.760637Z"
    }
   },
   "outputs": [
    {
     "data": {
      "text/html": [
       "<div>\n",
       "<style scoped>\n",
       "    .dataframe tbody tr th:only-of-type {\n",
       "        vertical-align: middle;\n",
       "    }\n",
       "\n",
       "    .dataframe tbody tr th {\n",
       "        vertical-align: top;\n",
       "    }\n",
       "\n",
       "    .dataframe thead th {\n",
       "        text-align: right;\n",
       "    }\n",
       "</style>\n",
       "<table border=\"1\" class=\"dataframe\">\n",
       "  <thead>\n",
       "    <tr style=\"text-align: right;\">\n",
       "      <th></th>\n",
       "      <th>User-ID</th>\n",
       "      <th>ISBN</th>\n",
       "      <th>Book-Rating</th>\n",
       "      <th>Lbl_User-ID</th>\n",
       "      <th>Lbl_ISBN</th>\n",
       "    </tr>\n",
       "  </thead>\n",
       "  <tbody>\n",
       "    <tr>\n",
       "      <th>0</th>\n",
       "      <td>277427</td>\n",
       "      <td>002542730X</td>\n",
       "      <td>1</td>\n",
       "      <td>562</td>\n",
       "      <td>0</td>\n",
       "    </tr>\n",
       "    <tr>\n",
       "      <th>1</th>\n",
       "      <td>277427</td>\n",
       "      <td>0060930535</td>\n",
       "      <td>0</td>\n",
       "      <td>562</td>\n",
       "      <td>11</td>\n",
       "    </tr>\n",
       "    <tr>\n",
       "      <th>2</th>\n",
       "      <td>277427</td>\n",
       "      <td>0060934417</td>\n",
       "      <td>0</td>\n",
       "      <td>562</td>\n",
       "      <td>12</td>\n",
       "    </tr>\n",
       "    <tr>\n",
       "      <th>3</th>\n",
       "      <td>277427</td>\n",
       "      <td>0061009059</td>\n",
       "      <td>1</td>\n",
       "      <td>562</td>\n",
       "      <td>21</td>\n",
       "    </tr>\n",
       "    <tr>\n",
       "      <th>4</th>\n",
       "      <td>277427</td>\n",
       "      <td>0140067477</td>\n",
       "      <td>0</td>\n",
       "      <td>562</td>\n",
       "      <td>32</td>\n",
       "    </tr>\n",
       "  </tbody>\n",
       "</table>\n",
       "</div>"
      ],
      "text/plain": [
       "  User-ID        ISBN  Book-Rating  Lbl_User-ID  Lbl_ISBN\n",
       "0  277427  002542730X            1          562         0\n",
       "1  277427  0060930535            0          562        11\n",
       "2  277427  0060934417            0          562        12\n",
       "3  277427  0061009059            1          562        21\n",
       "4  277427  0140067477            0          562        32"
      ]
     },
     "execution_count": 105,
     "metadata": {},
     "output_type": "execute_result"
    }
   ],
   "source": [
    "lbl_user = preprocessing.LabelEncoder()\n",
    "lbl_book = preprocessing.LabelEncoder()\n",
    "\n",
    "data['Lbl_User-ID'] = lbl_user.fit_transform(data['User-ID'].values)\n",
    "data['Lbl_ISBN'] = lbl_book.fit_transform(data['ISBN'].values)\n",
    "\n",
    "data.head()"
   ]
  },
  {
   "cell_type": "markdown",
   "metadata": {},
   "source": [
    "**Handling Imbalanced Data && split dataset in train and test datasets**"
   ]
  },
  {
   "cell_type": "code",
   "execution_count": 106,
   "metadata": {
    "ExecuteTime": {
     "end_time": "2023-01-27T14:58:02.043477Z",
     "start_time": "2023-01-27T14:58:01.934538Z"
    }
   },
   "outputs": [
    {
     "name": "stdout",
     "output_type": "stream",
     "text": [
      "0    32840\n",
      "1     9462\n",
      "Name: Book-Rating, dtype: int64\n"
     ]
    }
   ],
   "source": [
    "print(data['Book-Rating'].value_counts())"
   ]
  },
  {
   "cell_type": "code",
   "execution_count": 107,
   "metadata": {
    "ExecuteTime": {
     "end_time": "2023-01-27T14:58:02.347302Z",
     "start_time": "2023-01-27T14:58:02.046475Z"
    }
   },
   "outputs": [],
   "source": [
    "from imblearn import over_sampling\n",
    "from imblearn.over_sampling import RandomOverSampler\n",
    "from sklearn import model_selection\n",
    "\n",
    "oversample = RandomOverSampler(sampling_strategy='minority')\n",
    "\n",
    "Y = data['Book-Rating'] \n",
    "X = data[['User-ID', 'ISBN', 'Lbl_User-ID', 'Lbl_ISBN']]\n",
    "\n",
    "X , Y = oversample.fit_resample(X , Y)\n",
    "\n",
    "X_train, X_test, Y_train, Y_test = model_selection.train_test_split(X, Y, test_size=0.2)\n",
    "\n",
    "data_train = X_train\n",
    "data_train['Book-Rating'] = Y_train\n",
    "data_test = X_test\n",
    "data_test['Book-Rating'] = Y_test"
   ]
  },
  {
   "cell_type": "markdown",
   "metadata": {},
   "source": [
    "## Models"
   ]
  },
  {
   "cell_type": "markdown",
   "metadata": {},
   "source": [
    "### MF-MLP model"
   ]
  },
  {
   "cell_type": "markdown",
   "metadata": {},
   "source": [
    "#### Model Construction"
   ]
  },
  {
   "cell_type": "code",
   "execution_count": 108,
   "metadata": {
    "ExecuteTime": {
     "end_time": "2023-01-27T14:58:02.363292Z",
     "start_time": "2023-01-27T14:58:02.352301Z"
    }
   },
   "outputs": [],
   "source": [
    "import tensorflow.keras as keras\n",
    "from tensorflow.keras.layers import Concatenate, Dense, Embedding, Flatten, Input, Multiply, LSTM, Dropout, Reshape, BatchNormalization\n",
    "from tensorflow.keras.models import Model\n",
    "from tensorflow.keras.regularizers import l2\n",
    "from typing import List"
   ]
  },
  {
   "cell_type": "markdown",
   "metadata": {},
   "source": [
    "**Define the model**"
   ]
  },
  {
   "cell_type": "code",
   "execution_count": 109,
   "metadata": {
    "ExecuteTime": {
     "end_time": "2023-01-27T14:58:02.459236Z",
     "start_time": "2023-01-27T14:58:02.367289Z"
    }
   },
   "outputs": [],
   "source": [
    "def create_ncf(\n",
    "    number_of_users: int,\n",
    "    number_of_items: int,\n",
    "    latent_dim_mf: int = 4,\n",
    "    latent_dim_mlp: int = 32,\n",
    "    reg_mf: int = 0,\n",
    "    reg_mlp: int = 0.01\n",
    ") -> keras.Model:\n",
    "\n",
    "    # input layer\n",
    "    user = Input(shape=(), dtype=\"int32\", name=\"Lbl_User-ID\")\n",
    "    item = Input(shape=(), dtype=\"int32\", name=\"Lbl_ISBN\")\n",
    "\n",
    "    # embedding layers\n",
    "    mf_user_embedding = Embedding(input_dim = number_of_users, output_dim = latent_dim_mf, name = \"mf_user_embedding\", \n",
    "        embeddings_initializer = \"RandomNormal\", embeddings_regularizer = l2(reg_mf), input_length = 1)\n",
    "    mf_item_embedding = Embedding(input_dim = number_of_items, output_dim = latent_dim_mf, name = \"mf_item_embedding\",\n",
    "        embeddings_initializer = \"RandomNormal\", embeddings_regularizer = l2(reg_mf), input_length = 1)\n",
    "\n",
    "    mlp_user_embedding = Embedding(input_dim = number_of_users, output_dim = latent_dim_mlp, name = \"mlp_user_embedding\",\n",
    "        embeddings_initializer = \"RandomNormal\", embeddings_regularizer = l2(reg_mlp), input_length = 1)\n",
    "    mlp_item_embedding = Embedding(input_dim = number_of_items, output_dim = latent_dim_mlp, name = \"mlp_item_embedding\",\n",
    "        embeddings_initializer = \"RandomNormal\", embeddings_regularizer = l2(reg_mlp), input_length = 1)\n",
    "\n",
    "    # MF vector\n",
    "    mf_user_latent = Flatten()(mf_user_embedding(user))\n",
    "    mf_item_latent = Flatten()(mf_item_embedding(item))\n",
    "    mf_cat_latent = Multiply()([mf_user_latent, mf_item_latent])\n",
    "\n",
    "    # MLP vector\n",
    "    mlp_user_latent = Flatten()(mlp_user_embedding(user))\n",
    "    mlp_item_latent = Flatten()(mlp_item_embedding(item))\n",
    "    mlp_cat_latent = Concatenate()([mlp_user_latent, mlp_item_latent])\n",
    "    # Add a first dropout layer.\n",
    "    dropout = Dropout(0.2)(mlp_cat_latent)\n",
    "    #Αdd four hidden layers along with batch normalization and dropouts.\n",
    "    layer_1 = Dense(64, activation='relu', name='layer1')(dropout)\n",
    "    batch_norm1 = BatchNormalization(name='batch_norm1')(layer_1)\n",
    "    dropout1 = Dropout(0.2, name='dropout1')(batch_norm1)\n",
    "\n",
    "    layer_2 = Dense(32, activation='relu', name='layer2')(layer_1)\n",
    "    batch_norm2 = BatchNormalization(name='batch_norm1')(layer_2)\n",
    "    dropout2 = Dropout(0.2, name='dropout1')(batch_norm2)\n",
    "\n",
    "    layer_3 = Dense(16, activation='relu', name='layer3')(layer_2)\n",
    "    layer_4 = Dense(8, activation='relu', name='layer4')(layer_3)\n",
    "    \n",
    "    #Merge the two networks together\n",
    "    merged_vector = Concatenate()([mf_cat_latent, layer_4])\n",
    "    #Add the final single neuron output layer.\n",
    "    output_layer = Dense(1, activation = \"sigmoid\", kernel_initializer=\"lecun_uniform\", name=\"Book-Rating\")(merged_vector)\n",
    "    \n",
    "    model = Model(inputs = [user, item], outputs = [output_layer])\n",
    "\n",
    "    return model"
   ]
  },
  {
   "cell_type": "markdown",
   "metadata": {},
   "source": [
    "**Create and compile the model**"
   ]
  },
  {
   "cell_type": "code",
   "execution_count": 110,
   "metadata": {
    "ExecuteTime": {
     "end_time": "2023-01-27T14:58:02.875000Z",
     "start_time": "2023-01-27T14:58:02.462234Z"
    },
    "scrolled": false
   },
   "outputs": [
    {
     "name": "stdout",
     "output_type": "stream",
     "text": [
      "Model: \"neural_collaborative_filtering\"\n",
      "__________________________________________________________________________________________________\n",
      " Layer (type)                   Output Shape         Param #     Connected to                     \n",
      "==================================================================================================\n",
      " Lbl_User-ID (InputLayer)       [(None,)]            0           []                               \n",
      "                                                                                                  \n",
      " Lbl_ISBN (InputLayer)          [(None,)]            0           []                               \n",
      "                                                                                                  \n",
      " mlp_user_embedding (Embedding)  (None, 32)          25568       ['Lbl_User-ID[0][0]']            \n",
      "                                                                                                  \n",
      " mlp_item_embedding (Embedding)  (None, 32)          20928       ['Lbl_ISBN[0][0]']               \n",
      "                                                                                                  \n",
      " flatten_22 (Flatten)           (None, 32)           0           ['mlp_user_embedding[0][0]']     \n",
      "                                                                                                  \n",
      " flatten_23 (Flatten)           (None, 32)           0           ['mlp_item_embedding[0][0]']     \n",
      "                                                                                                  \n",
      " concatenate_12 (Concatenate)   (None, 64)           0           ['flatten_22[0][0]',             \n",
      "                                                                  'flatten_23[0][0]']             \n",
      "                                                                                                  \n",
      " dropout_13 (Dropout)           (None, 64)           0           ['concatenate_12[0][0]']         \n",
      "                                                                                                  \n",
      " layer1 (Dense)                 (None, 64)           4160        ['dropout_13[0][0]']             \n",
      "                                                                                                  \n",
      " mf_user_embedding (Embedding)  (None, 4)            3196        ['Lbl_User-ID[0][0]']            \n",
      "                                                                                                  \n",
      " mf_item_embedding (Embedding)  (None, 4)            2616        ['Lbl_ISBN[0][0]']               \n",
      "                                                                                                  \n",
      " layer2 (Dense)                 (None, 32)           2080        ['layer1[0][0]']                 \n",
      "                                                                                                  \n",
      " flatten_20 (Flatten)           (None, 4)            0           ['mf_user_embedding[0][0]']      \n",
      "                                                                                                  \n",
      " flatten_21 (Flatten)           (None, 4)            0           ['mf_item_embedding[0][0]']      \n",
      "                                                                                                  \n",
      " layer3 (Dense)                 (None, 16)           528         ['layer2[0][0]']                 \n",
      "                                                                                                  \n",
      " multiply_5 (Multiply)          (None, 4)            0           ['flatten_20[0][0]',             \n",
      "                                                                  'flatten_21[0][0]']             \n",
      "                                                                                                  \n",
      " layer4 (Dense)                 (None, 8)            136         ['layer3[0][0]']                 \n",
      "                                                                                                  \n",
      " concatenate_13 (Concatenate)   (None, 12)           0           ['multiply_5[0][0]',             \n",
      "                                                                  'layer4[0][0]']                 \n",
      "                                                                                                  \n",
      " Book-Rating (Dense)            (None, 1)            13          ['concatenate_13[0][0]']         \n",
      "                                                                                                  \n",
      "==================================================================================================\n",
      "Total params: 59,225\n",
      "Trainable params: 59,225\n",
      "Non-trainable params: 0\n",
      "__________________________________________________________________________________________________\n"
     ]
    }
   ],
   "source": [
    "from tensorflow.keras.optimizers import Adam\n",
    "\n",
    "n_users = data['Lbl_User-ID'].nunique()\n",
    "n_items = data['Lbl_ISBN'].nunique()\n",
    "\n",
    "ncf_model = create_ncf(n_users, n_items)\n",
    "\n",
    "ncf_model.compile(optimizer = Adam(), loss = \"binary_crossentropy\",\n",
    "    metrics=[\n",
    "        tf.keras.metrics.TruePositives(name=\"tp\"),\n",
    "        tf.keras.metrics.FalsePositives(name=\"fp\"),\n",
    "        tf.keras.metrics.TrueNegatives(name=\"tn\"),\n",
    "        tf.keras.metrics.FalseNegatives(name=\"fn\"),\n",
    "        tf.keras.metrics.BinaryAccuracy(name=\"accuracy\"),\n",
    "        tf.keras.metrics.Precision(name=\"precision\"),\n",
    "        tf.keras.metrics.Recall(name=\"recall\"),\n",
    "        tf.keras.metrics.AUC(name=\"auc\"),\n",
    "    ],\n",
    ")\n",
    "ncf_model._name = \"neural_collaborative_filtering\"\n",
    "ncf_model.summary()"
   ]
  },
  {
   "cell_type": "markdown",
   "metadata": {},
   "source": [
    "**Make TensorFlow dataset from Pandas DataFrame to use it as input**"
   ]
  },
  {
   "cell_type": "code",
   "execution_count": 111,
   "metadata": {
    "ExecuteTime": {
     "end_time": "2023-01-27T14:58:02.890991Z",
     "start_time": "2023-01-27T14:58:02.879998Z"
    }
   },
   "outputs": [],
   "source": [
    "def make_tf_dataset(\n",
    "    df: pd.DataFrame,\n",
    "    targets: List[str],\n",
    "    val_split: float = 0.1,\n",
    "    batch_size: int = 512,\n",
    "    seed=42,\n",
    "):\n",
    "    \"\"\"Make TensorFlow dataset from Pandas DataFrame.\n",
    "    :param df: input DataFrame - only contains features and target(s)\n",
    "    :param targets: list of columns names corresponding to targets\n",
    "    :param val_split: fraction of the data that should be used for validation\n",
    "    :param batch_size: batch size for training\n",
    "    :param seed: random seed for shuffling data - `None` won't shuffle the data\"\"\"\n",
    "\n",
    "    n_val = round(df.shape[0] * val_split)\n",
    "    if seed:\n",
    "        # shuffle all the rows\n",
    "        x = df.sample(frac=1, random_state=seed).to_dict(\"series\")\n",
    "    else:\n",
    "        x = df.to_dict(\"series\")\n",
    "    y = dict()\n",
    "    for t in targets:\n",
    "        y[t] = x.pop(t)\n",
    "    ds = tf.data.Dataset.from_tensor_slices((x, y))\n",
    "\n",
    "    ds_val = ds.take(n_val).batch(batch_size)\n",
    "    ds_train = ds.skip(n_val).batch(batch_size)\n",
    "    return ds_train, ds_val"
   ]
  },
  {
   "cell_type": "markdown",
   "metadata": {},
   "source": [
    "**Create train and validation datasets**"
   ]
  },
  {
   "cell_type": "code",
   "execution_count": 112,
   "metadata": {
    "ExecuteTime": {
     "end_time": "2023-01-27T14:58:03.002927Z",
     "start_time": "2023-01-27T14:58:02.894987Z"
    }
   },
   "outputs": [],
   "source": [
    "ds_train, ds_val = make_tf_dataset(data_train[['Lbl_User-ID', 'Lbl_ISBN', 'Book-Rating']], [\"Book-Rating\"])"
   ]
  },
  {
   "cell_type": "markdown",
   "metadata": {},
   "source": [
    "**Fit the model**"
   ]
  },
  {
   "cell_type": "code",
   "execution_count": 136,
   "metadata": {
    "ExecuteTime": {
     "end_time": "2023-01-27T15:07:04.876996Z",
     "start_time": "2023-01-27T15:06:35.074752Z"
    }
   },
   "outputs": [
    {
     "name": "stdout",
     "output_type": "stream",
     "text": [
      "Epoch 1/30\n",
      "93/93 [==============================] - 1s 9ms/step - loss: 0.3826 - tp: 21099.0000 - fp: 3754.0000 - tn: 19835.0000 - fn: 2602.0000 - accuracy: 0.8656 - precision: 0.8490 - recall: 0.8902 - auc: 0.9375 - val_loss: 0.5639 - val_tp: 2322.0000 - val_fp: 755.0000 - val_tn: 1876.0000 - val_fn: 301.0000 - val_accuracy: 0.7990 - val_precision: 0.7546 - val_recall: 0.8852 - val_auc: 0.8606\n",
      "Epoch 2/30\n",
      "93/93 [==============================] - 1s 9ms/step - loss: 0.3779 - tp: 21179.0000 - fp: 3658.0000 - tn: 19931.0000 - fn: 2522.0000 - accuracy: 0.8693 - precision: 0.8527 - recall: 0.8936 - auc: 0.9400 - val_loss: 0.5617 - val_tp: 2267.0000 - val_fp: 710.0000 - val_tn: 1921.0000 - val_fn: 356.0000 - val_accuracy: 0.7971 - val_precision: 0.7615 - val_recall: 0.8643 - val_auc: 0.8610\n",
      "Epoch 3/30\n",
      "93/93 [==============================] - 1s 9ms/step - loss: 0.3759 - tp: 21194.0000 - fp: 3594.0000 - tn: 19995.0000 - fn: 2507.0000 - accuracy: 0.8710 - precision: 0.8550 - recall: 0.8942 - auc: 0.9414 - val_loss: 0.5727 - val_tp: 2279.0000 - val_fp: 737.0000 - val_tn: 1894.0000 - val_fn: 344.0000 - val_accuracy: 0.7943 - val_precision: 0.7556 - val_recall: 0.8689 - val_auc: 0.8579\n",
      "Epoch 4/30\n",
      "93/93 [==============================] - 1s 9ms/step - loss: 0.3709 - tp: 21295.0000 - fp: 3504.0000 - tn: 20085.0000 - fn: 2406.0000 - accuracy: 0.8750 - precision: 0.8587 - recall: 0.8985 - auc: 0.9438 - val_loss: 0.5666 - val_tp: 2293.0000 - val_fp: 730.0000 - val_tn: 1901.0000 - val_fn: 330.0000 - val_accuracy: 0.7982 - val_precision: 0.7585 - val_recall: 0.8742 - val_auc: 0.8615\n",
      "Epoch 5/30\n",
      "93/93 [==============================] - 1s 9ms/step - loss: 0.3704 - tp: 21263.0000 - fp: 3510.0000 - tn: 20079.0000 - fn: 2438.0000 - accuracy: 0.8742 - precision: 0.8583 - recall: 0.8971 - auc: 0.9441 - val_loss: 0.5662 - val_tp: 2312.0000 - val_fp: 717.0000 - val_tn: 1914.0000 - val_fn: 311.0000 - val_accuracy: 0.8043 - val_precision: 0.7633 - val_recall: 0.8814 - val_auc: 0.8632\n",
      "Epoch 6/30\n",
      "93/93 [==============================] - 1s 10ms/step - loss: 0.3695 - tp: 21349.0000 - fp: 3446.0000 - tn: 20143.0000 - fn: 2352.0000 - accuracy: 0.8774 - precision: 0.8610 - recall: 0.9008 - auc: 0.9448 - val_loss: 0.5662 - val_tp: 2331.0000 - val_fp: 751.0000 - val_tn: 1880.0000 - val_fn: 292.0000 - val_accuracy: 0.8015 - val_precision: 0.7563 - val_recall: 0.8887 - val_auc: 0.8649\n",
      "Epoch 7/30\n",
      "93/93 [==============================] - 1s 11ms/step - loss: 0.3639 - tp: 21368.0000 - fp: 3419.0000 - tn: 20170.0000 - fn: 2333.0000 - accuracy: 0.8784 - precision: 0.8621 - recall: 0.9016 - auc: 0.9471 - val_loss: 0.5753 - val_tp: 2347.0000 - val_fp: 760.0000 - val_tn: 1871.0000 - val_fn: 276.0000 - val_accuracy: 0.8028 - val_precision: 0.7554 - val_recall: 0.8948 - val_auc: 0.8651\n",
      "Epoch 8/30\n",
      "93/93 [==============================] - 1s 11ms/step - loss: 0.3622 - tp: 21421.0000 - fp: 3369.0000 - tn: 20220.0000 - fn: 2280.0000 - accuracy: 0.8805 - precision: 0.8641 - recall: 0.9038 - auc: 0.9479 - val_loss: 0.5754 - val_tp: 2335.0000 - val_fp: 755.0000 - val_tn: 1876.0000 - val_fn: 288.0000 - val_accuracy: 0.8015 - val_precision: 0.7557 - val_recall: 0.8902 - val_auc: 0.8655\n",
      "Epoch 9/30\n",
      "93/93 [==============================] - 1s 11ms/step - loss: 0.3576 - tp: 21487.0000 - fp: 3268.0000 - tn: 20321.0000 - fn: 2214.0000 - accuracy: 0.8841 - precision: 0.8680 - recall: 0.9066 - auc: 0.9497 - val_loss: 0.5680 - val_tp: 2333.0000 - val_fp: 722.0000 - val_tn: 1909.0000 - val_fn: 290.0000 - val_accuracy: 0.8074 - val_precision: 0.7637 - val_recall: 0.8894 - val_auc: 0.8686\n",
      "Epoch 10/30\n",
      "93/93 [==============================] - 1s 13ms/step - loss: 0.3564 - tp: 21432.0000 - fp: 3293.0000 - tn: 20296.0000 - fn: 2269.0000 - accuracy: 0.8824 - precision: 0.8668 - recall: 0.9043 - auc: 0.9505 - val_loss: 0.5776 - val_tp: 2323.0000 - val_fp: 728.0000 - val_tn: 1903.0000 - val_fn: 300.0000 - val_accuracy: 0.8043 - val_precision: 0.7614 - val_recall: 0.8856 - val_auc: 0.8653\n",
      "Epoch 11/30\n",
      "93/93 [==============================] - 1s 12ms/step - loss: 0.3557 - tp: 21444.0000 - fp: 3248.0000 - tn: 20341.0000 - fn: 2257.0000 - accuracy: 0.8836 - precision: 0.8685 - recall: 0.9048 - auc: 0.9510 - val_loss: 0.5820 - val_tp: 2344.0000 - val_fp: 750.0000 - val_tn: 1881.0000 - val_fn: 279.0000 - val_accuracy: 0.8041 - val_precision: 0.7576 - val_recall: 0.8936 - val_auc: 0.8664\n",
      "Epoch 12/30\n",
      "93/93 [==============================] - 1s 11ms/step - loss: 0.3536 - tp: 21560.0000 - fp: 3212.0000 - tn: 20377.0000 - fn: 2141.0000 - accuracy: 0.8868 - precision: 0.8703 - recall: 0.9097 - auc: 0.9520 - val_loss: 0.5738 - val_tp: 2320.0000 - val_fp: 700.0000 - val_tn: 1931.0000 - val_fn: 303.0000 - val_accuracy: 0.8091 - val_precision: 0.7682 - val_recall: 0.8845 - val_auc: 0.8688\n",
      "Epoch 13/30\n",
      "93/93 [==============================] - 1s 11ms/step - loss: 0.3480 - tp: 21587.0000 - fp: 3078.0000 - tn: 20511.0000 - fn: 2114.0000 - accuracy: 0.8902 - precision: 0.8752 - recall: 0.9108 - auc: 0.9540 - val_loss: 0.5932 - val_tp: 2393.0000 - val_fp: 789.0000 - val_tn: 1842.0000 - val_fn: 230.0000 - val_accuracy: 0.8061 - val_precision: 0.7520 - val_recall: 0.9123 - val_auc: 0.8664\n",
      "Epoch 14/30\n",
      "93/93 [==============================] - 1s 11ms/step - loss: 0.3493 - tp: 21586.0000 - fp: 3101.0000 - tn: 20488.0000 - fn: 2115.0000 - accuracy: 0.8897 - precision: 0.8744 - recall: 0.9108 - auc: 0.9541 - val_loss: 0.5819 - val_tp: 2361.0000 - val_fp: 711.0000 - val_tn: 1920.0000 - val_fn: 262.0000 - val_accuracy: 0.8148 - val_precision: 0.7686 - val_recall: 0.9001 - val_auc: 0.8691\n",
      "Epoch 15/30\n",
      "93/93 [==============================] - 1s 12ms/step - loss: 0.3422 - tp: 21675.0000 - fp: 3016.0000 - tn: 20573.0000 - fn: 2026.0000 - accuracy: 0.8934 - precision: 0.8779 - recall: 0.9145 - auc: 0.9564 - val_loss: 0.5852 - val_tp: 2350.0000 - val_fp: 723.0000 - val_tn: 1908.0000 - val_fn: 273.0000 - val_accuracy: 0.8104 - val_precision: 0.7647 - val_recall: 0.8959 - val_auc: 0.8697\n",
      "Epoch 16/30\n",
      "93/93 [==============================] - 1s 12ms/step - loss: 0.3420 - tp: 21631.0000 - fp: 3018.0000 - tn: 20571.0000 - fn: 2070.0000 - accuracy: 0.8924 - precision: 0.8776 - recall: 0.9127 - auc: 0.9568 - val_loss: 0.5904 - val_tp: 2369.0000 - val_fp: 736.0000 - val_tn: 1895.0000 - val_fn: 254.0000 - val_accuracy: 0.8116 - val_precision: 0.7630 - val_recall: 0.9032 - val_auc: 0.8698\n",
      "Epoch 17/30\n",
      "93/93 [==============================] - 1s 12ms/step - loss: 0.3404 - tp: 21657.0000 - fp: 2999.0000 - tn: 20590.0000 - fn: 2044.0000 - accuracy: 0.8934 - precision: 0.8784 - recall: 0.9138 - auc: 0.9577 - val_loss: 0.5878 - val_tp: 2355.0000 - val_fp: 694.0000 - val_tn: 1937.0000 - val_fn: 268.0000 - val_accuracy: 0.8169 - val_precision: 0.7724 - val_recall: 0.8978 - val_auc: 0.8710\n",
      "Epoch 18/30\n",
      "93/93 [==============================] - 1s 12ms/step - loss: 0.3384 - tp: 21666.0000 - fp: 2909.0000 - tn: 20680.0000 - fn: 2035.0000 - accuracy: 0.8955 - precision: 0.8816 - recall: 0.9141 - auc: 0.9585 - val_loss: 0.5865 - val_tp: 2328.0000 - val_fp: 664.0000 - val_tn: 1967.0000 - val_fn: 295.0000 - val_accuracy: 0.8175 - val_precision: 0.7781 - val_recall: 0.8875 - val_auc: 0.8733\n",
      "Epoch 19/30\n",
      "93/93 [==============================] - 1s 13ms/step - loss: 0.3378 - tp: 21705.0000 - fp: 2910.0000 - tn: 20679.0000 - fn: 1996.0000 - accuracy: 0.8963 - precision: 0.8818 - recall: 0.9158 - auc: 0.9591 - val_loss: 0.5830 - val_tp: 2347.0000 - val_fp: 674.0000 - val_tn: 1957.0000 - val_fn: 276.0000 - val_accuracy: 0.8192 - val_precision: 0.7769 - val_recall: 0.8948 - val_auc: 0.8737\n",
      "Epoch 20/30\n",
      "93/93 [==============================] - 1s 10ms/step - loss: 0.3312 - tp: 21802.0000 - fp: 2840.0000 - tn: 20749.0000 - fn: 1899.0000 - accuracy: 0.8998 - precision: 0.8847 - recall: 0.9199 - auc: 0.9609 - val_loss: 0.5853 - val_tp: 2349.0000 - val_fp: 683.0000 - val_tn: 1948.0000 - val_fn: 274.0000 - val_accuracy: 0.8179 - val_precision: 0.7747 - val_recall: 0.8955 - val_auc: 0.8747\n",
      "Epoch 21/30\n"
     ]
    },
    {
     "name": "stdout",
     "output_type": "stream",
     "text": [
      "93/93 [==============================] - 1s 11ms/step - loss: 0.3306 - tp: 21774.0000 - fp: 2869.0000 - tn: 20720.0000 - fn: 1927.0000 - accuracy: 0.8986 - precision: 0.8836 - recall: 0.9187 - auc: 0.9613 - val_loss: 0.6032 - val_tp: 2347.0000 - val_fp: 710.0000 - val_tn: 1921.0000 - val_fn: 276.0000 - val_accuracy: 0.8123 - val_precision: 0.7677 - val_recall: 0.8948 - val_auc: 0.8705\n",
      "Epoch 22/30\n",
      "93/93 [==============================] - 1s 9ms/step - loss: 0.3300 - tp: 21857.0000 - fp: 2807.0000 - tn: 20782.0000 - fn: 1844.0000 - accuracy: 0.9016 - precision: 0.8862 - recall: 0.9222 - auc: 0.9618 - val_loss: 0.5887 - val_tp: 2331.0000 - val_fp: 663.0000 - val_tn: 1968.0000 - val_fn: 292.0000 - val_accuracy: 0.8182 - val_precision: 0.7786 - val_recall: 0.8887 - val_auc: 0.8737\n",
      "Epoch 23/30\n",
      "93/93 [==============================] - 1s 9ms/step - loss: 0.3297 - tp: 21780.0000 - fp: 2810.0000 - tn: 20779.0000 - fn: 1921.0000 - accuracy: 0.9000 - precision: 0.8857 - recall: 0.9189 - auc: 0.9620 - val_loss: 0.5971 - val_tp: 2349.0000 - val_fp: 698.0000 - val_tn: 1933.0000 - val_fn: 274.0000 - val_accuracy: 0.8150 - val_precision: 0.7709 - val_recall: 0.8955 - val_auc: 0.8735\n",
      "Epoch 24/30\n",
      "93/93 [==============================] - 1s 8ms/step - loss: 0.3236 - tp: 21839.0000 - fp: 2722.0000 - tn: 20867.0000 - fn: 1862.0000 - accuracy: 0.9031 - precision: 0.8892 - recall: 0.9214 - auc: 0.9639 - val_loss: 0.5991 - val_tp: 2349.0000 - val_fp: 686.0000 - val_tn: 1945.0000 - val_fn: 274.0000 - val_accuracy: 0.8173 - val_precision: 0.7740 - val_recall: 0.8955 - val_auc: 0.8736\n",
      "Epoch 25/30\n",
      "93/93 [==============================] - 1s 9ms/step - loss: 0.3251 - tp: 21817.0000 - fp: 2763.0000 - tn: 20826.0000 - fn: 1884.0000 - accuracy: 0.9017 - precision: 0.8876 - recall: 0.9205 - auc: 0.9638 - val_loss: 0.6004 - val_tp: 2365.0000 - val_fp: 690.0000 - val_tn: 1941.0000 - val_fn: 258.0000 - val_accuracy: 0.8196 - val_precision: 0.7741 - val_recall: 0.9016 - val_auc: 0.8735\n",
      "Epoch 26/30\n",
      "93/93 [==============================] - 1s 10ms/step - loss: 0.3229 - tp: 21869.0000 - fp: 2686.0000 - tn: 20903.0000 - fn: 1832.0000 - accuracy: 0.9045 - precision: 0.8906 - recall: 0.9227 - auc: 0.9648 - val_loss: 0.5971 - val_tp: 2350.0000 - val_fp: 663.0000 - val_tn: 1968.0000 - val_fn: 273.0000 - val_accuracy: 0.8219 - val_precision: 0.7800 - val_recall: 0.8959 - val_auc: 0.8752\n",
      "Epoch 27/30\n",
      "93/93 [==============================] - 1s 11ms/step - loss: 0.3223 - tp: 21848.0000 - fp: 2697.0000 - tn: 20892.0000 - fn: 1853.0000 - accuracy: 0.9038 - precision: 0.8901 - recall: 0.9218 - auc: 0.9646 - val_loss: 0.5964 - val_tp: 2355.0000 - val_fp: 643.0000 - val_tn: 1988.0000 - val_fn: 268.0000 - val_accuracy: 0.8266 - val_precision: 0.7855 - val_recall: 0.8978 - val_auc: 0.8766\n",
      "Epoch 28/30\n",
      "93/93 [==============================] - 1s 8ms/step - loss: 0.3203 - tp: 21884.0000 - fp: 2623.0000 - tn: 20966.0000 - fn: 1817.0000 - accuracy: 0.9061 - precision: 0.8930 - recall: 0.9233 - auc: 0.9655 - val_loss: 0.5926 - val_tp: 2328.0000 - val_fp: 627.0000 - val_tn: 2004.0000 - val_fn: 295.0000 - val_accuracy: 0.8245 - val_precision: 0.7878 - val_recall: 0.8875 - val_auc: 0.8777\n",
      "Epoch 29/30\n",
      "93/93 [==============================] - 1s 6ms/step - loss: 0.3167 - tp: 21898.0000 - fp: 2600.0000 - tn: 20989.0000 - fn: 1803.0000 - accuracy: 0.9069 - precision: 0.8939 - recall: 0.9239 - auc: 0.9667 - val_loss: 0.6019 - val_tp: 2383.0000 - val_fp: 689.0000 - val_tn: 1942.0000 - val_fn: 240.0000 - val_accuracy: 0.8232 - val_precision: 0.7757 - val_recall: 0.9085 - val_auc: 0.8772\n",
      "Epoch 30/30\n",
      "93/93 [==============================] - 1s 8ms/step - loss: 0.3143 - tp: 21936.0000 - fp: 2534.0000 - tn: 21055.0000 - fn: 1765.0000 - accuracy: 0.9091 - precision: 0.8964 - recall: 0.9255 - auc: 0.9675 - val_loss: 0.6054 - val_tp: 2361.0000 - val_fp: 642.0000 - val_tn: 1989.0000 - val_fn: 262.0000 - val_accuracy: 0.8279 - val_precision: 0.7862 - val_recall: 0.9001 - val_auc: 0.8770\n",
      "Wall time: 29.8 s\n"
     ]
    }
   ],
   "source": [
    "%%time\n",
    "train_hist = ncf_model.fit(ds_train, validation_data = ds_val, epochs =30, verbose=1)"
   ]
  },
  {
   "cell_type": "markdown",
   "metadata": {},
   "source": [
    "#### Prediction and evaluation"
   ]
  },
  {
   "cell_type": "markdown",
   "metadata": {},
   "source": [
    "**Make tf testing dataset** "
   ]
  },
  {
   "cell_type": "code",
   "execution_count": 114,
   "metadata": {
    "ExecuteTime": {
     "end_time": "2023-01-27T14:58:38.494419Z",
     "start_time": "2023-01-27T14:58:38.463165Z"
    }
   },
   "outputs": [],
   "source": [
    "ds_test, _ = make_tf_dataset(data_test[['Lbl_User-ID', 'Lbl_ISBN', 'Book-Rating']], [\"Book-Rating\"], val_split=0, seed=None)"
   ]
  },
  {
   "cell_type": "markdown",
   "metadata": {},
   "source": [
    "**Make the prediction**"
   ]
  },
  {
   "cell_type": "code",
   "execution_count": 115,
   "metadata": {
    "ExecuteTime": {
     "end_time": "2023-01-27T14:58:38.869387Z",
     "start_time": "2023-01-27T14:58:38.494419Z"
    }
   },
   "outputs": [
    {
     "name": "stdout",
     "output_type": "stream",
     "text": [
      "Wall time: 250 ms\n"
     ]
    },
    {
     "data": {
      "text/html": [
       "<div>\n",
       "<style scoped>\n",
       "    .dataframe tbody tr th:only-of-type {\n",
       "        vertical-align: middle;\n",
       "    }\n",
       "\n",
       "    .dataframe tbody tr th {\n",
       "        vertical-align: top;\n",
       "    }\n",
       "\n",
       "    .dataframe thead th {\n",
       "        text-align: right;\n",
       "    }\n",
       "</style>\n",
       "<table border=\"1\" class=\"dataframe\">\n",
       "  <thead>\n",
       "    <tr style=\"text-align: right;\">\n",
       "      <th></th>\n",
       "      <th>User-ID</th>\n",
       "      <th>ISBN</th>\n",
       "      <th>Lbl_User-ID</th>\n",
       "      <th>Lbl_ISBN</th>\n",
       "      <th>Book-Rating</th>\n",
       "      <th>ncf_predictions</th>\n",
       "    </tr>\n",
       "  </thead>\n",
       "  <tbody>\n",
       "    <tr>\n",
       "      <th>30229</th>\n",
       "      <td>183196</td>\n",
       "      <td>074343627X</td>\n",
       "      <td>309</td>\n",
       "      <td>603</td>\n",
       "      <td>0</td>\n",
       "      <td>0.734587</td>\n",
       "    </tr>\n",
       "    <tr>\n",
       "      <th>22168</th>\n",
       "      <td>133689</td>\n",
       "      <td>0312278586</td>\n",
       "      <td>123</td>\n",
       "      <td>58</td>\n",
       "      <td>0</td>\n",
       "      <td>0.602596</td>\n",
       "    </tr>\n",
       "    <tr>\n",
       "      <th>30823</th>\n",
       "      <td>187145</td>\n",
       "      <td>0804111359</td>\n",
       "      <td>317</td>\n",
       "      <td>621</td>\n",
       "      <td>0</td>\n",
       "      <td>0.062038</td>\n",
       "    </tr>\n",
       "    <tr>\n",
       "      <th>12649</th>\n",
       "      <td>77809</td>\n",
       "      <td>068484267X</td>\n",
       "      <td>717</td>\n",
       "      <td>586</td>\n",
       "      <td>0</td>\n",
       "      <td>0.646334</td>\n",
       "    </tr>\n",
       "    <tr>\n",
       "      <th>7206</th>\n",
       "      <td>39616</td>\n",
       "      <td>0449221512</td>\n",
       "      <td>610</td>\n",
       "      <td>395</td>\n",
       "      <td>0</td>\n",
       "      <td>0.218145</td>\n",
       "    </tr>\n",
       "  </tbody>\n",
       "</table>\n",
       "</div>"
      ],
      "text/plain": [
       "      User-ID        ISBN  Lbl_User-ID  Lbl_ISBN  Book-Rating  ncf_predictions\n",
       "30229  183196  074343627X          309       603            0         0.734587\n",
       "22168  133689  0312278586          123        58            0         0.602596\n",
       "30823  187145  0804111359          317       621            0         0.062038\n",
       "12649   77809  068484267X          717       586            0         0.646334\n",
       "7206    39616  0449221512          610       395            0         0.218145"
      ]
     },
     "execution_count": 115,
     "metadata": {},
     "output_type": "execute_result"
    }
   ],
   "source": [
    "%%time\n",
    "ncf_predictions = ncf_model.predict(ds_test)\n",
    "data_test[\"ncf_predictions\"] = ncf_predictions\n",
    "data_test.head()"
   ]
  },
  {
   "cell_type": "markdown",
   "metadata": {},
   "source": [
    "**Delete duplicates**"
   ]
  },
  {
   "cell_type": "code",
   "execution_count": 116,
   "metadata": {
    "ExecuteTime": {
     "end_time": "2023-01-27T14:58:38.900636Z",
     "start_time": "2023-01-27T14:58:38.869387Z"
    }
   },
   "outputs": [
    {
     "data": {
      "text/plain": [
       "1679"
      ]
     },
     "execution_count": 116,
     "metadata": {},
     "output_type": "execute_result"
    }
   ],
   "source": [
    "len(data_test[data_test.duplicated(subset=['Lbl_User-ID','Lbl_ISBN'])])"
   ]
  },
  {
   "cell_type": "code",
   "execution_count": 117,
   "metadata": {
    "ExecuteTime": {
     "end_time": "2023-01-27T14:58:39.009107Z",
     "start_time": "2023-01-27T14:58:38.900636Z"
    }
   },
   "outputs": [],
   "source": [
    "df_test = data_test.drop_duplicates(subset=['User-ID','ISBN'])"
   ]
  },
  {
   "cell_type": "code",
   "execution_count": 118,
   "metadata": {
    "ExecuteTime": {
     "end_time": "2023-01-27T14:58:39.118466Z",
     "start_time": "2023-01-27T14:58:39.009107Z"
    }
   },
   "outputs": [
    {
     "name": "stderr",
     "output_type": "stream",
     "text": [
      "<ipython-input-118-ba594d1da762>:1: UserWarning: Boolean Series key will be reindexed to match DataFrame index.\n",
      "  len(df_test[data_test.duplicated(subset=['Lbl_User-ID','Lbl_ISBN'])])\n"
     ]
    },
    {
     "data": {
      "text/plain": [
       "0"
      ]
     },
     "execution_count": 118,
     "metadata": {},
     "output_type": "execute_result"
    }
   ],
   "source": [
    "len(df_test[data_test.duplicated(subset=['Lbl_User-ID','Lbl_ISBN'])])"
   ]
  },
  {
   "cell_type": "markdown",
   "metadata": {},
   "source": [
    "**Compute Precision and Recall metrics**"
   ]
  },
  {
   "cell_type": "code",
   "execution_count": 119,
   "metadata": {
    "ExecuteTime": {
     "end_time": "2023-01-27T14:58:39.227834Z",
     "start_time": "2023-01-27T14:58:39.118466Z"
    }
   },
   "outputs": [
    {
     "name": "stdout",
     "output_type": "stream",
     "text": [
      "We have a precision of 0.8235294\n"
     ]
    }
   ],
   "source": [
    "from tensorflow.keras.metrics import Precision, Recall\n",
    "from sklearn.metrics import average_precision_score\n",
    "\n",
    "Precision = Precision(top_k=17)\n",
    "#Recall = Recall(top_k=10)\n",
    "\n",
    "Precision.update_state(df_test[\"Book-Rating\"], df_test[\"ncf_predictions\"])\n",
    "#Recall.update_state(df_test[\"Book-Rating\"], df_test[\"ncf_predictions\"])\n",
    "\n",
    "print(\"We have a precision of\",  Precision.result().numpy())#, \"and a recall of\", Recall.result().numpy(), average_precision_score(df_test[\"Book-Rating\"], df_test[\"ncf_predictions\"]))"
   ]
  },
  {
   "cell_type": "markdown",
   "metadata": {},
   "source": [
    "**Εquate predictions to 1 if it is grater than 0.5 or else to 0** "
   ]
  },
  {
   "cell_type": "code",
   "execution_count": 120,
   "metadata": {
    "ExecuteTime": {
     "end_time": "2023-01-27T14:58:39.337200Z",
     "start_time": "2023-01-27T14:58:39.227834Z"
    }
   },
   "outputs": [
    {
     "name": "stdout",
     "output_type": "stream",
     "text": [
      "1    6105\n",
      "0    5352\n",
      "Name: ncf_predictions_dummy, dtype: int64\n"
     ]
    },
    {
     "name": "stderr",
     "output_type": "stream",
     "text": [
      "<ipython-input-120-f7aab431bd59>:1: SettingWithCopyWarning: \n",
      "A value is trying to be set on a copy of a slice from a DataFrame.\n",
      "Try using .loc[row_indexer,col_indexer] = value instead\n",
      "\n",
      "See the caveats in the documentation: https://pandas.pydata.org/pandas-docs/stable/user_guide/indexing.html#returning-a-view-versus-a-copy\n",
      "  df_test['ncf_predictions_dummy'] = df_test['ncf_predictions'].apply(lambda rating : +1 if rating >= 0.5 else 0)\n"
     ]
    },
    {
     "data": {
      "text/html": [
       "<div>\n",
       "<style scoped>\n",
       "    .dataframe tbody tr th:only-of-type {\n",
       "        vertical-align: middle;\n",
       "    }\n",
       "\n",
       "    .dataframe tbody tr th {\n",
       "        vertical-align: top;\n",
       "    }\n",
       "\n",
       "    .dataframe thead th {\n",
       "        text-align: right;\n",
       "    }\n",
       "</style>\n",
       "<table border=\"1\" class=\"dataframe\">\n",
       "  <thead>\n",
       "    <tr style=\"text-align: right;\">\n",
       "      <th></th>\n",
       "      <th>User-ID</th>\n",
       "      <th>ISBN</th>\n",
       "      <th>Lbl_User-ID</th>\n",
       "      <th>Lbl_ISBN</th>\n",
       "      <th>Book-Rating</th>\n",
       "      <th>ncf_predictions</th>\n",
       "      <th>ncf_predictions_dummy</th>\n",
       "    </tr>\n",
       "  </thead>\n",
       "  <tbody>\n",
       "    <tr>\n",
       "      <th>30229</th>\n",
       "      <td>183196</td>\n",
       "      <td>074343627X</td>\n",
       "      <td>309</td>\n",
       "      <td>603</td>\n",
       "      <td>0</td>\n",
       "      <td>0.734587</td>\n",
       "      <td>1</td>\n",
       "    </tr>\n",
       "    <tr>\n",
       "      <th>22168</th>\n",
       "      <td>133689</td>\n",
       "      <td>0312278586</td>\n",
       "      <td>123</td>\n",
       "      <td>58</td>\n",
       "      <td>0</td>\n",
       "      <td>0.602596</td>\n",
       "      <td>1</td>\n",
       "    </tr>\n",
       "    <tr>\n",
       "      <th>30823</th>\n",
       "      <td>187145</td>\n",
       "      <td>0804111359</td>\n",
       "      <td>317</td>\n",
       "      <td>621</td>\n",
       "      <td>0</td>\n",
       "      <td>0.062038</td>\n",
       "      <td>0</td>\n",
       "    </tr>\n",
       "    <tr>\n",
       "      <th>12649</th>\n",
       "      <td>77809</td>\n",
       "      <td>068484267X</td>\n",
       "      <td>717</td>\n",
       "      <td>586</td>\n",
       "      <td>0</td>\n",
       "      <td>0.646334</td>\n",
       "      <td>1</td>\n",
       "    </tr>\n",
       "    <tr>\n",
       "      <th>7206</th>\n",
       "      <td>39616</td>\n",
       "      <td>0449221512</td>\n",
       "      <td>610</td>\n",
       "      <td>395</td>\n",
       "      <td>0</td>\n",
       "      <td>0.218145</td>\n",
       "      <td>0</td>\n",
       "    </tr>\n",
       "  </tbody>\n",
       "</table>\n",
       "</div>"
      ],
      "text/plain": [
       "      User-ID        ISBN  Lbl_User-ID  Lbl_ISBN  Book-Rating  \\\n",
       "30229  183196  074343627X          309       603            0   \n",
       "22168  133689  0312278586          123        58            0   \n",
       "30823  187145  0804111359          317       621            0   \n",
       "12649   77809  068484267X          717       586            0   \n",
       "7206    39616  0449221512          610       395            0   \n",
       "\n",
       "       ncf_predictions  ncf_predictions_dummy  \n",
       "30229         0.734587                      1  \n",
       "22168         0.602596                      1  \n",
       "30823         0.062038                      0  \n",
       "12649         0.646334                      1  \n",
       "7206          0.218145                      0  "
      ]
     },
     "execution_count": 120,
     "metadata": {},
     "output_type": "execute_result"
    }
   ],
   "source": [
    "df_test['ncf_predictions_dummy'] = df_test['ncf_predictions'].apply(lambda rating : +1 if rating >= 0.5 else 0)\n",
    "print(df_test['ncf_predictions_dummy'].value_counts())\n",
    "df_test.head()"
   ]
  },
  {
   "cell_type": "markdown",
   "metadata": {},
   "source": [
    "**Compute the accuracy score**"
   ]
  },
  {
   "cell_type": "code",
   "execution_count": 121,
   "metadata": {
    "ExecuteTime": {
     "end_time": "2023-01-27T14:58:39.430956Z",
     "start_time": "2023-01-27T14:58:39.337200Z"
    },
    "scrolled": true
   },
   "outputs": [
    {
     "name": "stdout",
     "output_type": "stream",
     "text": [
      "We have an accuracy score of 0.7854586715545082\n"
     ]
    }
   ],
   "source": [
    "from sklearn.metrics import accuracy_score\n",
    "\n",
    "print(\"We have an accuracy score of\", accuracy_score(df_test[\"Book-Rating\"], df_test[\"ncf_predictions_dummy\"]))"
   ]
  },
  {
   "cell_type": "markdown",
   "metadata": {},
   "source": [
    "**Make an example recommendation**"
   ]
  },
  {
   "cell_type": "code",
   "execution_count": 122,
   "metadata": {
    "ExecuteTime": {
     "end_time": "2023-01-27T14:58:39.540311Z",
     "start_time": "2023-01-27T14:58:39.430956Z"
    },
    "scrolled": true
   },
   "outputs": [
    {
     "data": {
      "text/html": [
       "<div>\n",
       "<style scoped>\n",
       "    .dataframe tbody tr th:only-of-type {\n",
       "        vertical-align: middle;\n",
       "    }\n",
       "\n",
       "    .dataframe tbody tr th {\n",
       "        vertical-align: top;\n",
       "    }\n",
       "\n",
       "    .dataframe thead th {\n",
       "        text-align: right;\n",
       "    }\n",
       "</style>\n",
       "<table border=\"1\" class=\"dataframe\">\n",
       "  <thead>\n",
       "    <tr style=\"text-align: right;\">\n",
       "      <th></th>\n",
       "      <th>User-ID</th>\n",
       "      <th>ISBN</th>\n",
       "      <th>Lbl_User-ID</th>\n",
       "      <th>Lbl_ISBN</th>\n",
       "      <th>Book-Rating</th>\n",
       "      <th>ncf_predictions</th>\n",
       "      <th>ncf_predictions_dummy</th>\n",
       "    </tr>\n",
       "  </thead>\n",
       "  <tbody>\n",
       "    <tr>\n",
       "      <th>62454</th>\n",
       "      <td>168064</td>\n",
       "      <td>0446602213</td>\n",
       "      <td>248</td>\n",
       "      <td>349</td>\n",
       "      <td>1</td>\n",
       "      <td>0.942224</td>\n",
       "      <td>1</td>\n",
       "    </tr>\n",
       "    <tr>\n",
       "      <th>50399</th>\n",
       "      <td>168064</td>\n",
       "      <td>0786817070</td>\n",
       "      <td>248</td>\n",
       "      <td>610</td>\n",
       "      <td>1</td>\n",
       "      <td>0.933502</td>\n",
       "      <td>1</td>\n",
       "    </tr>\n",
       "    <tr>\n",
       "      <th>42395</th>\n",
       "      <td>168064</td>\n",
       "      <td>0805063897</td>\n",
       "      <td>248</td>\n",
       "      <td>626</td>\n",
       "      <td>1</td>\n",
       "      <td>0.917930</td>\n",
       "      <td>1</td>\n",
       "    </tr>\n",
       "    <tr>\n",
       "      <th>27721</th>\n",
       "      <td>168064</td>\n",
       "      <td>0385335482</td>\n",
       "      <td>248</td>\n",
       "      <td>194</td>\n",
       "      <td>0</td>\n",
       "      <td>0.901821</td>\n",
       "      <td>1</td>\n",
       "    </tr>\n",
       "    <tr>\n",
       "      <th>27776</th>\n",
       "      <td>168064</td>\n",
       "      <td>0786868716</td>\n",
       "      <td>248</td>\n",
       "      <td>612</td>\n",
       "      <td>1</td>\n",
       "      <td>0.892277</td>\n",
       "      <td>1</td>\n",
       "    </tr>\n",
       "  </tbody>\n",
       "</table>\n",
       "</div>"
      ],
      "text/plain": [
       "      User-ID        ISBN  Lbl_User-ID  Lbl_ISBN  Book-Rating  \\\n",
       "62454  168064  0446602213          248       349            1   \n",
       "50399  168064  0786817070          248       610            1   \n",
       "42395  168064  0805063897          248       626            1   \n",
       "27721  168064  0385335482          248       194            0   \n",
       "27776  168064  0786868716          248       612            1   \n",
       "\n",
       "       ncf_predictions  ncf_predictions_dummy  \n",
       "62454         0.942224                      1  \n",
       "50399         0.933502                      1  \n",
       "42395         0.917930                      1  \n",
       "27721         0.901821                      1  \n",
       "27776         0.892277                      1  "
      ]
     },
     "execution_count": 122,
     "metadata": {},
     "output_type": "execute_result"
    }
   ],
   "source": [
    "#Pick a random author\n",
    "smpl = df_test.sample()\n",
    "#Find his predictions\n",
    "author_pred = df_test.loc[data_test['User-ID'] == smpl.iloc[0]['User-ID']]\n",
    "#Sort them by ncf_prediction from largest to smallest.\n",
    "recommendation = author_pred.sort_values(by=['ncf_predictions'], ascending=False)\n",
    "#Make the 5 most likely to like recommendations\n",
    "recommendation.head()"
   ]
  },
  {
   "cell_type": "markdown",
   "metadata": {},
   "source": [
    "### MF-LSTM model"
   ]
  },
  {
   "cell_type": "markdown",
   "metadata": {
    "ExecuteTime": {
     "end_time": "2022-10-07T17:05:04.024046Z",
     "start_time": "2022-10-07T17:05:04.008034Z"
    }
   },
   "source": [
    "#### Model Construction"
   ]
  },
  {
   "cell_type": "markdown",
   "metadata": {},
   "source": [
    "**Define the model**"
   ]
  },
  {
   "cell_type": "code",
   "execution_count": 123,
   "metadata": {
    "ExecuteTime": {
     "end_time": "2023-01-27T14:58:39.618444Z",
     "start_time": "2023-01-27T14:58:39.540311Z"
    }
   },
   "outputs": [],
   "source": [
    "def create_ncf2(\n",
    "    number_of_users: int,\n",
    "    number_of_items: int,\n",
    "    latent_dim_mf: int = 4,\n",
    "    latent_dim_lstm: int = 32,\n",
    "    reg_mf: int = 0,\n",
    "    reg_lstm: int = 0.01,\n",
    "    dense_layers: List[int] = [8, 4],\n",
    "    reg_layers: List[int] = [0.01, 0.01],\n",
    "    activation_dense: str = \"relu\",\n",
    ") -> keras.Model:\n",
    "\n",
    "    # input layer\n",
    "    user = Input(shape=(1,), name=\"Lbl_User-ID\")\n",
    "    item = Input(shape=(1,), name=\"Lbl_ISBN\")\n",
    "\n",
    "    # embedding layers\n",
    "    mf_user_embedding = Embedding(input_dim = number_of_users, output_dim = latent_dim_mf, name = \"mf_user_embedding\", \n",
    "        embeddings_initializer = \"RandomNormal\", embeddings_regularizer = l2(reg_mf), input_length = 1)\n",
    "    mf_item_embedding = Embedding(input_dim = number_of_items, output_dim = latent_dim_mf, name = \"mf_item_embedding\",\n",
    "        embeddings_initializer = \"RandomNormal\", embeddings_regularizer = l2(reg_mf), input_length = 1)\n",
    "\n",
    "    lstm_user_embedding = Embedding(input_dim = number_of_users, output_dim = latent_dim_lstm, name = \"lstm_user_embedding\",\n",
    "        embeddings_initializer = \"RandomNormal\", embeddings_regularizer = l2(reg_lstm), input_length = 1)\n",
    "    lstm_item_embedding = Embedding(input_dim = number_of_items, output_dim = latent_dim_lstm, name = \"lstm_item_embedding\",\n",
    "        embeddings_initializer = \"RandomNormal\", embeddings_regularizer = l2(reg_lstm), input_length = 1)\n",
    "    \n",
    "    # MF vector\n",
    "    mf_user_latent = Flatten()(mf_user_embedding(user))\n",
    "    mf_item_latent = Flatten()(mf_item_embedding(item))\n",
    "    mf_cat_latent = Multiply()([mf_user_latent, mf_item_latent])\n",
    "\n",
    "    # LSTM vector\n",
    "    lstm_user_latent = Flatten()(lstm_user_embedding(user))\n",
    "    lstm_item_latent = Flatten()(lstm_item_embedding(item))\n",
    "    nn = Concatenate()([lstm_user_latent, lstm_item_latent])\n",
    "    lstm_cat_latent = Reshape((1, latent_dim_lstm * 2), input_shape=(latent_dim_lstm * 2,))(nn)\n",
    "    \n",
    "    lstm1 = LSTM(name=\"LSTM1\", units=latent_dim_lstm, activation='relu')(lstm_cat_latent)\n",
    "    lstm1 = Dropout(0.3)(lstm1)\n",
    "    lstm2 = LSTM(name=\"LSTM2\", units=latent_dim_lstm, activation='relu')(lstm_cat_latent)\n",
    "    lstm2 = Dropout(0.3)(lstm2)\n",
    "    lstm3 = LSTM(name=\"LSTM3\", units=latent_dim_lstm, activation='relu')(lstm_cat_latent)\n",
    "    lstm3 = Dropout(0.3)(lstm3)\n",
    "    lstm4 = LSTM(name=\"LSTM4\", units=latent_dim_lstm, activation='relu')(lstm_cat_latent)\n",
    "    lstm4 = Dropout(0.3)(lstm4)\n",
    "    \n",
    "    output = Concatenate()([lstm1, lstm2, lstm3, lstm4])\n",
    "    \n",
    "    output = Dense(units=int(latent_dim_lstm / 2), activation='relu')(output)\n",
    "    output = Dropout(.3)(output)\n",
    "    lstm_vector = Reshape((int(latent_dim_lstm / 2),), input_shape=(1, int(latent_dim_lstm / 2)))(output) \n",
    "    \n",
    "    predict_layer = Concatenate()([mf_cat_latent, lstm_vector])\n",
    "\n",
    "    result = Dense(1, activation = \"sigmoid\", kernel_initializer = \"lecun_uniform\", name = \"Book-Rating\")\n",
    "\n",
    "    output = result(predict_layer)\n",
    "\n",
    "    model = Model(inputs = [user, item], outputs = [output])\n",
    "\n",
    "    return model"
   ]
  },
  {
   "cell_type": "markdown",
   "metadata": {},
   "source": [
    "**Create and compile the model**"
   ]
  },
  {
   "cell_type": "code",
   "execution_count": 124,
   "metadata": {
    "ExecuteTime": {
     "end_time": "2023-01-27T14:58:40.274647Z",
     "start_time": "2023-01-27T14:58:39.618444Z"
    }
   },
   "outputs": [
    {
     "name": "stdout",
     "output_type": "stream",
     "text": [
      "Model: \"neural_collaborative_filtering\"\n",
      "__________________________________________________________________________________________________\n",
      " Layer (type)                   Output Shape         Param #     Connected to                     \n",
      "==================================================================================================\n",
      " Lbl_User-ID (InputLayer)       [(None, 1)]          0           []                               \n",
      "                                                                                                  \n",
      " Lbl_ISBN (InputLayer)          [(None, 1)]          0           []                               \n",
      "                                                                                                  \n",
      " lstm_user_embedding (Embedding  (None, 1, 32)       25568       ['Lbl_User-ID[0][0]']            \n",
      " )                                                                                                \n",
      "                                                                                                  \n",
      " lstm_item_embedding (Embedding  (None, 1, 32)       20928       ['Lbl_ISBN[0][0]']               \n",
      " )                                                                                                \n",
      "                                                                                                  \n",
      " flatten_26 (Flatten)           (None, 32)           0           ['lstm_user_embedding[0][0]']    \n",
      "                                                                                                  \n",
      " flatten_27 (Flatten)           (None, 32)           0           ['lstm_item_embedding[0][0]']    \n",
      "                                                                                                  \n",
      " concatenate_14 (Concatenate)   (None, 64)           0           ['flatten_26[0][0]',             \n",
      "                                                                  'flatten_27[0][0]']             \n",
      "                                                                                                  \n",
      " reshape_4 (Reshape)            (None, 1, 64)        0           ['concatenate_14[0][0]']         \n",
      "                                                                                                  \n",
      " LSTM1 (LSTM)                   (None, 32)           12416       ['reshape_4[0][0]']              \n",
      "                                                                                                  \n",
      " LSTM2 (LSTM)                   (None, 32)           12416       ['reshape_4[0][0]']              \n",
      "                                                                                                  \n",
      " LSTM3 (LSTM)                   (None, 32)           12416       ['reshape_4[0][0]']              \n",
      "                                                                                                  \n",
      " LSTM4 (LSTM)                   (None, 32)           12416       ['reshape_4[0][0]']              \n",
      "                                                                                                  \n",
      " dropout_14 (Dropout)           (None, 32)           0           ['LSTM1[0][0]']                  \n",
      "                                                                                                  \n",
      " dropout_15 (Dropout)           (None, 32)           0           ['LSTM2[0][0]']                  \n",
      "                                                                                                  \n",
      " dropout_16 (Dropout)           (None, 32)           0           ['LSTM3[0][0]']                  \n",
      "                                                                                                  \n",
      " dropout_17 (Dropout)           (None, 32)           0           ['LSTM4[0][0]']                  \n",
      "                                                                                                  \n",
      " concatenate_15 (Concatenate)   (None, 128)          0           ['dropout_14[0][0]',             \n",
      "                                                                  'dropout_15[0][0]',             \n",
      "                                                                  'dropout_16[0][0]',             \n",
      "                                                                  'dropout_17[0][0]']             \n",
      "                                                                                                  \n",
      " mf_user_embedding (Embedding)  (None, 1, 4)         3196        ['Lbl_User-ID[0][0]']            \n",
      "                                                                                                  \n",
      " mf_item_embedding (Embedding)  (None, 1, 4)         2616        ['Lbl_ISBN[0][0]']               \n",
      "                                                                                                  \n",
      " dense_2 (Dense)                (None, 16)           2064        ['concatenate_15[0][0]']         \n",
      "                                                                                                  \n",
      " flatten_24 (Flatten)           (None, 4)            0           ['mf_user_embedding[0][0]']      \n",
      "                                                                                                  \n",
      " flatten_25 (Flatten)           (None, 4)            0           ['mf_item_embedding[0][0]']      \n",
      "                                                                                                  \n",
      " dropout_18 (Dropout)           (None, 16)           0           ['dense_2[0][0]']                \n",
      "                                                                                                  \n",
      " multiply_6 (Multiply)          (None, 4)            0           ['flatten_24[0][0]',             \n",
      "                                                                  'flatten_25[0][0]']             \n",
      "                                                                                                  \n",
      " reshape_5 (Reshape)            (None, 16)           0           ['dropout_18[0][0]']             \n",
      "                                                                                                  \n",
      " concatenate_16 (Concatenate)   (None, 20)           0           ['multiply_6[0][0]',             \n",
      "                                                                  'reshape_5[0][0]']              \n",
      "                                                                                                  \n",
      " Book-Rating (Dense)            (None, 1)            21          ['concatenate_16[0][0]']         \n",
      "                                                                                                  \n",
      "==================================================================================================\n",
      "Total params: 104,057\n",
      "Trainable params: 104,057\n",
      "Non-trainable params: 0\n",
      "__________________________________________________________________________________________________\n"
     ]
    }
   ],
   "source": [
    "from tensorflow.keras.optimizers import Adam\n",
    "\n",
    "n_users = data['Lbl_User-ID'].nunique()\n",
    "n_items = data['Lbl_ISBN'].nunique()\n",
    "\n",
    "ncf2_model = create_ncf2(n_users, n_items)\n",
    "\n",
    "ncf2_model.compile(optimizer = Adam(), loss = \"binary_crossentropy\",\n",
    "    metrics=[\n",
    "        tf.keras.metrics.TruePositives(name=\"tp\"),\n",
    "        tf.keras.metrics.FalsePositives(name=\"fp\"),\n",
    "        tf.keras.metrics.TrueNegatives(name=\"tn\"),\n",
    "        tf.keras.metrics.FalseNegatives(name=\"fn\"),\n",
    "        tf.keras.metrics.BinaryAccuracy(name=\"accuracy\"),\n",
    "        tf.keras.metrics.Precision(name=\"precision\"),\n",
    "        tf.keras.metrics.Recall(name=\"recall\"),\n",
    "        tf.keras.metrics.AUC(name=\"auc\"),\n",
    "    ],\n",
    ")\n",
    "ncf2_model._name = \"neural_collaborative_filtering\"\n",
    "ncf2_model.summary()"
   ]
  },
  {
   "cell_type": "markdown",
   "metadata": {},
   "source": [
    "**Fit the model**"
   ]
  },
  {
   "cell_type": "code",
   "execution_count": 135,
   "metadata": {
    "ExecuteTime": {
     "end_time": "2023-01-27T15:06:34.809141Z",
     "start_time": "2023-01-27T15:05:40.290208Z"
    }
   },
   "outputs": [
    {
     "name": "stdout",
     "output_type": "stream",
     "text": [
      "Epoch 1/30\n",
      "93/93 [==============================] - 2s 19ms/step - loss: 0.2582 - tp: 22341.0000 - fp: 1990.0000 - tn: 21599.0000 - fn: 1360.0000 - accuracy: 0.9292 - precision: 0.9182 - recall: 0.9426 - auc: 0.9787 - val_loss: 0.6537 - val_tp: 2376.0000 - val_fp: 624.0000 - val_tn: 2007.0000 - val_fn: 247.0000 - val_accuracy: 0.8342 - val_precision: 0.7920 - val_recall: 0.9058 - val_auc: 0.8839\n",
      "Epoch 2/30\n",
      "93/93 [==============================] - 2s 19ms/step - loss: 0.2535 - tp: 22386.0000 - fp: 1931.0000 - tn: 21658.0000 - fn: 1315.0000 - accuracy: 0.9314 - precision: 0.9206 - recall: 0.9445 - auc: 0.9798 - val_loss: 0.6545 - val_tp: 2369.0000 - val_fp: 611.0000 - val_tn: 2020.0000 - val_fn: 254.0000 - val_accuracy: 0.8354 - val_precision: 0.7950 - val_recall: 0.9032 - val_auc: 0.8850\n",
      "Epoch 3/30\n",
      "93/93 [==============================] - 2s 20ms/step - loss: 0.2541 - tp: 22400.0000 - fp: 1954.0000 - tn: 21635.0000 - fn: 1301.0000 - accuracy: 0.9312 - precision: 0.9198 - recall: 0.9451 - auc: 0.9798 - val_loss: 0.6566 - val_tp: 2377.0000 - val_fp: 599.0000 - val_tn: 2032.0000 - val_fn: 246.0000 - val_accuracy: 0.8392 - val_precision: 0.7987 - val_recall: 0.9062 - val_auc: 0.8821\n",
      "Epoch 4/30\n",
      "93/93 [==============================] - 2s 19ms/step - loss: 0.2528 - tp: 22378.0000 - fp: 1957.0000 - tn: 21632.0000 - fn: 1323.0000 - accuracy: 0.9306 - precision: 0.9196 - recall: 0.9442 - auc: 0.9803 - val_loss: 0.6650 - val_tp: 2373.0000 - val_fp: 590.0000 - val_tn: 2041.0000 - val_fn: 250.0000 - val_accuracy: 0.8401 - val_precision: 0.8009 - val_recall: 0.9047 - val_auc: 0.8821\n",
      "Epoch 5/30\n",
      "93/93 [==============================] - 2s 19ms/step - loss: 0.2500 - tp: 22399.0000 - fp: 1917.0000 - tn: 21672.0000 - fn: 1302.0000 - accuracy: 0.9319 - precision: 0.9212 - recall: 0.9451 - auc: 0.9807 - val_loss: 0.6661 - val_tp: 2361.0000 - val_fp: 590.0000 - val_tn: 2041.0000 - val_fn: 262.0000 - val_accuracy: 0.8378 - val_precision: 0.8001 - val_recall: 0.9001 - val_auc: 0.8816\n",
      "Epoch 6/30\n",
      "93/93 [==============================] - 2s 18ms/step - loss: 0.2545 - tp: 22336.0000 - fp: 1979.0000 - tn: 21610.0000 - fn: 1365.0000 - accuracy: 0.9293 - precision: 0.9186 - recall: 0.9424 - auc: 0.9799 - val_loss: 0.6563 - val_tp: 2375.0000 - val_fp: 581.0000 - val_tn: 2050.0000 - val_fn: 248.0000 - val_accuracy: 0.8422 - val_precision: 0.8035 - val_recall: 0.9055 - val_auc: 0.8854\n",
      "Epoch 7/30\n",
      "93/93 [==============================] - 2s 19ms/step - loss: 0.2549 - tp: 22328.0000 - fp: 1888.0000 - tn: 21701.0000 - fn: 1373.0000 - accuracy: 0.9310 - precision: 0.9220 - recall: 0.9421 - auc: 0.9800 - val_loss: 0.6629 - val_tp: 2367.0000 - val_fp: 603.0000 - val_tn: 2028.0000 - val_fn: 256.0000 - val_accuracy: 0.8365 - val_precision: 0.7970 - val_recall: 0.9024 - val_auc: 0.8822\n",
      "Epoch 8/30\n",
      "93/93 [==============================] - 2s 19ms/step - loss: 0.2519 - tp: 22395.0000 - fp: 1900.0000 - tn: 21689.0000 - fn: 1306.0000 - accuracy: 0.9322 - precision: 0.9218 - recall: 0.9449 - auc: 0.9807 - val_loss: 0.6572 - val_tp: 2374.0000 - val_fp: 608.0000 - val_tn: 2023.0000 - val_fn: 249.0000 - val_accuracy: 0.8369 - val_precision: 0.7961 - val_recall: 0.9051 - val_auc: 0.8835\n",
      "Epoch 9/30\n",
      "93/93 [==============================] - 2s 19ms/step - loss: 0.2501 - tp: 22399.0000 - fp: 1847.0000 - tn: 21742.0000 - fn: 1302.0000 - accuracy: 0.9334 - precision: 0.9238 - recall: 0.9451 - auc: 0.9810 - val_loss: 0.6612 - val_tp: 2365.0000 - val_fp: 607.0000 - val_tn: 2024.0000 - val_fn: 258.0000 - val_accuracy: 0.8354 - val_precision: 0.7958 - val_recall: 0.9016 - val_auc: 0.8838\n",
      "Epoch 10/30\n",
      "93/93 [==============================] - 2s 19ms/step - loss: 0.2492 - tp: 22389.0000 - fp: 1862.0000 - tn: 21727.0000 - fn: 1312.0000 - accuracy: 0.9329 - precision: 0.9232 - recall: 0.9446 - auc: 0.9812 - val_loss: 0.6741 - val_tp: 2379.0000 - val_fp: 617.0000 - val_tn: 2014.0000 - val_fn: 244.0000 - val_accuracy: 0.8361 - val_precision: 0.7941 - val_recall: 0.9070 - val_auc: 0.8814\n",
      "Epoch 11/30\n",
      "93/93 [==============================] - 2s 21ms/step - loss: 0.2472 - tp: 22418.0000 - fp: 1880.0000 - tn: 21709.0000 - fn: 1283.0000 - accuracy: 0.9331 - precision: 0.9226 - recall: 0.9459 - auc: 0.9816 - val_loss: 0.6653 - val_tp: 2381.0000 - val_fp: 612.0000 - val_tn: 2019.0000 - val_fn: 242.0000 - val_accuracy: 0.8375 - val_precision: 0.7955 - val_recall: 0.9077 - val_auc: 0.8831\n",
      "Epoch 12/30\n",
      "93/93 [==============================] - 2s 22ms/step - loss: 0.2478 - tp: 22422.0000 - fp: 1860.0000 - tn: 21729.0000 - fn: 1279.0000 - accuracy: 0.9336 - precision: 0.9234 - recall: 0.9460 - auc: 0.9815 - val_loss: 0.6633 - val_tp: 2396.0000 - val_fp: 605.0000 - val_tn: 2026.0000 - val_fn: 227.0000 - val_accuracy: 0.8416 - val_precision: 0.7984 - val_recall: 0.9135 - val_auc: 0.8846\n",
      "Epoch 13/30\n",
      "93/93 [==============================] - 2s 20ms/step - loss: 0.2510 - tp: 22337.0000 - fp: 1859.0000 - tn: 21730.0000 - fn: 1364.0000 - accuracy: 0.9318 - precision: 0.9232 - recall: 0.9424 - auc: 0.9810 - val_loss: 0.6641 - val_tp: 2383.0000 - val_fp: 622.0000 - val_tn: 2009.0000 - val_fn: 240.0000 - val_accuracy: 0.8359 - val_precision: 0.7930 - val_recall: 0.9085 - val_auc: 0.8852\n",
      "Epoch 14/30\n",
      "93/93 [==============================] - 2s 21ms/step - loss: 0.2469 - tp: 22440.0000 - fp: 1813.0000 - tn: 21776.0000 - fn: 1261.0000 - accuracy: 0.9350 - precision: 0.9252 - recall: 0.9468 - auc: 0.9818 - val_loss: 0.6681 - val_tp: 2374.0000 - val_fp: 604.0000 - val_tn: 2027.0000 - val_fn: 249.0000 - val_accuracy: 0.8376 - val_precision: 0.7972 - val_recall: 0.9051 - val_auc: 0.8865\n",
      "Epoch 15/30\n",
      "93/93 [==============================] - 2s 22ms/step - loss: 0.2444 - tp: 22429.0000 - fp: 1793.0000 - tn: 21796.0000 - fn: 1272.0000 - accuracy: 0.9352 - precision: 0.9260 - recall: 0.9463 - auc: 0.9823 - val_loss: 0.6715 - val_tp: 2389.0000 - val_fp: 618.0000 - val_tn: 2013.0000 - val_fn: 234.0000 - val_accuracy: 0.8378 - val_precision: 0.7945 - val_recall: 0.9108 - val_auc: 0.8847\n",
      "Epoch 16/30\n",
      "93/93 [==============================] - 2s 21ms/step - loss: 0.2434 - tp: 22446.0000 - fp: 1788.0000 - tn: 21801.0000 - fn: 1255.0000 - accuracy: 0.9357 - precision: 0.9262 - recall: 0.9470 - auc: 0.9825 - val_loss: 0.6738 - val_tp: 2387.0000 - val_fp: 613.0000 - val_tn: 2018.0000 - val_fn: 236.0000 - val_accuracy: 0.8384 - val_precision: 0.7957 - val_recall: 0.9100 - val_auc: 0.8856\n",
      "Epoch 17/30\n",
      "93/93 [==============================] - 2s 21ms/step - loss: 0.2471 - tp: 22431.0000 - fp: 1843.0000 - tn: 21746.0000 - fn: 1270.0000 - accuracy: 0.9342 - precision: 0.9241 - recall: 0.9464 - auc: 0.9818 - val_loss: 0.6698 - val_tp: 2398.0000 - val_fp: 614.0000 - val_tn: 2017.0000 - val_fn: 225.0000 - val_accuracy: 0.8403 - val_precision: 0.7961 - val_recall: 0.9142 - val_auc: 0.8857\n",
      "Epoch 18/30\n",
      "93/93 [==============================] - 2s 18ms/step - loss: 0.2461 - tp: 22448.0000 - fp: 1818.0000 - tn: 21771.0000 - fn: 1253.0000 - accuracy: 0.9351 - precision: 0.9251 - recall: 0.9471 - auc: 0.9820 - val_loss: 0.6759 - val_tp: 2398.0000 - val_fp: 618.0000 - val_tn: 2013.0000 - val_fn: 225.0000 - val_accuracy: 0.8396 - val_precision: 0.7951 - val_recall: 0.9142 - val_auc: 0.8846\n",
      "Epoch 19/30\n",
      "93/93 [==============================] - 2s 18ms/step - loss: 0.2446 - tp: 22438.0000 - fp: 1791.0000 - tn: 21798.0000 - fn: 1263.0000 - accuracy: 0.9354 - precision: 0.9261 - recall: 0.9467 - auc: 0.9825 - val_loss: 0.6840 - val_tp: 2362.0000 - val_fp: 594.0000 - val_tn: 2037.0000 - val_fn: 261.0000 - val_accuracy: 0.8373 - val_precision: 0.7991 - val_recall: 0.9005 - val_auc: 0.8836\n",
      "Epoch 20/30\n",
      "93/93 [==============================] - 2s 20ms/step - loss: 0.2469 - tp: 22397.0000 - fp: 1791.0000 - tn: 21798.0000 - fn: 1304.0000 - accuracy: 0.9346 - precision: 0.9260 - recall: 0.9450 - auc: 0.9821 - val_loss: 0.6862 - val_tp: 2399.0000 - val_fp: 619.0000 - val_tn: 2012.0000 - val_fn: 224.0000 - val_accuracy: 0.8396 - val_precision: 0.7949 - val_recall: 0.9146 - val_auc: 0.8844\n",
      "Epoch 21/30\n"
     ]
    },
    {
     "name": "stdout",
     "output_type": "stream",
     "text": [
      "93/93 [==============================] - 2s 17ms/step - loss: 0.2427 - tp: 22425.0000 - fp: 1770.0000 - tn: 21819.0000 - fn: 1276.0000 - accuracy: 0.9356 - precision: 0.9268 - recall: 0.9462 - auc: 0.9828 - val_loss: 0.6839 - val_tp: 2398.0000 - val_fp: 601.0000 - val_tn: 2030.0000 - val_fn: 225.0000 - val_accuracy: 0.8428 - val_precision: 0.7996 - val_recall: 0.9142 - val_auc: 0.8855\n",
      "Epoch 22/30\n",
      "93/93 [==============================] - 2s 20ms/step - loss: 0.2453 - tp: 22444.0000 - fp: 1835.0000 - tn: 21754.0000 - fn: 1257.0000 - accuracy: 0.9346 - precision: 0.9244 - recall: 0.9470 - auc: 0.9824 - val_loss: 0.6833 - val_tp: 2389.0000 - val_fp: 579.0000 - val_tn: 2052.0000 - val_fn: 234.0000 - val_accuracy: 0.8453 - val_precision: 0.8049 - val_recall: 0.9108 - val_auc: 0.8860\n",
      "Epoch 23/30\n",
      "93/93 [==============================] - 2s 17ms/step - loss: 0.2444 - tp: 22429.0000 - fp: 1758.0000 - tn: 21831.0000 - fn: 1272.0000 - accuracy: 0.9359 - precision: 0.9273 - recall: 0.9463 - auc: 0.9829 - val_loss: 0.6809 - val_tp: 2397.0000 - val_fp: 611.0000 - val_tn: 2020.0000 - val_fn: 226.0000 - val_accuracy: 0.8407 - val_precision: 0.7969 - val_recall: 0.9138 - val_auc: 0.8898\n",
      "Epoch 24/30\n",
      "93/93 [==============================] - 2s 20ms/step - loss: 0.2445 - tp: 22440.0000 - fp: 1763.0000 - tn: 21826.0000 - fn: 1261.0000 - accuracy: 0.9361 - precision: 0.9272 - recall: 0.9468 - auc: 0.9829 - val_loss: 0.6922 - val_tp: 2386.0000 - val_fp: 596.0000 - val_tn: 2035.0000 - val_fn: 237.0000 - val_accuracy: 0.8415 - val_precision: 0.8001 - val_recall: 0.9096 - val_auc: 0.8863\n",
      "Epoch 25/30\n",
      "93/93 [==============================] - 2s 17ms/step - loss: 0.2442 - tp: 22457.0000 - fp: 1765.0000 - tn: 21824.0000 - fn: 1244.0000 - accuracy: 0.9364 - precision: 0.9271 - recall: 0.9475 - auc: 0.9829 - val_loss: 0.6851 - val_tp: 2394.0000 - val_fp: 601.0000 - val_tn: 2030.0000 - val_fn: 229.0000 - val_accuracy: 0.8420 - val_precision: 0.7993 - val_recall: 0.9127 - val_auc: 0.8875\n",
      "Epoch 26/30\n",
      "93/93 [==============================] - 2s 19ms/step - loss: 0.2418 - tp: 22453.0000 - fp: 1714.0000 - tn: 21875.0000 - fn: 1248.0000 - accuracy: 0.9374 - precision: 0.9291 - recall: 0.9473 - auc: 0.9834 - val_loss: 0.6858 - val_tp: 2392.0000 - val_fp: 610.0000 - val_tn: 2021.0000 - val_fn: 231.0000 - val_accuracy: 0.8399 - val_precision: 0.7968 - val_recall: 0.9119 - val_auc: 0.8856\n",
      "Epoch 27/30\n",
      "93/93 [==============================] - 2s 17ms/step - loss: 0.2394 - tp: 22475.0000 - fp: 1715.0000 - tn: 21874.0000 - fn: 1226.0000 - accuracy: 0.9378 - precision: 0.9291 - recall: 0.9483 - auc: 0.9837 - val_loss: 0.6875 - val_tp: 2393.0000 - val_fp: 604.0000 - val_tn: 2027.0000 - val_fn: 230.0000 - val_accuracy: 0.8413 - val_precision: 0.7985 - val_recall: 0.9123 - val_auc: 0.8865\n",
      "Epoch 28/30\n",
      "93/93 [==============================] - 2s 17ms/step - loss: 0.2367 - tp: 22536.0000 - fp: 1694.0000 - tn: 21895.0000 - fn: 1165.0000 - accuracy: 0.9395 - precision: 0.9301 - recall: 0.9508 - auc: 0.9841 - val_loss: 0.6888 - val_tp: 2383.0000 - val_fp: 599.0000 - val_tn: 2032.0000 - val_fn: 240.0000 - val_accuracy: 0.8403 - val_precision: 0.7991 - val_recall: 0.9085 - val_auc: 0.8862\n",
      "Epoch 29/30\n",
      "93/93 [==============================] - 1s 16ms/step - loss: 0.2402 - tp: 22496.0000 - fp: 1744.0000 - tn: 21845.0000 - fn: 1205.0000 - accuracy: 0.9376 - precision: 0.9281 - recall: 0.9492 - auc: 0.9835 - val_loss: 0.6941 - val_tp: 2389.0000 - val_fp: 605.0000 - val_tn: 2026.0000 - val_fn: 234.0000 - val_accuracy: 0.8403 - val_precision: 0.7979 - val_recall: 0.9108 - val_auc: 0.8855\n",
      "Epoch 30/30\n",
      "93/93 [==============================] - 1s 16ms/step - loss: 0.2434 - tp: 22430.0000 - fp: 1737.0000 - tn: 21852.0000 - fn: 1271.0000 - accuracy: 0.9364 - precision: 0.9281 - recall: 0.9464 - auc: 0.9829 - val_loss: 0.6973 - val_tp: 2398.0000 - val_fp: 587.0000 - val_tn: 2044.0000 - val_fn: 225.0000 - val_accuracy: 0.8455 - val_precision: 0.8034 - val_recall: 0.9142 - val_auc: 0.8836\n",
      "Wall time: 54.5 s\n"
     ]
    }
   ],
   "source": [
    "%%time\n",
    "train_hist = ncf2_model.fit(ds_train, validation_data = ds_val, epochs = 30, verbose=1)"
   ]
  },
  {
   "cell_type": "markdown",
   "metadata": {},
   "source": [
    "#### Prediction and evaluation"
   ]
  },
  {
   "cell_type": "markdown",
   "metadata": {},
   "source": [
    "**Make the prediction**"
   ]
  },
  {
   "cell_type": "code",
   "execution_count": 126,
   "metadata": {
    "ExecuteTime": {
     "end_time": "2023-01-27T15:01:08.270400Z",
     "start_time": "2023-01-27T15:01:07.090238Z"
    },
    "scrolled": true
   },
   "outputs": [
    {
     "name": "stdout",
     "output_type": "stream",
     "text": [
      "Wall time: 1.16 s\n"
     ]
    },
    {
     "data": {
      "text/html": [
       "<div>\n",
       "<style scoped>\n",
       "    .dataframe tbody tr th:only-of-type {\n",
       "        vertical-align: middle;\n",
       "    }\n",
       "\n",
       "    .dataframe tbody tr th {\n",
       "        vertical-align: top;\n",
       "    }\n",
       "\n",
       "    .dataframe thead th {\n",
       "        text-align: right;\n",
       "    }\n",
       "</style>\n",
       "<table border=\"1\" class=\"dataframe\">\n",
       "  <thead>\n",
       "    <tr style=\"text-align: right;\">\n",
       "      <th></th>\n",
       "      <th>User-ID</th>\n",
       "      <th>ISBN</th>\n",
       "      <th>Lbl_User-ID</th>\n",
       "      <th>Lbl_ISBN</th>\n",
       "      <th>Book-Rating</th>\n",
       "      <th>ncf_predictions</th>\n",
       "    </tr>\n",
       "  </thead>\n",
       "  <tbody>\n",
       "    <tr>\n",
       "      <th>30229</th>\n",
       "      <td>183196</td>\n",
       "      <td>074343627X</td>\n",
       "      <td>309</td>\n",
       "      <td>603</td>\n",
       "      <td>0</td>\n",
       "      <td>0.672769</td>\n",
       "    </tr>\n",
       "    <tr>\n",
       "      <th>22168</th>\n",
       "      <td>133689</td>\n",
       "      <td>0312278586</td>\n",
       "      <td>123</td>\n",
       "      <td>58</td>\n",
       "      <td>0</td>\n",
       "      <td>0.020289</td>\n",
       "    </tr>\n",
       "    <tr>\n",
       "      <th>30823</th>\n",
       "      <td>187145</td>\n",
       "      <td>0804111359</td>\n",
       "      <td>317</td>\n",
       "      <td>621</td>\n",
       "      <td>0</td>\n",
       "      <td>0.494309</td>\n",
       "    </tr>\n",
       "    <tr>\n",
       "      <th>12649</th>\n",
       "      <td>77809</td>\n",
       "      <td>068484267X</td>\n",
       "      <td>717</td>\n",
       "      <td>586</td>\n",
       "      <td>0</td>\n",
       "      <td>0.002745</td>\n",
       "    </tr>\n",
       "    <tr>\n",
       "      <th>7206</th>\n",
       "      <td>39616</td>\n",
       "      <td>0449221512</td>\n",
       "      <td>610</td>\n",
       "      <td>395</td>\n",
       "      <td>0</td>\n",
       "      <td>0.044098</td>\n",
       "    </tr>\n",
       "  </tbody>\n",
       "</table>\n",
       "</div>"
      ],
      "text/plain": [
       "      User-ID        ISBN  Lbl_User-ID  Lbl_ISBN  Book-Rating  ncf_predictions\n",
       "30229  183196  074343627X          309       603            0         0.672769\n",
       "22168  133689  0312278586          123        58            0         0.020289\n",
       "30823  187145  0804111359          317       621            0         0.494309\n",
       "12649   77809  068484267X          717       586            0         0.002745\n",
       "7206    39616  0449221512          610       395            0         0.044098"
      ]
     },
     "execution_count": 126,
     "metadata": {},
     "output_type": "execute_result"
    }
   ],
   "source": [
    "%%time\n",
    "ncf2_predictions = ncf2_model.predict(ds_test)\n",
    "data_test[\"ncf_predictions\"] = ncf2_predictions\n",
    "data_test.head()"
   ]
  },
  {
   "cell_type": "markdown",
   "metadata": {},
   "source": [
    "**Delete duplicates**"
   ]
  },
  {
   "cell_type": "code",
   "execution_count": 127,
   "metadata": {
    "ExecuteTime": {
     "end_time": "2023-01-27T15:01:08.301652Z",
     "start_time": "2023-01-27T15:01:08.270400Z"
    }
   },
   "outputs": [
    {
     "data": {
      "text/plain": [
       "1679"
      ]
     },
     "execution_count": 127,
     "metadata": {},
     "output_type": "execute_result"
    }
   ],
   "source": [
    "len(data_test[data_test.duplicated(subset=['Lbl_User-ID','Lbl_ISBN'])])"
   ]
  },
  {
   "cell_type": "code",
   "execution_count": 128,
   "metadata": {
    "ExecuteTime": {
     "end_time": "2023-01-27T15:01:08.692409Z",
     "start_time": "2023-01-27T15:01:08.301652Z"
    }
   },
   "outputs": [],
   "source": [
    "data_test.drop_duplicates(subset=['Lbl_User-ID','Lbl_ISBN'], inplace=True)"
   ]
  },
  {
   "cell_type": "code",
   "execution_count": 129,
   "metadata": {
    "ExecuteTime": {
     "end_time": "2023-01-27T15:01:09.040377Z",
     "start_time": "2023-01-27T15:01:08.695556Z"
    }
   },
   "outputs": [
    {
     "data": {
      "text/plain": [
       "0"
      ]
     },
     "execution_count": 129,
     "metadata": {},
     "output_type": "execute_result"
    }
   ],
   "source": [
    "len(data_test[data_test.duplicated(subset=['Lbl_User-ID','Lbl_ISBN'])])"
   ]
  },
  {
   "cell_type": "markdown",
   "metadata": {},
   "source": [
    "**Compute Precision and Recall metrics**"
   ]
  },
  {
   "cell_type": "code",
   "execution_count": 130,
   "metadata": {
    "ExecuteTime": {
     "end_time": "2023-01-27T15:01:09.526331Z",
     "start_time": "2023-01-27T15:01:09.042323Z"
    }
   },
   "outputs": [
    {
     "name": "stdout",
     "output_type": "stream",
     "text": [
      "We have a precision of 0.78\n"
     ]
    }
   ],
   "source": [
    "from tensorflow.keras.metrics import Precision, Recall\n",
    "from sklearn.metrics import mean_squared_error\n",
    "\n",
    "Precision = Precision(top_k=100)\n",
    "#Recall = Recall(top_k=10)\n",
    "\n",
    "Precision.update_state(data_test[\"Book-Rating\"], data_test[\"ncf_predictions\"])\n",
    "#Recall.update_state(data_test[\"Book-Rating\"], data_test[\"ncf_predictions\"])\n",
    "\n",
    "print(\"We have a precision of\",  Precision.result().numpy())#, \"and a recall of\", Recall.result().numpy())"
   ]
  },
  {
   "cell_type": "markdown",
   "metadata": {},
   "source": [
    "**Εquate predictions to 1 if it is grater than 0.5 or else to 0** "
   ]
  },
  {
   "cell_type": "code",
   "execution_count": 131,
   "metadata": {
    "ExecuteTime": {
     "end_time": "2023-01-27T15:01:10.015071Z",
     "start_time": "2023-01-27T15:01:09.532330Z"
    }
   },
   "outputs": [
    {
     "name": "stdout",
     "output_type": "stream",
     "text": [
      "1    6027\n",
      "0    5430\n",
      "Name: ncf_predictions_dummy, dtype: int64\n"
     ]
    },
    {
     "data": {
      "text/html": [
       "<div>\n",
       "<style scoped>\n",
       "    .dataframe tbody tr th:only-of-type {\n",
       "        vertical-align: middle;\n",
       "    }\n",
       "\n",
       "    .dataframe tbody tr th {\n",
       "        vertical-align: top;\n",
       "    }\n",
       "\n",
       "    .dataframe thead th {\n",
       "        text-align: right;\n",
       "    }\n",
       "</style>\n",
       "<table border=\"1\" class=\"dataframe\">\n",
       "  <thead>\n",
       "    <tr style=\"text-align: right;\">\n",
       "      <th></th>\n",
       "      <th>User-ID</th>\n",
       "      <th>ISBN</th>\n",
       "      <th>Lbl_User-ID</th>\n",
       "      <th>Lbl_ISBN</th>\n",
       "      <th>Book-Rating</th>\n",
       "      <th>ncf_predictions</th>\n",
       "      <th>ncf_predictions_dummy</th>\n",
       "    </tr>\n",
       "  </thead>\n",
       "  <tbody>\n",
       "    <tr>\n",
       "      <th>30229</th>\n",
       "      <td>183196</td>\n",
       "      <td>074343627X</td>\n",
       "      <td>309</td>\n",
       "      <td>603</td>\n",
       "      <td>0</td>\n",
       "      <td>0.672769</td>\n",
       "      <td>1</td>\n",
       "    </tr>\n",
       "    <tr>\n",
       "      <th>22168</th>\n",
       "      <td>133689</td>\n",
       "      <td>0312278586</td>\n",
       "      <td>123</td>\n",
       "      <td>58</td>\n",
       "      <td>0</td>\n",
       "      <td>0.020289</td>\n",
       "      <td>0</td>\n",
       "    </tr>\n",
       "    <tr>\n",
       "      <th>30823</th>\n",
       "      <td>187145</td>\n",
       "      <td>0804111359</td>\n",
       "      <td>317</td>\n",
       "      <td>621</td>\n",
       "      <td>0</td>\n",
       "      <td>0.494309</td>\n",
       "      <td>0</td>\n",
       "    </tr>\n",
       "    <tr>\n",
       "      <th>12649</th>\n",
       "      <td>77809</td>\n",
       "      <td>068484267X</td>\n",
       "      <td>717</td>\n",
       "      <td>586</td>\n",
       "      <td>0</td>\n",
       "      <td>0.002745</td>\n",
       "      <td>0</td>\n",
       "    </tr>\n",
       "    <tr>\n",
       "      <th>7206</th>\n",
       "      <td>39616</td>\n",
       "      <td>0449221512</td>\n",
       "      <td>610</td>\n",
       "      <td>395</td>\n",
       "      <td>0</td>\n",
       "      <td>0.044098</td>\n",
       "      <td>0</td>\n",
       "    </tr>\n",
       "  </tbody>\n",
       "</table>\n",
       "</div>"
      ],
      "text/plain": [
       "      User-ID        ISBN  Lbl_User-ID  Lbl_ISBN  Book-Rating  \\\n",
       "30229  183196  074343627X          309       603            0   \n",
       "22168  133689  0312278586          123        58            0   \n",
       "30823  187145  0804111359          317       621            0   \n",
       "12649   77809  068484267X          717       586            0   \n",
       "7206    39616  0449221512          610       395            0   \n",
       "\n",
       "       ncf_predictions  ncf_predictions_dummy  \n",
       "30229         0.672769                      1  \n",
       "22168         0.020289                      0  \n",
       "30823         0.494309                      0  \n",
       "12649         0.002745                      0  \n",
       "7206          0.044098                      0  "
      ]
     },
     "execution_count": 131,
     "metadata": {},
     "output_type": "execute_result"
    }
   ],
   "source": [
    "data_test['ncf_predictions_dummy'] = data_test['ncf_predictions'].apply(lambda rating : +1 if rating >= 0.5 else 0)\n",
    "print(data_test['ncf_predictions_dummy'].value_counts())\n",
    "data_test.head()"
   ]
  },
  {
   "cell_type": "markdown",
   "metadata": {},
   "source": [
    "**Compute the accuracy score**"
   ]
  },
  {
   "cell_type": "code",
   "execution_count": 132,
   "metadata": {
    "ExecuteTime": {
     "end_time": "2023-01-27T15:01:10.459797Z",
     "start_time": "2023-01-27T15:01:10.018049Z"
    }
   },
   "outputs": [
    {
     "name": "stdout",
     "output_type": "stream",
     "text": [
      "Accuracy is equal to 0.8002967618050101\n"
     ]
    }
   ],
   "source": [
    "print(\"Accuracy is equal to\", accuracy_score(data_test[\"Book-Rating\"], data_test[\"ncf_predictions_dummy\"]))"
   ]
  },
  {
   "cell_type": "markdown",
   "metadata": {},
   "source": [
    "**Make an example recommendation**"
   ]
  },
  {
   "cell_type": "code",
   "execution_count": 133,
   "metadata": {
    "ExecuteTime": {
     "end_time": "2023-01-27T15:01:10.820587Z",
     "start_time": "2023-01-27T15:01:10.463792Z"
    }
   },
   "outputs": [
    {
     "data": {
      "text/html": [
       "<div>\n",
       "<style scoped>\n",
       "    .dataframe tbody tr th:only-of-type {\n",
       "        vertical-align: middle;\n",
       "    }\n",
       "\n",
       "    .dataframe tbody tr th {\n",
       "        vertical-align: top;\n",
       "    }\n",
       "\n",
       "    .dataframe thead th {\n",
       "        text-align: right;\n",
       "    }\n",
       "</style>\n",
       "<table border=\"1\" class=\"dataframe\">\n",
       "  <thead>\n",
       "    <tr style=\"text-align: right;\">\n",
       "      <th></th>\n",
       "      <th>User-ID</th>\n",
       "      <th>ISBN</th>\n",
       "      <th>Lbl_User-ID</th>\n",
       "      <th>Lbl_ISBN</th>\n",
       "      <th>Book-Rating</th>\n",
       "      <th>ncf_predictions</th>\n",
       "      <th>ncf_predictions_dummy</th>\n",
       "    </tr>\n",
       "  </thead>\n",
       "  <tbody>\n",
       "    <tr>\n",
       "      <th>16882</th>\n",
       "      <td>104636</td>\n",
       "      <td>0449219461</td>\n",
       "      <td>16</td>\n",
       "      <td>391</td>\n",
       "      <td>1</td>\n",
       "      <td>0.999716</td>\n",
       "      <td>1</td>\n",
       "    </tr>\n",
       "    <tr>\n",
       "      <th>47840</th>\n",
       "      <td>104636</td>\n",
       "      <td>0440224764</td>\n",
       "      <td>16</td>\n",
       "      <td>312</td>\n",
       "      <td>1</td>\n",
       "      <td>0.999557</td>\n",
       "      <td>1</td>\n",
       "    </tr>\n",
       "    <tr>\n",
       "      <th>54272</th>\n",
       "      <td>104636</td>\n",
       "      <td>0312990456</td>\n",
       "      <td>16</td>\n",
       "      <td>78</td>\n",
       "      <td>1</td>\n",
       "      <td>0.999177</td>\n",
       "      <td>1</td>\n",
       "    </tr>\n",
       "    <tr>\n",
       "      <th>16792</th>\n",
       "      <td>104636</td>\n",
       "      <td>0312924585</td>\n",
       "      <td>16</td>\n",
       "      <td>63</td>\n",
       "      <td>0</td>\n",
       "      <td>0.998012</td>\n",
       "      <td>1</td>\n",
       "    </tr>\n",
       "    <tr>\n",
       "      <th>16807</th>\n",
       "      <td>104636</td>\n",
       "      <td>034540761X</td>\n",
       "      <td>16</td>\n",
       "      <td>128</td>\n",
       "      <td>0</td>\n",
       "      <td>0.997816</td>\n",
       "      <td>1</td>\n",
       "    </tr>\n",
       "  </tbody>\n",
       "</table>\n",
       "</div>"
      ],
      "text/plain": [
       "      User-ID        ISBN  Lbl_User-ID  Lbl_ISBN  Book-Rating  \\\n",
       "16882  104636  0449219461           16       391            1   \n",
       "47840  104636  0440224764           16       312            1   \n",
       "54272  104636  0312990456           16        78            1   \n",
       "16792  104636  0312924585           16        63            0   \n",
       "16807  104636  034540761X           16       128            0   \n",
       "\n",
       "       ncf_predictions  ncf_predictions_dummy  \n",
       "16882         0.999716                      1  \n",
       "47840         0.999557                      1  \n",
       "54272         0.999177                      1  \n",
       "16792         0.998012                      1  \n",
       "16807         0.997816                      1  "
      ]
     },
     "execution_count": 133,
     "metadata": {},
     "output_type": "execute_result"
    }
   ],
   "source": [
    "#Pick a random author\n",
    "smpl = data_test.sample()\n",
    "#Find his predictions\n",
    "author_pred = data_test.loc[data_test['User-ID'] == smpl.iloc[0]['User-ID']]\n",
    "#Sort them by ncf_prediction from largest to smallest.\n",
    "recommendation = author_pred.sort_values(by=['ncf_predictions'], ascending=False)\n",
    "#Make the 5 most likely to like recommendations\n",
    "recommendation.head()"
   ]
  }
 ],
 "metadata": {
  "kernelspec": {
   "display_name": "Python 3",
   "language": "python",
   "name": "python3"
  },
  "language_info": {
   "codemirror_mode": {
    "name": "ipython",
    "version": 3
   },
   "file_extension": ".py",
   "mimetype": "text/x-python",
   "name": "python",
   "nbconvert_exporter": "python",
   "pygments_lexer": "ipython3",
   "version": "3.8.5"
  },
  "latex_envs": {
   "LaTeX_envs_menu_present": true,
   "autoclose": false,
   "autocomplete": true,
   "bibliofile": "biblio.bib",
   "cite_by": "apalike",
   "current_citInitial": 1,
   "eqLabelWithNumbers": true,
   "eqNumInitial": 1,
   "hotkeys": {
    "equation": "Ctrl-E",
    "itemize": "Ctrl-I"
   },
   "labels_anchors": false,
   "latex_user_defs": false,
   "report_style_numbering": false,
   "user_envs_cfg": false
  },
  "toc": {
   "base_numbering": 1,
   "nav_menu": {},
   "number_sections": true,
   "sideBar": true,
   "skip_h1_title": false,
   "title_cell": "Table of Contents",
   "title_sidebar": "Contents",
   "toc_cell": true,
   "toc_position": {
    "height": "467px",
    "left": "26px",
    "top": "111.125px",
    "width": "165px"
   },
   "toc_section_display": true,
   "toc_window_display": true
  },
  "varInspector": {
   "cols": {
    "lenName": 16,
    "lenType": 16,
    "lenVar": 40
   },
   "kernels_config": {
    "python": {
     "delete_cmd_postfix": "",
     "delete_cmd_prefix": "del ",
     "library": "var_list.py",
     "varRefreshCmd": "print(var_dic_list())"
    },
    "r": {
     "delete_cmd_postfix": ") ",
     "delete_cmd_prefix": "rm(",
     "library": "var_list.r",
     "varRefreshCmd": "cat(var_dic_list()) "
    }
   },
   "types_to_exclude": [
    "module",
    "function",
    "builtin_function_or_method",
    "instance",
    "_Feature"
   ],
   "window_display": false
  }
 },
 "nbformat": 4,
 "nbformat_minor": 4
}
