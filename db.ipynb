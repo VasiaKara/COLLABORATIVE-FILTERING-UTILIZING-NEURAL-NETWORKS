{
 "cells": [
  {
   "cell_type": "markdown",
   "metadata": {},
   "source": [
    "Collaborative Filtering Utilizing Neural Networks/DBLP"
   ]
  },
  {
   "cell_type": "markdown",
   "metadata": {
    "toc": true
   },
   "source": [
    "<h1>Table of Contents<span class=\"tocSkip\"></span></h1>\n",
    "<div class=\"toc\"><ul class=\"toc-item\"><li><span><a href=\"#Data-pre-processing\" data-toc-modified-id=\"Data-pre-processing-1\"><span class=\"toc-item-num\">1&nbsp;&nbsp;</span>Data pre-processing</a></span></li><li><span><a href=\"#Models\" data-toc-modified-id=\"Models-2\"><span class=\"toc-item-num\">2&nbsp;&nbsp;</span>Models</a></span><ul class=\"toc-item\"><li><span><a href=\"#MF-MLP-model\" data-toc-modified-id=\"MF-MLP-model-2.1\"><span class=\"toc-item-num\">2.1&nbsp;&nbsp;</span>MF-MLP model</a></span><ul class=\"toc-item\"><li><span><a href=\"#Model-Construction\" data-toc-modified-id=\"Model-Construction-2.1.1\"><span class=\"toc-item-num\">2.1.1&nbsp;&nbsp;</span>Model Construction</a></span></li><li><span><a href=\"#Prediction-and-evaluation\" data-toc-modified-id=\"Prediction-and-evaluation-2.1.2\"><span class=\"toc-item-num\">2.1.2&nbsp;&nbsp;</span>Prediction and evaluation</a></span></li></ul></li><li><span><a href=\"#MF-LSTM-model\" data-toc-modified-id=\"MF-LSTM-model-2.2\"><span class=\"toc-item-num\">2.2&nbsp;&nbsp;</span>MF-LSTM model</a></span><ul class=\"toc-item\"><li><span><a href=\"#Model-Construction\" data-toc-modified-id=\"Model-Construction-2.2.1\"><span class=\"toc-item-num\">2.2.1&nbsp;&nbsp;</span>Model Construction</a></span></li><li><span><a href=\"#Prediction-and-evaluation\" data-toc-modified-id=\"Prediction-and-evaluation-2.2.2\"><span class=\"toc-item-num\">2.2.2&nbsp;&nbsp;</span>Prediction and evaluation</a></span></li></ul></li></ul></li></ul></div>"
   ]
  },
  {
   "cell_type": "markdown",
   "metadata": {},
   "source": [
    "## Data pre-processing"
   ]
  },
  {
   "cell_type": "markdown",
   "metadata": {},
   "source": [
    "**Convert dat to txt file**"
   ]
  },
  {
   "cell_type": "markdown",
   "metadata": {},
   "source": [
    "**Load data, split columns by delimiter and keep columns 'Authors' and 'References'**"
   ]
  },
  {
   "cell_type": "code",
   "execution_count": 1,
   "metadata": {
    "ExecuteTime": {
     "end_time": "2023-01-27T14:41:24.444910Z",
     "start_time": "2023-01-27T14:41:18.302574Z"
    }
   },
   "outputs": [
    {
     "data": {
      "text/html": [
       "<div>\n",
       "<style scoped>\n",
       "    .dataframe tbody tr th:only-of-type {\n",
       "        vertical-align: middle;\n",
       "    }\n",
       "\n",
       "    .dataframe tbody tr th {\n",
       "        vertical-align: top;\n",
       "    }\n",
       "\n",
       "    .dataframe thead th {\n",
       "        text-align: right;\n",
       "    }\n",
       "</style>\n",
       "<table border=\"1\" class=\"dataframe\">\n",
       "  <thead>\n",
       "    <tr style=\"text-align: right;\">\n",
       "      <th></th>\n",
       "      <th>Authors</th>\n",
       "      <th>References</th>\n",
       "    </tr>\n",
       "  </thead>\n",
       "  <tbody>\n",
       "    <tr>\n",
       "      <th>0</th>\n",
       "      <td>[{'_id': '53f43403dabfaedce5517a1c', 'name': '...</td>\n",
       "      <td>NaN</td>\n",
       "    </tr>\n",
       "    <tr>\n",
       "      <th>1</th>\n",
       "      <td>[{'name': 'Rachid Hba', 'sid': '2371749277'}, ...</td>\n",
       "      <td>[56d8b0e7dabfae2eeee050a8, 53e9ae11b7602d97038...</td>\n",
       "    </tr>\n",
       "    <tr>\n",
       "      <th>2</th>\n",
       "      <td>[{'name': 'David Poirier-Quinot', 'org': 'Airb...</td>\n",
       "      <td>[53e9a952b7602d97032a6396, 53e9b9bab7602d97045...</td>\n",
       "    </tr>\n",
       "    <tr>\n",
       "      <th>3</th>\n",
       "      <td>[{'_id': '562d3b5845cedb3398d965a8', 'name': '...</td>\n",
       "      <td>NaN</td>\n",
       "    </tr>\n",
       "    <tr>\n",
       "      <th>4</th>\n",
       "      <td>[{'_id': '53f42e97dabfaeb2acff9b40', 'name': '...</td>\n",
       "      <td>NaN</td>\n",
       "    </tr>\n",
       "  </tbody>\n",
       "</table>\n",
       "</div>"
      ],
      "text/plain": [
       "                                             Authors  \\\n",
       "0  [{'_id': '53f43403dabfaedce5517a1c', 'name': '...   \n",
       "1  [{'name': 'Rachid Hba', 'sid': '2371749277'}, ...   \n",
       "2  [{'name': 'David Poirier-Quinot', 'org': 'Airb...   \n",
       "3  [{'_id': '562d3b5845cedb3398d965a8', 'name': '...   \n",
       "4  [{'_id': '53f42e97dabfaeb2acff9b40', 'name': '...   \n",
       "\n",
       "                                          References  \n",
       "0                                                NaN  \n",
       "1  [56d8b0e7dabfae2eeee050a8, 53e9ae11b7602d97038...  \n",
       "2  [53e9a952b7602d97032a6396, 53e9b9bab7602d97045...  \n",
       "3                                                NaN  \n",
       "4                                                NaN  "
      ]
     },
     "execution_count": 1,
     "metadata": {},
     "output_type": "execute_result"
    }
   ],
   "source": [
    "import pandas as pd\n",
    "authors=[]\n",
    "references=[]\n",
    "\n",
    "dff = pd.read_excel('data/paper_collection.xlsx', header=None)\n",
    "dff.columns = ['col']\n",
    "for index, row in dff.iterrows():\n",
    "    objects=json.loads(row['col'])\n",
    "    if \"authors\" in objects:\n",
    "            authors.append(objects['authors'])\n",
    "    else:\n",
    "            authors.append(\"NaN\")\n",
    "    if \"references\" in objects:\n",
    "            references.append(objects['references'])\n",
    "    else:\n",
    "            references.append(\"NaN\")\n",
    "            \n",
    "data = pd.DataFrame()\n",
    "data[\"Authors\"] = authors\n",
    "data[\"References\"] = references\n",
    "     \n",
    "data.head()   "
   ]
  },
  {
   "cell_type": "markdown",
   "metadata": {},
   "source": [
    "**Distinguish Authors only by id**"
   ]
  },
  {
   "cell_type": "code",
   "execution_count": 2,
   "metadata": {
    "ExecuteTime": {
     "end_time": "2023-01-27T14:43:00.655189Z",
     "start_time": "2023-01-27T14:41:24.447909Z"
    }
   },
   "outputs": [
    {
     "data": {
      "text/html": [
       "<div>\n",
       "<style scoped>\n",
       "    .dataframe tbody tr th:only-of-type {\n",
       "        vertical-align: middle;\n",
       "    }\n",
       "\n",
       "    .dataframe tbody tr th {\n",
       "        vertical-align: top;\n",
       "    }\n",
       "\n",
       "    .dataframe thead th {\n",
       "        text-align: right;\n",
       "    }\n",
       "</style>\n",
       "<table border=\"1\" class=\"dataframe\">\n",
       "  <thead>\n",
       "    <tr style=\"text-align: right;\">\n",
       "      <th></th>\n",
       "      <th>Authors</th>\n",
       "      <th>Articles</th>\n",
       "    </tr>\n",
       "  </thead>\n",
       "  <tbody>\n",
       "    <tr>\n",
       "      <th>0</th>\n",
       "      <td>53f43403dabfaedce5517a1c</td>\n",
       "      <td>NaN</td>\n",
       "    </tr>\n",
       "    <tr>\n",
       "      <th>1</th>\n",
       "      <td>54055b50dabfae8faa5c6b14</td>\n",
       "      <td>NaN</td>\n",
       "    </tr>\n",
       "    <tr>\n",
       "      <th>2</th>\n",
       "      <td>562d198845cedb3398d5191b</td>\n",
       "      <td>NaN</td>\n",
       "    </tr>\n",
       "    <tr>\n",
       "      <th>3</th>\n",
       "      <td>53f43767dabfaeb2ac05c0bc</td>\n",
       "      <td>NaN</td>\n",
       "    </tr>\n",
       "    <tr>\n",
       "      <th>4</th>\n",
       "      <td>53f42930dabfaeb2acfb5f31</td>\n",
       "      <td>NaN</td>\n",
       "    </tr>\n",
       "    <tr>\n",
       "      <th>5</th>\n",
       "      <td>560587a245ce1e595e65d699</td>\n",
       "      <td>[53e9a952b7602d97032a6396, 53e9b9bab7602d97045...</td>\n",
       "    </tr>\n",
       "  </tbody>\n",
       "</table>\n",
       "</div>"
      ],
      "text/plain": [
       "                    Authors                                           Articles\n",
       "0  53f43403dabfaedce5517a1c                                                NaN\n",
       "1  54055b50dabfae8faa5c6b14                                                NaN\n",
       "2  562d198845cedb3398d5191b                                                NaN\n",
       "3  53f43767dabfaeb2ac05c0bc                                                NaN\n",
       "4  53f42930dabfaeb2acfb5f31                                                NaN\n",
       "5  560587a245ce1e595e65d699  [53e9a952b7602d97032a6396, 53e9b9bab7602d97045..."
      ]
     },
     "execution_count": 2,
     "metadata": {},
     "output_type": "execute_result"
    }
   ],
   "source": [
    "counter = -1\n",
    "new_df = pd.DataFrame(columns = ['Authors', 'Articles'])\n",
    "for row in data[\"Authors\"]:\n",
    "    counter = counter + 1\n",
    "    for i in range(len(row)):\n",
    "        if \"_id\" in row[i]:\n",
    "            new_row = {'Authors': row[i]['_id'], 'Articles': data[\"References\"][counter]}\n",
    "            new_df = new_df.append(new_row, ignore_index=True)\n",
    "            \n",
    "new_df.head(6)"
   ]
  },
  {
   "cell_type": "markdown",
   "metadata": {},
   "source": [
    "**Replace NaN values with 0**"
   ]
  },
  {
   "cell_type": "code",
   "execution_count": 3,
   "metadata": {
    "ExecuteTime": {
     "end_time": "2023-01-27T14:43:00.851868Z",
     "start_time": "2023-01-27T14:43:00.671212Z"
    }
   },
   "outputs": [
    {
     "data": {
      "text/html": [
       "<div>\n",
       "<style scoped>\n",
       "    .dataframe tbody tr th:only-of-type {\n",
       "        vertical-align: middle;\n",
       "    }\n",
       "\n",
       "    .dataframe tbody tr th {\n",
       "        vertical-align: top;\n",
       "    }\n",
       "\n",
       "    .dataframe thead th {\n",
       "        text-align: right;\n",
       "    }\n",
       "</style>\n",
       "<table border=\"1\" class=\"dataframe\">\n",
       "  <thead>\n",
       "    <tr style=\"text-align: right;\">\n",
       "      <th></th>\n",
       "      <th>Authors</th>\n",
       "      <th>Articles</th>\n",
       "    </tr>\n",
       "  </thead>\n",
       "  <tbody>\n",
       "    <tr>\n",
       "      <th>0</th>\n",
       "      <td>53f43403dabfaedce5517a1c</td>\n",
       "      <td>0</td>\n",
       "    </tr>\n",
       "    <tr>\n",
       "      <th>1</th>\n",
       "      <td>54055b50dabfae8faa5c6b14</td>\n",
       "      <td>0</td>\n",
       "    </tr>\n",
       "    <tr>\n",
       "      <th>2</th>\n",
       "      <td>562d198845cedb3398d5191b</td>\n",
       "      <td>0</td>\n",
       "    </tr>\n",
       "    <tr>\n",
       "      <th>3</th>\n",
       "      <td>53f43767dabfaeb2ac05c0bc</td>\n",
       "      <td>0</td>\n",
       "    </tr>\n",
       "    <tr>\n",
       "      <th>4</th>\n",
       "      <td>53f42930dabfaeb2acfb5f31</td>\n",
       "      <td>0</td>\n",
       "    </tr>\n",
       "    <tr>\n",
       "      <th>5</th>\n",
       "      <td>560587a245ce1e595e65d699</td>\n",
       "      <td>[53e9a952b7602d97032a6396, 53e9b9bab7602d97045...</td>\n",
       "    </tr>\n",
       "  </tbody>\n",
       "</table>\n",
       "</div>"
      ],
      "text/plain": [
       "                    Authors                                           Articles\n",
       "0  53f43403dabfaedce5517a1c                                                  0\n",
       "1  54055b50dabfae8faa5c6b14                                                  0\n",
       "2  562d198845cedb3398d5191b                                                  0\n",
       "3  53f43767dabfaeb2ac05c0bc                                                  0\n",
       "4  53f42930dabfaeb2acfb5f31                                                  0\n",
       "5  560587a245ce1e595e65d699  [53e9a952b7602d97032a6396, 53e9b9bab7602d97045..."
      ]
     },
     "execution_count": 3,
     "metadata": {},
     "output_type": "execute_result"
    }
   ],
   "source": [
    "from numpy import nan\n",
    "\n",
    "new_df = new_df.replace('NaN', 0)\n",
    "new_df.head(6)"
   ]
  },
  {
   "cell_type": "markdown",
   "metadata": {},
   "source": [
    "**Make new rows for each article an author liked**"
   ]
  },
  {
   "cell_type": "code",
   "execution_count": 4,
   "metadata": {
    "ExecuteTime": {
     "end_time": "2023-01-27T15:16:37.356311Z",
     "start_time": "2023-01-27T14:43:00.855625Z"
    }
   },
   "outputs": [
    {
     "data": {
      "text/html": [
       "<div>\n",
       "<style scoped>\n",
       "    .dataframe tbody tr th:only-of-type {\n",
       "        vertical-align: middle;\n",
       "    }\n",
       "\n",
       "    .dataframe tbody tr th {\n",
       "        vertical-align: top;\n",
       "    }\n",
       "\n",
       "    .dataframe thead th {\n",
       "        text-align: right;\n",
       "    }\n",
       "</style>\n",
       "<table border=\"1\" class=\"dataframe\">\n",
       "  <thead>\n",
       "    <tr style=\"text-align: right;\">\n",
       "      <th></th>\n",
       "      <th>Authors</th>\n",
       "      <th>Articles</th>\n",
       "    </tr>\n",
       "  </thead>\n",
       "  <tbody>\n",
       "    <tr>\n",
       "      <th>0</th>\n",
       "      <td>560587a245ce1e595e65d699</td>\n",
       "      <td>53e9a952b7602d97032a6396</td>\n",
       "    </tr>\n",
       "    <tr>\n",
       "      <th>1</th>\n",
       "      <td>560587a245ce1e595e65d699</td>\n",
       "      <td>53e9b9bab7602d97045b2219</td>\n",
       "    </tr>\n",
       "    <tr>\n",
       "      <th>2</th>\n",
       "      <td>560587a245ce1e595e65d699</td>\n",
       "      <td>5550441f45ce0a409eb4b702</td>\n",
       "    </tr>\n",
       "    <tr>\n",
       "      <th>3</th>\n",
       "      <td>560587a245ce1e595e65d699</td>\n",
       "      <td>53e9ba7cb7602d970469c8e9</td>\n",
       "    </tr>\n",
       "    <tr>\n",
       "      <th>4</th>\n",
       "      <td>560587a245ce1e595e65d699</td>\n",
       "      <td>555041f245ce0a409eb3eda7</td>\n",
       "    </tr>\n",
       "  </tbody>\n",
       "</table>\n",
       "</div>"
      ],
      "text/plain": [
       "                    Authors                  Articles\n",
       "0  560587a245ce1e595e65d699  53e9a952b7602d97032a6396\n",
       "1  560587a245ce1e595e65d699  53e9b9bab7602d97045b2219\n",
       "2  560587a245ce1e595e65d699  5550441f45ce0a409eb4b702\n",
       "3  560587a245ce1e595e65d699  53e9ba7cb7602d970469c8e9\n",
       "4  560587a245ce1e595e65d699  555041f245ce0a409eb3eda7"
      ]
     },
     "execution_count": 4,
     "metadata": {},
     "output_type": "execute_result"
    }
   ],
   "source": [
    "counter = -1\n",
    "df = pd.DataFrame(columns = ['Authors', 'Articles'])\n",
    "for row in new_df[\"Articles\"]:\n",
    "    counter = counter + 1\n",
    "    if row != 0:\n",
    "        for i in row:\n",
    "            new_row = {'Authors': new_df['Authors'][counter], 'Articles': i}\n",
    "            df = df.append(new_row, ignore_index=True)\n",
    "            \n",
    "df.head()"
   ]
  },
  {
   "cell_type": "markdown",
   "metadata": {},
   "source": [
    "**Check the number of registrations, the number of authors and the number of articles we have in our dataset**"
   ]
  },
  {
   "cell_type": "code",
   "execution_count": 5,
   "metadata": {
    "ExecuteTime": {
     "end_time": "2023-01-27T15:16:38.234716Z",
     "start_time": "2023-01-27T15:16:37.604235Z"
    }
   },
   "outputs": [
    {
     "name": "stdout",
     "output_type": "stream",
     "text": [
      "len: 229183\n",
      "Authors: 10063\n",
      "Articles: 65874\n"
     ]
    }
   ],
   "source": [
    "print('len:', len(df))\n",
    "print('Authors:', df['Authors'].nunique())\n",
    "print('Articles:', df['Articles'].nunique())"
   ]
  },
  {
   "cell_type": "markdown",
   "metadata": {},
   "source": [
    "**Keep authors who has read at least 40 articles and articles with at least 20 authors read them in out dataset**"
   ]
  },
  {
   "cell_type": "code",
   "execution_count": 6,
   "metadata": {
    "ExecuteTime": {
     "end_time": "2023-01-27T15:16:40.163919Z",
     "start_time": "2023-01-27T15:16:38.252697Z"
    }
   },
   "outputs": [],
   "source": [
    "users_keep = df['Authors'].value_counts() > 40\n",
    "y = users_keep[users_keep].index\n",
    "data = df[df['Authors'].isin(y)]\n",
    "\n",
    "data.reset_index(inplace = True, drop = True)\n",
    "\n",
    "books_keep = data['Articles'].value_counts() > 20\n",
    "y = books_keep[books_keep].index\n",
    "data = data[data['Articles'].isin(y)]"
   ]
  },
  {
   "cell_type": "markdown",
   "metadata": {
    "ExecuteTime": {
     "end_time": "2022-04-11T19:19:58.590711Z",
     "start_time": "2022-04-11T19:19:58.570710Z"
    }
   },
   "source": [
    "**Check the number of registrations, the number of authors and the number of articles we have in our dataset after the previous restrictions**"
   ]
  },
  {
   "cell_type": "code",
   "execution_count": 7,
   "metadata": {
    "ExecuteTime": {
     "end_time": "2023-01-27T15:16:40.271963Z",
     "start_time": "2023-01-27T15:16:40.246735Z"
    }
   },
   "outputs": [
    {
     "name": "stdout",
     "output_type": "stream",
     "text": [
      "len: 3254\n",
      "Authors: 676\n",
      "Articles: 78\n"
     ]
    }
   ],
   "source": [
    "print('len:', len(data))\n",
    "print('Authors:', data['Authors'].nunique())\n",
    "print('Articles:', data['Articles'].nunique())"
   ]
  },
  {
   "cell_type": "markdown",
   "metadata": {},
   "source": [
    "**Reset the index column**"
   ]
  },
  {
   "cell_type": "code",
   "execution_count": 8,
   "metadata": {
    "ExecuteTime": {
     "end_time": "2023-01-27T15:16:40.522011Z",
     "start_time": "2023-01-27T15:16:40.494026Z"
    },
    "scrolled": true
   },
   "outputs": [
    {
     "data": {
      "text/html": [
       "<div>\n",
       "<style scoped>\n",
       "    .dataframe tbody tr th:only-of-type {\n",
       "        vertical-align: middle;\n",
       "    }\n",
       "\n",
       "    .dataframe tbody tr th {\n",
       "        vertical-align: top;\n",
       "    }\n",
       "\n",
       "    .dataframe thead th {\n",
       "        text-align: right;\n",
       "    }\n",
       "</style>\n",
       "<table border=\"1\" class=\"dataframe\">\n",
       "  <thead>\n",
       "    <tr style=\"text-align: right;\">\n",
       "      <th></th>\n",
       "      <th>Authors</th>\n",
       "      <th>Articles</th>\n",
       "    </tr>\n",
       "  </thead>\n",
       "  <tbody>\n",
       "    <tr>\n",
       "      <th>0</th>\n",
       "      <td>5487f377dabfae8a11fb3f0a</td>\n",
       "      <td>53e9bcc1b7602d97049412d4</td>\n",
       "    </tr>\n",
       "    <tr>\n",
       "      <th>1</th>\n",
       "      <td>542a1cabdabfae61d49563cd</td>\n",
       "      <td>53e9ab6fb7602d970350dc5d</td>\n",
       "    </tr>\n",
       "    <tr>\n",
       "      <th>2</th>\n",
       "      <td>54876d00dabfae8a11fb39ca</td>\n",
       "      <td>599c7f08601a182cd28e5abd</td>\n",
       "    </tr>\n",
       "    <tr>\n",
       "      <th>3</th>\n",
       "      <td>54876d00dabfae8a11fb39ca</td>\n",
       "      <td>53e99fc2b7602d9702899ee6</td>\n",
       "    </tr>\n",
       "    <tr>\n",
       "      <th>4</th>\n",
       "      <td>53f44d05dabfaeee22a11481</td>\n",
       "      <td>53e9b068b7602d9703acf032</td>\n",
       "    </tr>\n",
       "  </tbody>\n",
       "</table>\n",
       "</div>"
      ],
      "text/plain": [
       "                    Authors                  Articles\n",
       "0  5487f377dabfae8a11fb3f0a  53e9bcc1b7602d97049412d4\n",
       "1  542a1cabdabfae61d49563cd  53e9ab6fb7602d970350dc5d\n",
       "2  54876d00dabfae8a11fb39ca  599c7f08601a182cd28e5abd\n",
       "3  54876d00dabfae8a11fb39ca  53e99fc2b7602d9702899ee6\n",
       "4  53f44d05dabfaeee22a11481  53e9b068b7602d9703acf032"
      ]
     },
     "execution_count": 8,
     "metadata": {},
     "output_type": "execute_result"
    }
   ],
   "source": [
    "data.reset_index(inplace = True, drop = True)\n",
    "data.head()"
   ]
  },
  {
   "cell_type": "markdown",
   "metadata": {},
   "source": [
    "**Create a new column which represents that author liked the article**"
   ]
  },
  {
   "cell_type": "code",
   "execution_count": 9,
   "metadata": {
    "ExecuteTime": {
     "end_time": "2023-01-27T15:16:40.837156Z",
     "start_time": "2023-01-27T15:16:40.526005Z"
    }
   },
   "outputs": [
    {
     "data": {
      "text/html": [
       "<div>\n",
       "<style scoped>\n",
       "    .dataframe tbody tr th:only-of-type {\n",
       "        vertical-align: middle;\n",
       "    }\n",
       "\n",
       "    .dataframe tbody tr th {\n",
       "        vertical-align: top;\n",
       "    }\n",
       "\n",
       "    .dataframe thead th {\n",
       "        text-align: right;\n",
       "    }\n",
       "</style>\n",
       "<table border=\"1\" class=\"dataframe\">\n",
       "  <thead>\n",
       "    <tr style=\"text-align: right;\">\n",
       "      <th></th>\n",
       "      <th>Authors</th>\n",
       "      <th>Articles</th>\n",
       "      <th>View</th>\n",
       "    </tr>\n",
       "  </thead>\n",
       "  <tbody>\n",
       "    <tr>\n",
       "      <th>0</th>\n",
       "      <td>5487f377dabfae8a11fb3f0a</td>\n",
       "      <td>53e9bcc1b7602d97049412d4</td>\n",
       "      <td>1</td>\n",
       "    </tr>\n",
       "    <tr>\n",
       "      <th>1</th>\n",
       "      <td>542a1cabdabfae61d49563cd</td>\n",
       "      <td>53e9ab6fb7602d970350dc5d</td>\n",
       "      <td>1</td>\n",
       "    </tr>\n",
       "    <tr>\n",
       "      <th>2</th>\n",
       "      <td>54876d00dabfae8a11fb39ca</td>\n",
       "      <td>599c7f08601a182cd28e5abd</td>\n",
       "      <td>1</td>\n",
       "    </tr>\n",
       "    <tr>\n",
       "      <th>3</th>\n",
       "      <td>54876d00dabfae8a11fb39ca</td>\n",
       "      <td>53e99fc2b7602d9702899ee6</td>\n",
       "      <td>1</td>\n",
       "    </tr>\n",
       "    <tr>\n",
       "      <th>4</th>\n",
       "      <td>53f44d05dabfaeee22a11481</td>\n",
       "      <td>53e9b068b7602d9703acf032</td>\n",
       "      <td>1</td>\n",
       "    </tr>\n",
       "  </tbody>\n",
       "</table>\n",
       "</div>"
      ],
      "text/plain": [
       "                    Authors                  Articles  View\n",
       "0  5487f377dabfae8a11fb3f0a  53e9bcc1b7602d97049412d4     1\n",
       "1  542a1cabdabfae61d49563cd  53e9ab6fb7602d970350dc5d     1\n",
       "2  54876d00dabfae8a11fb39ca  599c7f08601a182cd28e5abd     1\n",
       "3  54876d00dabfae8a11fb39ca  53e99fc2b7602d9702899ee6     1\n",
       "4  53f44d05dabfaeee22a11481  53e9b068b7602d9703acf032     1"
      ]
     },
     "execution_count": 9,
     "metadata": {},
     "output_type": "execute_result"
    }
   ],
   "source": [
    "import numpy as np\n",
    "\n",
    "data['View'] = np.ones(len(data), dtype=int)\n",
    "data.head()"
   ]
  },
  {
   "cell_type": "markdown",
   "metadata": {},
   "source": [
    "**Create a new dataset with all combinations Author-Article**"
   ]
  },
  {
   "cell_type": "code",
   "execution_count": 10,
   "metadata": {
    "ExecuteTime": {
     "end_time": "2023-01-27T15:16:41.056180Z",
     "start_time": "2023-01-27T15:16:40.840154Z"
    }
   },
   "outputs": [],
   "source": [
    "dataset = pd.DataFrame(columns = ['Authors', 'Articles'])"
   ]
  },
  {
   "cell_type": "code",
   "execution_count": 11,
   "metadata": {
    "ExecuteTime": {
     "end_time": "2023-01-27T15:19:29.485513Z",
     "start_time": "2023-01-27T15:16:41.059163Z"
    }
   },
   "outputs": [],
   "source": [
    "from itertools import product\n",
    "\n",
    "for x, y in product(set(data['Articles']), set(data['Authors'])):\n",
    "        dataset = dataset.append({'Authors': y, 'Articles': x}, ignore_index = True)"
   ]
  },
  {
   "cell_type": "code",
   "execution_count": 12,
   "metadata": {
    "ExecuteTime": {
     "end_time": "2023-01-27T15:19:29.500502Z",
     "start_time": "2023-01-27T15:19:29.488501Z"
    }
   },
   "outputs": [
    {
     "data": {
      "text/html": [
       "<div>\n",
       "<style scoped>\n",
       "    .dataframe tbody tr th:only-of-type {\n",
       "        vertical-align: middle;\n",
       "    }\n",
       "\n",
       "    .dataframe tbody tr th {\n",
       "        vertical-align: top;\n",
       "    }\n",
       "\n",
       "    .dataframe thead th {\n",
       "        text-align: right;\n",
       "    }\n",
       "</style>\n",
       "<table border=\"1\" class=\"dataframe\">\n",
       "  <thead>\n",
       "    <tr style=\"text-align: right;\">\n",
       "      <th></th>\n",
       "      <th>Authors</th>\n",
       "      <th>Articles</th>\n",
       "    </tr>\n",
       "  </thead>\n",
       "  <tbody>\n",
       "    <tr>\n",
       "      <th>0</th>\n",
       "      <td>562d996945cedb3398e78be8</td>\n",
       "      <td>53e9b108b7602d9703b85b88</td>\n",
       "    </tr>\n",
       "    <tr>\n",
       "      <th>1</th>\n",
       "      <td>53f433efdabfaedce5516b23</td>\n",
       "      <td>53e9b108b7602d9703b85b88</td>\n",
       "    </tr>\n",
       "    <tr>\n",
       "      <th>2</th>\n",
       "      <td>5628eae445ce1e59660effe6</td>\n",
       "      <td>53e9b108b7602d9703b85b88</td>\n",
       "    </tr>\n",
       "    <tr>\n",
       "      <th>3</th>\n",
       "      <td>53f38e3edabfae4b34a44275</td>\n",
       "      <td>53e9b108b7602d9703b85b88</td>\n",
       "    </tr>\n",
       "    <tr>\n",
       "      <th>4</th>\n",
       "      <td>548691a3dabfaed7b5fa2a43</td>\n",
       "      <td>53e9b108b7602d9703b85b88</td>\n",
       "    </tr>\n",
       "  </tbody>\n",
       "</table>\n",
       "</div>"
      ],
      "text/plain": [
       "                    Authors                  Articles\n",
       "0  562d996945cedb3398e78be8  53e9b108b7602d9703b85b88\n",
       "1  53f433efdabfaedce5516b23  53e9b108b7602d9703b85b88\n",
       "2  5628eae445ce1e59660effe6  53e9b108b7602d9703b85b88\n",
       "3  53f38e3edabfae4b34a44275  53e9b108b7602d9703b85b88\n",
       "4  548691a3dabfaed7b5fa2a43  53e9b108b7602d9703b85b88"
      ]
     },
     "execution_count": 12,
     "metadata": {},
     "output_type": "execute_result"
    }
   ],
   "source": [
    "dataset.head()"
   ]
  },
  {
   "cell_type": "markdown",
   "metadata": {
    "ExecuteTime": {
     "end_time": "2022-04-11T19:24:38.146946Z",
     "start_time": "2022-04-11T19:24:38.127939Z"
    }
   },
   "source": [
    "**Check the number of registrations we have in that(dff) dataset**"
   ]
  },
  {
   "cell_type": "code",
   "execution_count": 13,
   "metadata": {
    "ExecuteTime": {
     "end_time": "2023-01-27T15:19:29.608878Z",
     "start_time": "2023-01-27T15:19:29.505492Z"
    }
   },
   "outputs": [
    {
     "data": {
      "text/plain": [
       "52728"
      ]
     },
     "execution_count": 13,
     "metadata": {},
     "output_type": "execute_result"
    }
   ],
   "source": [
    "len(dataset)"
   ]
  },
  {
   "cell_type": "markdown",
   "metadata": {},
   "source": [
    "**Merge the two datasets. This way we will have a dataset whith all combinations Author-Article and a column 'View' which represents if each author liked the corresponding article (1) or not (0)**"
   ]
  },
  {
   "cell_type": "code",
   "execution_count": 14,
   "metadata": {
    "ExecuteTime": {
     "end_time": "2023-01-27T15:19:30.141688Z",
     "start_time": "2023-01-27T15:19:29.611694Z"
    }
   },
   "outputs": [
    {
     "data": {
      "text/html": [
       "<div>\n",
       "<style scoped>\n",
       "    .dataframe tbody tr th:only-of-type {\n",
       "        vertical-align: middle;\n",
       "    }\n",
       "\n",
       "    .dataframe tbody tr th {\n",
       "        vertical-align: top;\n",
       "    }\n",
       "\n",
       "    .dataframe thead th {\n",
       "        text-align: right;\n",
       "    }\n",
       "</style>\n",
       "<table border=\"1\" class=\"dataframe\">\n",
       "  <thead>\n",
       "    <tr style=\"text-align: right;\">\n",
       "      <th></th>\n",
       "      <th>Authors</th>\n",
       "      <th>Articles</th>\n",
       "      <th>View</th>\n",
       "    </tr>\n",
       "  </thead>\n",
       "  <tbody>\n",
       "    <tr>\n",
       "      <th>0</th>\n",
       "      <td>562d996945cedb3398e78be8</td>\n",
       "      <td>53e9b108b7602d9703b85b88</td>\n",
       "      <td>NaN</td>\n",
       "    </tr>\n",
       "    <tr>\n",
       "      <th>1</th>\n",
       "      <td>53f433efdabfaedce5516b23</td>\n",
       "      <td>53e9b108b7602d9703b85b88</td>\n",
       "      <td>NaN</td>\n",
       "    </tr>\n",
       "    <tr>\n",
       "      <th>2</th>\n",
       "      <td>5628eae445ce1e59660effe6</td>\n",
       "      <td>53e9b108b7602d9703b85b88</td>\n",
       "      <td>NaN</td>\n",
       "    </tr>\n",
       "    <tr>\n",
       "      <th>3</th>\n",
       "      <td>53f38e3edabfae4b34a44275</td>\n",
       "      <td>53e9b108b7602d9703b85b88</td>\n",
       "      <td>NaN</td>\n",
       "    </tr>\n",
       "    <tr>\n",
       "      <th>4</th>\n",
       "      <td>548691a3dabfaed7b5fa2a43</td>\n",
       "      <td>53e9b108b7602d9703b85b88</td>\n",
       "      <td>1.0</td>\n",
       "    </tr>\n",
       "  </tbody>\n",
       "</table>\n",
       "</div>"
      ],
      "text/plain": [
       "                    Authors                  Articles  View\n",
       "0  562d996945cedb3398e78be8  53e9b108b7602d9703b85b88   NaN\n",
       "1  53f433efdabfaedce5516b23  53e9b108b7602d9703b85b88   NaN\n",
       "2  5628eae445ce1e59660effe6  53e9b108b7602d9703b85b88   NaN\n",
       "3  53f38e3edabfae4b34a44275  53e9b108b7602d9703b85b88   NaN\n",
       "4  548691a3dabfaed7b5fa2a43  53e9b108b7602d9703b85b88   1.0"
      ]
     },
     "execution_count": 14,
     "metadata": {},
     "output_type": "execute_result"
    }
   ],
   "source": [
    "merged_df = dataset.merge(data, how='left', left_on=[\"Authors\", \"Articles\"], right_on=[\"Authors\",\"Articles\"])\n",
    "merged_df.head()"
   ]
  },
  {
   "cell_type": "markdown",
   "metadata": {},
   "source": [
    "**Replace NaN values with 0**"
   ]
  },
  {
   "cell_type": "code",
   "execution_count": 15,
   "metadata": {
    "ExecuteTime": {
     "end_time": "2023-01-27T15:19:30.189239Z",
     "start_time": "2023-01-27T15:19:30.144666Z"
    }
   },
   "outputs": [
    {
     "data": {
      "text/html": [
       "<div>\n",
       "<style scoped>\n",
       "    .dataframe tbody tr th:only-of-type {\n",
       "        vertical-align: middle;\n",
       "    }\n",
       "\n",
       "    .dataframe tbody tr th {\n",
       "        vertical-align: top;\n",
       "    }\n",
       "\n",
       "    .dataframe thead th {\n",
       "        text-align: right;\n",
       "    }\n",
       "</style>\n",
       "<table border=\"1\" class=\"dataframe\">\n",
       "  <thead>\n",
       "    <tr style=\"text-align: right;\">\n",
       "      <th></th>\n",
       "      <th>Authors</th>\n",
       "      <th>Articles</th>\n",
       "      <th>View</th>\n",
       "    </tr>\n",
       "  </thead>\n",
       "  <tbody>\n",
       "    <tr>\n",
       "      <th>0</th>\n",
       "      <td>562d996945cedb3398e78be8</td>\n",
       "      <td>53e9b108b7602d9703b85b88</td>\n",
       "      <td>0.0</td>\n",
       "    </tr>\n",
       "    <tr>\n",
       "      <th>1</th>\n",
       "      <td>53f433efdabfaedce5516b23</td>\n",
       "      <td>53e9b108b7602d9703b85b88</td>\n",
       "      <td>0.0</td>\n",
       "    </tr>\n",
       "    <tr>\n",
       "      <th>2</th>\n",
       "      <td>5628eae445ce1e59660effe6</td>\n",
       "      <td>53e9b108b7602d9703b85b88</td>\n",
       "      <td>0.0</td>\n",
       "    </tr>\n",
       "    <tr>\n",
       "      <th>3</th>\n",
       "      <td>53f38e3edabfae4b34a44275</td>\n",
       "      <td>53e9b108b7602d9703b85b88</td>\n",
       "      <td>0.0</td>\n",
       "    </tr>\n",
       "    <tr>\n",
       "      <th>4</th>\n",
       "      <td>548691a3dabfaed7b5fa2a43</td>\n",
       "      <td>53e9b108b7602d9703b85b88</td>\n",
       "      <td>1.0</td>\n",
       "    </tr>\n",
       "  </tbody>\n",
       "</table>\n",
       "</div>"
      ],
      "text/plain": [
       "                    Authors                  Articles  View\n",
       "0  562d996945cedb3398e78be8  53e9b108b7602d9703b85b88   0.0\n",
       "1  53f433efdabfaedce5516b23  53e9b108b7602d9703b85b88   0.0\n",
       "2  5628eae445ce1e59660effe6  53e9b108b7602d9703b85b88   0.0\n",
       "3  53f38e3edabfae4b34a44275  53e9b108b7602d9703b85b88   0.0\n",
       "4  548691a3dabfaed7b5fa2a43  53e9b108b7602d9703b85b88   1.0"
      ]
     },
     "execution_count": 15,
     "metadata": {},
     "output_type": "execute_result"
    }
   ],
   "source": [
    "merged_df= merged_df.fillna(0)\n",
    "merged_df.head()"
   ]
  },
  {
   "cell_type": "markdown",
   "metadata": {},
   "source": [
    "**Convert authors and articles names into numerical IDs**"
   ]
  },
  {
   "cell_type": "code",
   "execution_count": 16,
   "metadata": {
    "ExecuteTime": {
     "end_time": "2023-01-27T15:19:50.500899Z",
     "start_time": "2023-01-27T15:19:30.193239Z"
    }
   },
   "outputs": [
    {
     "data": {
      "text/html": [
       "<div>\n",
       "<style scoped>\n",
       "    .dataframe tbody tr th:only-of-type {\n",
       "        vertical-align: middle;\n",
       "    }\n",
       "\n",
       "    .dataframe tbody tr th {\n",
       "        vertical-align: top;\n",
       "    }\n",
       "\n",
       "    .dataframe thead th {\n",
       "        text-align: right;\n",
       "    }\n",
       "</style>\n",
       "<table border=\"1\" class=\"dataframe\">\n",
       "  <thead>\n",
       "    <tr style=\"text-align: right;\">\n",
       "      <th></th>\n",
       "      <th>Authors</th>\n",
       "      <th>Articles</th>\n",
       "      <th>View</th>\n",
       "      <th>Lbl_Authors</th>\n",
       "      <th>Lbl_Articles</th>\n",
       "    </tr>\n",
       "  </thead>\n",
       "  <tbody>\n",
       "    <tr>\n",
       "      <th>0</th>\n",
       "      <td>562d996945cedb3398e78be8</td>\n",
       "      <td>53e9b108b7602d9703b85b88</td>\n",
       "      <td>0.0</td>\n",
       "      <td>640</td>\n",
       "      <td>18</td>\n",
       "    </tr>\n",
       "    <tr>\n",
       "      <th>1</th>\n",
       "      <td>53f433efdabfaedce5516b23</td>\n",
       "      <td>53e9b108b7602d9703b85b88</td>\n",
       "      <td>0.0</td>\n",
       "      <td>103</td>\n",
       "      <td>18</td>\n",
       "    </tr>\n",
       "    <tr>\n",
       "      <th>2</th>\n",
       "      <td>5628eae445ce1e59660effe6</td>\n",
       "      <td>53e9b108b7602d9703b85b88</td>\n",
       "      <td>0.0</td>\n",
       "      <td>563</td>\n",
       "      <td>18</td>\n",
       "    </tr>\n",
       "    <tr>\n",
       "      <th>3</th>\n",
       "      <td>53f38e3edabfae4b34a44275</td>\n",
       "      <td>53e9b108b7602d9703b85b88</td>\n",
       "      <td>0.0</td>\n",
       "      <td>24</td>\n",
       "      <td>18</td>\n",
       "    </tr>\n",
       "    <tr>\n",
       "      <th>4</th>\n",
       "      <td>548691a3dabfaed7b5fa2a43</td>\n",
       "      <td>53e9b108b7602d9703b85b88</td>\n",
       "      <td>1.0</td>\n",
       "      <td>497</td>\n",
       "      <td>18</td>\n",
       "    </tr>\n",
       "  </tbody>\n",
       "</table>\n",
       "</div>"
      ],
      "text/plain": [
       "                    Authors                  Articles  View  Lbl_Authors  \\\n",
       "0  562d996945cedb3398e78be8  53e9b108b7602d9703b85b88   0.0          640   \n",
       "1  53f433efdabfaedce5516b23  53e9b108b7602d9703b85b88   0.0          103   \n",
       "2  5628eae445ce1e59660effe6  53e9b108b7602d9703b85b88   0.0          563   \n",
       "3  53f38e3edabfae4b34a44275  53e9b108b7602d9703b85b88   0.0           24   \n",
       "4  548691a3dabfaed7b5fa2a43  53e9b108b7602d9703b85b88   1.0          497   \n",
       "\n",
       "   Lbl_Articles  \n",
       "0            18  \n",
       "1            18  \n",
       "2            18  \n",
       "3            18  \n",
       "4            18  "
      ]
     },
     "execution_count": 16,
     "metadata": {},
     "output_type": "execute_result"
    }
   ],
   "source": [
    "from sklearn import preprocessing\n",
    "\n",
    "lbl_authors = preprocessing.LabelEncoder()\n",
    "lbl_articles = preprocessing.LabelEncoder()\n",
    "\n",
    "merged_df['Lbl_Authors'] = lbl_authors.fit_transform(merged_df['Authors'].values)\n",
    "merged_df['Lbl_Articles'] = lbl_articles.fit_transform(merged_df['Articles'].values)\n",
    "\n",
    "merged_df.head()"
   ]
  },
  {
   "cell_type": "markdown",
   "metadata": {},
   "source": [
    "**Handle Imbalanced Data & split dataset in train and test datasets**"
   ]
  },
  {
   "cell_type": "code",
   "execution_count": 17,
   "metadata": {
    "ExecuteTime": {
     "end_time": "2023-01-27T15:19:50.627825Z",
     "start_time": "2023-01-27T15:19:50.581851Z"
    }
   },
   "outputs": [
    {
     "name": "stdout",
     "output_type": "stream",
     "text": [
      "0.0    49619\n",
      "1.0     3254\n",
      "Name: View, dtype: int64\n"
     ]
    }
   ],
   "source": [
    "print(merged_df['View'].value_counts())"
   ]
  },
  {
   "cell_type": "code",
   "execution_count": 18,
   "metadata": {
    "ExecuteTime": {
     "end_time": "2023-01-27T15:20:03.647342Z",
     "start_time": "2023-01-27T15:19:50.756384Z"
    }
   },
   "outputs": [],
   "source": [
    "from imblearn import over_sampling\n",
    "from imblearn.over_sampling import RandomOverSampler\n",
    "from sklearn import model_selection\n",
    "\n",
    "oversample = RandomOverSampler(sampling_strategy='minority')\n",
    "\n",
    "Y = merged_df['View'] \n",
    "X = merged_df[['Authors', 'Articles', 'Lbl_Authors', 'Lbl_Articles']]\n",
    "\n",
    "X , Y = oversample.fit_resample(X , Y)\n",
    "X_train, X_test, Y_train, Y_test = model_selection.train_test_split(X, Y, test_size=0.2)\n",
    "\n",
    "data_train = X_train\n",
    "data_train['View'] = Y_train\n",
    "data_test = X_test\n",
    "data_test['View'] = Y_test"
   ]
  },
  {
   "cell_type": "markdown",
   "metadata": {},
   "source": [
    "## Models\n"
   ]
  },
  {
   "cell_type": "markdown",
   "metadata": {},
   "source": [
    "### MF-MLP model"
   ]
  },
  {
   "cell_type": "markdown",
   "metadata": {},
   "source": [
    "#### Model Construction"
   ]
  },
  {
   "cell_type": "code",
   "execution_count": 19,
   "metadata": {
    "ExecuteTime": {
     "end_time": "2023-01-27T15:21:11.536660Z",
     "start_time": "2023-01-27T15:20:03.659335Z"
    }
   },
   "outputs": [],
   "source": [
    "import tensorflow.keras as keras\n",
    "from tensorflow.keras.layers import Concatenate, Dense, Embedding, Flatten, Input, Multiply, LSTM, Dropout, Reshape, BatchNormalization\n",
    "from tensorflow.keras.models import Model\n",
    "from tensorflow.keras.regularizers import l2\n",
    "from typing import List"
   ]
  },
  {
   "cell_type": "markdown",
   "metadata": {},
   "source": [
    "**Define the model**"
   ]
  },
  {
   "cell_type": "code",
   "execution_count": 20,
   "metadata": {
    "ExecuteTime": {
     "end_time": "2023-01-27T15:21:11.584633Z",
     "start_time": "2023-01-27T15:21:11.554630Z"
    }
   },
   "outputs": [],
   "source": [
    "def create_ncf(\n",
    "    number_of_users: int,\n",
    "    number_of_items: int,\n",
    "    latent_dim_mf: int = 4,\n",
    "    latent_dim_mlp: int = 32,\n",
    "    reg_mf: int = 0,\n",
    "    reg_mlp: int = 0.01\n",
    ") -> keras.Model:\n",
    "\n",
    "    # input layer\n",
    "    user = Input(shape=(), dtype=\"int32\", name=\"Lbl_Authors\")\n",
    "    item = Input(shape=(), dtype=\"int32\", name=\"Lbl_Articles\")\n",
    "\n",
    "    # embedding layers\n",
    "    mf_user_embedding = Embedding(input_dim = number_of_users, output_dim = latent_dim_mf, name = \"mf_user_embedding\", \n",
    "        embeddings_initializer = \"RandomNormal\", embeddings_regularizer = l2(reg_mf), input_length = 1)\n",
    "    mf_item_embedding = Embedding(input_dim = number_of_items, output_dim = latent_dim_mf, name = \"mf_item_embedding\",\n",
    "        embeddings_initializer = \"RandomNormal\", embeddings_regularizer = l2(reg_mf), input_length = 1)\n",
    "\n",
    "    mlp_user_embedding = Embedding(input_dim = number_of_users, output_dim = latent_dim_mlp, name = \"mlp_user_embedding\",\n",
    "        embeddings_initializer = \"RandomNormal\", embeddings_regularizer = l2(reg_mlp), input_length = 1)\n",
    "    mlp_item_embedding = Embedding(input_dim = number_of_items, output_dim = latent_dim_mlp, name = \"mlp_item_embedding\",\n",
    "        embeddings_initializer = \"RandomNormal\", embeddings_regularizer = l2(reg_mlp), input_length = 1)\n",
    "\n",
    "    # MF vector\n",
    "    mf_user_latent = Flatten()(mf_user_embedding(user))\n",
    "    mf_item_latent = Flatten()(mf_item_embedding(item))\n",
    "    mf_cat_latent = Multiply()([mf_user_latent, mf_item_latent])\n",
    "\n",
    "    # MLP vector\n",
    "    mlp_user_latent = Flatten()(mlp_user_embedding(user))\n",
    "    mlp_item_latent = Flatten()(mlp_item_embedding(item))\n",
    "    mlp_cat_latent = Concatenate()([mlp_user_latent, mlp_item_latent])\n",
    "    # Add a first dropout layer.\n",
    "    dropout = Dropout(0.2)(mlp_cat_latent)\n",
    "    #Αdd four hidden layers along with batch normalization and dropouts.\n",
    "    layer_1 = Dense(64, activation='relu', name='layer1')(dropout)\n",
    "    batch_norm1 = BatchNormalization(name='batch_norm1')(layer_1)\n",
    "    dropout1 = Dropout(0.2, name='dropout1')(batch_norm1)\n",
    "\n",
    "    layer_2 = Dense(32, activation='relu', name='layer2')(layer_1)\n",
    "    batch_norm2 = BatchNormalization(name='batch_norm1')(layer_2)\n",
    "    dropout2 = Dropout(0.2, name='dropout1')(batch_norm2)\n",
    "\n",
    "    layer_3 = Dense(16, activation='relu', name='layer3')(layer_2)\n",
    "    layer_4 = Dense(8, activation='relu', name='layer4')(layer_3)\n",
    "    #Merge the two networks together\n",
    "    merged_vector = Concatenate()([mf_cat_latent, layer_4])\n",
    "    #Add the final single neuron output layer.\n",
    "    output_layer = Dense(1, activation = \"sigmoid\", kernel_initializer=\"lecun_uniform\", name=\"View\")(merged_vector)\n",
    "\n",
    "    model = Model(inputs = [user, item], outputs = [output_layer])\n",
    "\n",
    "    return model"
   ]
  },
  {
   "cell_type": "markdown",
   "metadata": {},
   "source": [
    "**Create and compile the model**"
   ]
  },
  {
   "cell_type": "code",
   "execution_count": 21,
   "metadata": {
    "ExecuteTime": {
     "end_time": "2023-01-27T15:21:19.679182Z",
     "start_time": "2023-01-27T15:21:11.587610Z"
    },
    "scrolled": true
   },
   "outputs": [
    {
     "name": "stdout",
     "output_type": "stream",
     "text": [
      "Model: \"neural_collaborative_filtering\"\n",
      "__________________________________________________________________________________________________\n",
      " Layer (type)                   Output Shape         Param #     Connected to                     \n",
      "==================================================================================================\n",
      " Lbl_Authors (InputLayer)       [(None,)]            0           []                               \n",
      "                                                                                                  \n",
      " Lbl_Articles (InputLayer)      [(None,)]            0           []                               \n",
      "                                                                                                  \n",
      " mlp_user_embedding (Embedding)  (None, 32)          21632       ['Lbl_Authors[0][0]']            \n",
      "                                                                                                  \n",
      " mlp_item_embedding (Embedding)  (None, 32)          2496        ['Lbl_Articles[0][0]']           \n",
      "                                                                                                  \n",
      " flatten_2 (Flatten)            (None, 32)           0           ['mlp_user_embedding[0][0]']     \n",
      "                                                                                                  \n",
      " flatten_3 (Flatten)            (None, 32)           0           ['mlp_item_embedding[0][0]']     \n",
      "                                                                                                  \n",
      " concatenate (Concatenate)      (None, 64)           0           ['flatten_2[0][0]',              \n",
      "                                                                  'flatten_3[0][0]']              \n",
      "                                                                                                  \n",
      " dropout (Dropout)              (None, 64)           0           ['concatenate[0][0]']            \n",
      "                                                                                                  \n",
      " layer1 (Dense)                 (None, 64)           4160        ['dropout[0][0]']                \n",
      "                                                                                                  \n",
      " mf_user_embedding (Embedding)  (None, 4)            2704        ['Lbl_Authors[0][0]']            \n",
      "                                                                                                  \n",
      " mf_item_embedding (Embedding)  (None, 4)            312         ['Lbl_Articles[0][0]']           \n",
      "                                                                                                  \n",
      " layer2 (Dense)                 (None, 32)           2080        ['layer1[0][0]']                 \n",
      "                                                                                                  \n",
      " flatten (Flatten)              (None, 4)            0           ['mf_user_embedding[0][0]']      \n",
      "                                                                                                  \n",
      " flatten_1 (Flatten)            (None, 4)            0           ['mf_item_embedding[0][0]']      \n",
      "                                                                                                  \n",
      " layer3 (Dense)                 (None, 16)           528         ['layer2[0][0]']                 \n",
      "                                                                                                  \n",
      " multiply (Multiply)            (None, 4)            0           ['flatten[0][0]',                \n",
      "                                                                  'flatten_1[0][0]']              \n",
      "                                                                                                  \n",
      " layer4 (Dense)                 (None, 8)            136         ['layer3[0][0]']                 \n",
      "                                                                                                  \n",
      " concatenate_1 (Concatenate)    (None, 12)           0           ['multiply[0][0]',               \n",
      "                                                                  'layer4[0][0]']                 \n",
      "                                                                                                  \n",
      " View (Dense)                   (None, 1)            13          ['concatenate_1[0][0]']          \n",
      "                                                                                                  \n",
      "==================================================================================================\n",
      "Total params: 34,061\n",
      "Trainable params: 34,061\n",
      "Non-trainable params: 0\n",
      "__________________________________________________________________________________________________\n"
     ]
    }
   ],
   "source": [
    "from tensorflow.keras.optimizers import Adam\n",
    "import tensorflow as tf\n",
    "\n",
    "n_users = merged_df['Lbl_Authors'].nunique()\n",
    "n_items = merged_df['Lbl_Articles'].nunique()\n",
    "\n",
    "ncf_model = create_ncf(n_users, n_items)\n",
    "\n",
    "ncf_model.compile(optimizer = Adam(), loss = \"binary_crossentropy\",\n",
    "    metrics=[\n",
    "        tf.keras.metrics.TruePositives(name=\"tp\"),\n",
    "        tf.keras.metrics.FalsePositives(name=\"fp\"),\n",
    "        tf.keras.metrics.TrueNegatives(name=\"tn\"),\n",
    "        tf.keras.metrics.FalseNegatives(name=\"fn\"),\n",
    "        tf.keras.metrics.BinaryAccuracy(name=\"accuracy\"),\n",
    "        tf.keras.metrics.Precision(name=\"precision\"),\n",
    "        tf.keras.metrics.Recall(name=\"recall\"),\n",
    "        tf.keras.metrics.AUC(name=\"auc\"),\n",
    "    ],\n",
    ")\n",
    "\n",
    "ncf_model._name = \"neural_collaborative_filtering\"\n",
    "ncf_model.summary()"
   ]
  },
  {
   "cell_type": "markdown",
   "metadata": {},
   "source": [
    "**Make TensorFlow dataset from Pandas DataFrame to use it as input**"
   ]
  },
  {
   "cell_type": "code",
   "execution_count": 22,
   "metadata": {
    "ExecuteTime": {
     "end_time": "2023-01-27T15:21:19.773585Z",
     "start_time": "2023-01-27T15:21:19.761592Z"
    }
   },
   "outputs": [],
   "source": [
    "def make_tf_dataset(\n",
    "    df: pd.DataFrame,\n",
    "    targets: List[str],\n",
    "    val_split: float = 0.1,\n",
    "    batch_size: int = 512,\n",
    "    seed=42,\n",
    "):\n",
    "    \"\"\"\n",
    "    :param df: input DataFrame - only contains features and target(s)\n",
    "    :param targets: list of columns names corresponding to targets\n",
    "    :param val_split: fraction of the data that should be used for validation\n",
    "    :param batch_size: batch size for training\n",
    "    :param seed: random seed for shuffling data - `None` won't shuffle the data\n",
    "    \"\"\"\n",
    "\n",
    "    n_val = round(df.shape[0] * val_split)\n",
    "    if seed:\n",
    "        # shuffle all the rows\n",
    "        x = df.sample(frac=1, random_state=seed).to_dict(\"series\")\n",
    "    else:\n",
    "        x = df.to_dict(\"series\")\n",
    "    y = dict()\n",
    "    for t in targets:\n",
    "        y[t] = x.pop(t)\n",
    "    ds = tf.data.Dataset.from_tensor_slices((x, y))\n",
    "\n",
    "    ds_val = ds.take(n_val).batch(batch_size)\n",
    "    ds_train = ds.skip(n_val).batch(batch_size)\n",
    "    return ds_train, ds_val"
   ]
  },
  {
   "cell_type": "markdown",
   "metadata": {},
   "source": [
    "**Create train and validation datasets**"
   ]
  },
  {
   "cell_type": "code",
   "execution_count": 23,
   "metadata": {
    "ExecuteTime": {
     "end_time": "2023-01-27T15:21:20.555711Z",
     "start_time": "2023-01-27T15:21:19.791577Z"
    }
   },
   "outputs": [],
   "source": [
    "ds_train, ds_val = make_tf_dataset(data_train[['Lbl_Authors', 'Lbl_Articles', 'View']], [\"View\"])"
   ]
  },
  {
   "cell_type": "markdown",
   "metadata": {},
   "source": [
    "**Fit the model**"
   ]
  },
  {
   "cell_type": "code",
   "execution_count": 24,
   "metadata": {
    "ExecuteTime": {
     "end_time": "2023-01-27T15:22:17.132048Z",
     "start_time": "2023-01-27T15:21:20.561707Z"
    }
   },
   "outputs": [
    {
     "name": "stdout",
     "output_type": "stream",
     "text": [
      "Epoch 1/40\n",
      "140/140 [==============================] - 17s 26ms/step - loss: 0.7788 - tp: 19059.0000 - fp: 9464.0000 - tn: 26228.0000 - fn: 16700.0000 - accuracy: 0.6338 - precision: 0.6682 - recall: 0.5330 - auc: 0.6872 - val_loss: 0.6019 - val_tp: 2597.0000 - val_fp: 932.0000 - val_tn: 3039.0000 - val_fn: 1371.0000 - val_accuracy: 0.7099 - val_precision: 0.7359 - val_recall: 0.6545 - val_auc: 0.7784\n",
      "Epoch 2/40\n",
      "140/140 [==============================] - 1s 8ms/step - loss: 0.5617 - tp: 25408.0000 - fp: 9165.0000 - tn: 26527.0000 - fn: 10351.0000 - accuracy: 0.7269 - precision: 0.7349 - recall: 0.7105 - auc: 0.8068 - val_loss: 0.5161 - val_tp: 2809.0000 - val_fp: 915.0000 - val_tn: 3056.0000 - val_fn: 1159.0000 - val_accuracy: 0.7388 - val_precision: 0.7543 - val_recall: 0.7079 - val_auc: 0.8427\n",
      "Epoch 3/40\n",
      "140/140 [==============================] - 1s 7ms/step - loss: 0.4925 - tp: 29968.0000 - fp: 10148.0000 - tn: 25544.0000 - fn: 5791.0000 - accuracy: 0.7769 - precision: 0.7470 - recall: 0.8381 - auc: 0.8599 - val_loss: 0.4645 - val_tp: 3439.0000 - val_fp: 1113.0000 - val_tn: 2858.0000 - val_fn: 529.0000 - val_accuracy: 0.7932 - val_precision: 0.7555 - val_recall: 0.8667 - val_auc: 0.8792\n",
      "Epoch 4/40\n",
      "140/140 [==============================] - 1s 7ms/step - loss: 0.4495 - tp: 31846.0000 - fp: 9818.0000 - tn: 25874.0000 - fn: 3913.0000 - accuracy: 0.8078 - precision: 0.7644 - recall: 0.8906 - auc: 0.8903 - val_loss: 0.4199 - val_tp: 3602.0000 - val_fp: 1016.0000 - val_tn: 2955.0000 - val_fn: 366.0000 - val_accuracy: 0.8259 - val_precision: 0.7800 - val_recall: 0.9078 - val_auc: 0.9091\n",
      "Epoch 5/40\n",
      "140/140 [==============================] - 1s 10ms/step - loss: 0.3988 - tp: 32989.0000 - fp: 8422.0000 - tn: 27270.0000 - fn: 2770.0000 - accuracy: 0.8434 - precision: 0.7966 - recall: 0.9225 - auc: 0.9213 - val_loss: 0.3727 - val_tp: 3795.0000 - val_fp: 920.0000 - val_tn: 3051.0000 - val_fn: 173.0000 - val_accuracy: 0.8623 - val_precision: 0.8049 - val_recall: 0.9564 - val_auc: 0.9369\n",
      "Epoch 6/40\n",
      "140/140 [==============================] - 1s 8ms/step - loss: 0.3537 - tp: 33526.0000 - fp: 6729.0000 - tn: 28963.0000 - fn: 2233.0000 - accuracy: 0.8746 - precision: 0.8328 - recall: 0.9376 - auc: 0.9432 - val_loss: 0.3346 - val_tp: 3851.0000 - val_fp: 751.0000 - val_tn: 3220.0000 - val_fn: 117.0000 - val_accuracy: 0.8907 - val_precision: 0.8368 - val_recall: 0.9705 - val_auc: 0.9524\n",
      "Epoch 7/40\n",
      "140/140 [==============================] - 1s 6ms/step - loss: 0.3190 - tp: 33875.0000 - fp: 5539.0000 - tn: 30153.0000 - fn: 1884.0000 - accuracy: 0.8961 - precision: 0.8595 - recall: 0.9473 - auc: 0.9559 - val_loss: 0.3030 - val_tp: 3889.0000 - val_fp: 665.0000 - val_tn: 3306.0000 - val_fn: 79.0000 - val_accuracy: 0.9063 - val_precision: 0.8540 - val_recall: 0.9801 - val_auc: 0.9628\n",
      "Epoch 8/40\n",
      "140/140 [==============================] - 1s 8ms/step - loss: 0.2865 - tp: 34243.0000 - fp: 4684.0000 - tn: 31008.0000 - fn: 1516.0000 - accuracy: 0.9132 - precision: 0.8797 - recall: 0.9576 - auc: 0.9647 - val_loss: 0.2720 - val_tp: 3896.0000 - val_fp: 576.0000 - val_tn: 3395.0000 - val_fn: 72.0000 - val_accuracy: 0.9184 - val_precision: 0.8712 - val_recall: 0.9819 - val_auc: 0.9698\n",
      "Epoch 9/40\n",
      "140/140 [==============================] - 1s 8ms/step - loss: 0.2631 - tp: 34351.0000 - fp: 4057.0000 - tn: 31635.0000 - fn: 1408.0000 - accuracy: 0.9235 - precision: 0.8944 - recall: 0.9606 - auc: 0.9707 - val_loss: 0.2546 - val_tp: 3911.0000 - val_fp: 545.0000 - val_tn: 3426.0000 - val_fn: 57.0000 - val_accuracy: 0.9242 - val_precision: 0.8777 - val_recall: 0.9856 - val_auc: 0.9738\n",
      "Epoch 10/40\n",
      "140/140 [==============================] - 1s 8ms/step - loss: 0.2435 - tp: 34511.0000 - fp: 3592.0000 - tn: 32100.0000 - fn: 1248.0000 - accuracy: 0.9323 - precision: 0.9057 - recall: 0.9651 - auc: 0.9749 - val_loss: 0.2402 - val_tp: 3928.0000 - val_fp: 482.0000 - val_tn: 3489.0000 - val_fn: 40.0000 - val_accuracy: 0.9342 - val_precision: 0.8907 - val_recall: 0.9899 - val_auc: 0.9766\n",
      "Epoch 11/40\n",
      "140/140 [==============================] - 1s 8ms/step - loss: 0.2307 - tp: 34649.0000 - fp: 3316.0000 - tn: 32376.0000 - fn: 1110.0000 - accuracy: 0.9381 - precision: 0.9127 - recall: 0.9690 - auc: 0.9774 - val_loss: 0.2268 - val_tp: 3923.0000 - val_fp: 435.0000 - val_tn: 3536.0000 - val_fn: 45.0000 - val_accuracy: 0.9395 - val_precision: 0.9002 - val_recall: 0.9887 - val_auc: 0.9777\n",
      "Epoch 12/40\n",
      "140/140 [==============================] - 2s 11ms/step - loss: 0.2187 - tp: 34646.0000 - fp: 3063.0000 - tn: 32629.0000 - fn: 1113.0000 - accuracy: 0.9416 - precision: 0.9188 - recall: 0.9689 - auc: 0.9801 - val_loss: 0.2215 - val_tp: 3919.0000 - val_fp: 416.0000 - val_tn: 3555.0000 - val_fn: 49.0000 - val_accuracy: 0.9414 - val_precision: 0.9040 - val_recall: 0.9877 - val_auc: 0.9788\n",
      "Epoch 13/40\n",
      "140/140 [==============================] - 1s 9ms/step - loss: 0.2113 - tp: 34665.0000 - fp: 2920.0000 - tn: 32772.0000 - fn: 1094.0000 - accuracy: 0.9438 - precision: 0.9223 - recall: 0.9694 - auc: 0.9817 - val_loss: 0.2068 - val_tp: 3937.0000 - val_fp: 385.0000 - val_tn: 3586.0000 - val_fn: 31.0000 - val_accuracy: 0.9476 - val_precision: 0.9109 - val_recall: 0.9922 - val_auc: 0.9809\n",
      "Epoch 14/40\n",
      "140/140 [==============================] - 1s 7ms/step - loss: 0.2031 - tp: 34793.0000 - fp: 2740.0000 - tn: 32952.0000 - fn: 966.0000 - accuracy: 0.9481 - precision: 0.9270 - recall: 0.9730 - auc: 0.9830 - val_loss: 0.2063 - val_tp: 3934.0000 - val_fp: 358.0000 - val_tn: 3613.0000 - val_fn: 34.0000 - val_accuracy: 0.9506 - val_precision: 0.9166 - val_recall: 0.9914 - val_auc: 0.9811\n",
      "Epoch 15/40\n",
      "140/140 [==============================] - 1s 9ms/step - loss: 0.1955 - tp: 34760.0000 - fp: 2568.0000 - tn: 33124.0000 - fn: 999.0000 - accuracy: 0.9501 - precision: 0.9312 - recall: 0.9721 - auc: 0.9845 - val_loss: 0.2038 - val_tp: 3951.0000 - val_fp: 389.0000 - val_tn: 3582.0000 - val_fn: 17.0000 - val_accuracy: 0.9489 - val_precision: 0.9104 - val_recall: 0.9957 - val_auc: 0.9831\n",
      "Epoch 16/40\n",
      "140/140 [==============================] - 1s 7ms/step - loss: 0.1902 - tp: 34782.0000 - fp: 2441.0000 - tn: 33251.0000 - fn: 977.0000 - accuracy: 0.9522 - precision: 0.9344 - recall: 0.9727 - auc: 0.9855 - val_loss: 0.1908 - val_tp: 3957.0000 - val_fp: 344.0000 - val_tn: 3627.0000 - val_fn: 11.0000 - val_accuracy: 0.9553 - val_precision: 0.9200 - val_recall: 0.9972 - val_auc: 0.9842\n",
      "Epoch 17/40\n",
      "140/140 [==============================] - 1s 8ms/step - loss: 0.1871 - tp: 34814.0000 - fp: 2396.0000 - tn: 33296.0000 - fn: 945.0000 - accuracy: 0.9532 - precision: 0.9356 - recall: 0.9736 - auc: 0.9862 - val_loss: 0.1914 - val_tp: 3953.0000 - val_fp: 328.0000 - val_tn: 3643.0000 - val_fn: 15.0000 - val_accuracy: 0.9568 - val_precision: 0.9234 - val_recall: 0.9962 - val_auc: 0.9849\n",
      "Epoch 18/40\n",
      "140/140 [==============================] - 1s 8ms/step - loss: 0.1817 - tp: 34827.0000 - fp: 2269.0000 - tn: 33423.0000 - fn: 932.0000 - accuracy: 0.9552 - precision: 0.9388 - recall: 0.9739 - auc: 0.9873 - val_loss: 0.1922 - val_tp: 3949.0000 - val_fp: 341.0000 - val_tn: 3630.0000 - val_fn: 19.0000 - val_accuracy: 0.9547 - val_precision: 0.9205 - val_recall: 0.9952 - val_auc: 0.9851\n",
      "Epoch 19/40\n",
      "140/140 [==============================] - 1s 7ms/step - loss: 0.1768 - tp: 34842.0000 - fp: 2114.0000 - tn: 33578.0000 - fn: 917.0000 - accuracy: 0.9576 - precision: 0.9428 - recall: 0.9744 - auc: 0.9881 - val_loss: 0.1896 - val_tp: 3956.0000 - val_fp: 362.0000 - val_tn: 3609.0000 - val_fn: 12.0000 - val_accuracy: 0.9529 - val_precision: 0.9162 - val_recall: 0.9970 - val_auc: 0.9867\n",
      "Epoch 20/40\n",
      "140/140 [==============================] - 1s 6ms/step - loss: 0.1733 - tp: 34891.0000 - fp: 2055.0000 - tn: 33637.0000 - fn: 868.0000 - accuracy: 0.9591 - precision: 0.9444 - recall: 0.9757 - auc: 0.9888 - val_loss: 0.1728 - val_tp: 3946.0000 - val_fp: 285.0000 - val_tn: 3686.0000 - val_fn: 22.0000 - val_accuracy: 0.9613 - val_precision: 0.9326 - val_recall: 0.9945 - val_auc: 0.9885\n",
      "Epoch 21/40\n",
      "140/140 [==============================] - 1s 6ms/step - loss: 0.1707 - tp: 34878.0000 - fp: 1980.0000 - tn: 33712.0000 - fn: 881.0000 - accuracy: 0.9600 - precision: 0.9463 - recall: 0.9754 - auc: 0.9890 - val_loss: 0.1803 - val_tp: 3958.0000 - val_fp: 326.0000 - val_tn: 3645.0000 - val_fn: 10.0000 - val_accuracy: 0.9577 - val_precision: 0.9239 - val_recall: 0.9975 - val_auc: 0.9879\n",
      "Epoch 22/40\n",
      "140/140 [==============================] - 1s 7ms/step - loss: 0.1693 - tp: 34882.0000 - fp: 1951.0000 - tn: 33741.0000 - fn: 877.0000 - accuracy: 0.9604 - precision: 0.9470 - recall: 0.9755 - auc: 0.9893 - val_loss: 0.1756 - val_tp: 3944.0000 - val_fp: 301.0000 - val_tn: 3670.0000 - val_fn: 24.0000 - val_accuracy: 0.9591 - val_precision: 0.9291 - val_recall: 0.9940 - val_auc: 0.9890\n",
      "Epoch 23/40\n",
      "140/140 [==============================] - 1s 5ms/step - loss: 0.1618 - tp: 34979.0000 - fp: 1783.0000 - tn: 33909.0000 - fn: 780.0000 - accuracy: 0.9641 - precision: 0.9515 - recall: 0.9782 - auc: 0.9902 - val_loss: 0.1730 - val_tp: 3958.0000 - val_fp: 322.0000 - val_tn: 3649.0000 - val_fn: 10.0000 - val_accuracy: 0.9582 - val_precision: 0.9248 - val_recall: 0.9975 - val_auc: 0.9898\n",
      "Epoch 24/40\n",
      "140/140 [==============================] - 1s 6ms/step - loss: 0.1631 - tp: 34894.0000 - fp: 1854.0000 - tn: 33838.0000 - fn: 865.0000 - accuracy: 0.9619 - precision: 0.9495 - recall: 0.9758 - auc: 0.9905 - val_loss: 0.1655 - val_tp: 3950.0000 - val_fp: 265.0000 - val_tn: 3706.0000 - val_fn: 18.0000 - val_accuracy: 0.9644 - val_precision: 0.9371 - val_recall: 0.9955 - val_auc: 0.9896\n",
      "Epoch 25/40\n",
      "140/140 [==============================] - 1s 6ms/step - loss: 0.1591 - tp: 34903.0000 - fp: 1749.0000 - tn: 33943.0000 - fn: 856.0000 - accuracy: 0.9635 - precision: 0.9523 - recall: 0.9761 - auc: 0.9911 - val_loss: 0.1578 - val_tp: 3943.0000 - val_fp: 248.0000 - val_tn: 3723.0000 - val_fn: 25.0000 - val_accuracy: 0.9656 - val_precision: 0.9408 - val_recall: 0.9937 - val_auc: 0.9909\n",
      "Epoch 26/40\n",
      "140/140 [==============================] - 1s 6ms/step - loss: 0.1569 - tp: 34908.0000 - fp: 1738.0000 - tn: 33954.0000 - fn: 851.0000 - accuracy: 0.9638 - precision: 0.9526 - recall: 0.9762 - auc: 0.9914 - val_loss: 0.1618 - val_tp: 3955.0000 - val_fp: 260.0000 - val_tn: 3711.0000 - val_fn: 13.0000 - val_accuracy: 0.9656 - val_precision: 0.9383 - val_recall: 0.9967 - val_auc: 0.9905\n",
      "Epoch 27/40\n",
      "140/140 [==============================] - 1s 5ms/step - loss: 0.1572 - tp: 34941.0000 - fp: 1697.0000 - tn: 33995.0000 - fn: 818.0000 - accuracy: 0.9648 - precision: 0.9537 - recall: 0.9771 - auc: 0.9914 - val_loss: 0.1692 - val_tp: 3948.0000 - val_fp: 280.0000 - val_tn: 3691.0000 - val_fn: 20.0000 - val_accuracy: 0.9622 - val_precision: 0.9338 - val_recall: 0.9950 - val_auc: 0.9887\n",
      "Epoch 28/40\n",
      "140/140 [==============================] - 1s 5ms/step - loss: 0.1516 - tp: 34985.0000 - fp: 1632.0000 - tn: 34060.0000 - fn: 774.0000 - accuracy: 0.9663 - precision: 0.9554 - recall: 0.9784 - auc: 0.9922 - val_loss: 0.1589 - val_tp: 3957.0000 - val_fp: 255.0000 - val_tn: 3716.0000 - val_fn: 11.0000 - val_accuracy: 0.9665 - val_precision: 0.9395 - val_recall: 0.9972 - val_auc: 0.9906\n",
      "Epoch 29/40\n",
      "140/140 [==============================] - 1s 5ms/step - loss: 0.1523 - tp: 34931.0000 - fp: 1653.0000 - tn: 34039.0000 - fn: 828.0000 - accuracy: 0.9653 - precision: 0.9548 - recall: 0.9768 - auc: 0.9922 - val_loss: 0.1661 - val_tp: 3954.0000 - val_fp: 264.0000 - val_tn: 3707.0000 - val_fn: 14.0000 - val_accuracy: 0.9650 - val_precision: 0.9374 - val_recall: 0.9965 - val_auc: 0.9895\n",
      "Epoch 30/40\n",
      "140/140 [==============================] - 1s 5ms/step - loss: 0.1524 - tp: 34982.0000 - fp: 1610.0000 - tn: 34082.0000 - fn: 777.0000 - accuracy: 0.9666 - precision: 0.9560 - recall: 0.9783 - auc: 0.9924 - val_loss: 0.1624 - val_tp: 3949.0000 - val_fp: 248.0000 - val_tn: 3723.0000 - val_fn: 19.0000 - val_accuracy: 0.9664 - val_precision: 0.9409 - val_recall: 0.9952 - val_auc: 0.9901\n",
      "Epoch 31/40\n",
      "140/140 [==============================] - 1s 5ms/step - loss: 0.1480 - tp: 34987.0000 - fp: 1545.0000 - tn: 34147.0000 - fn: 772.0000 - accuracy: 0.9676 - precision: 0.9577 - recall: 0.9784 - auc: 0.9930 - val_loss: 0.1738 - val_tp: 3959.0000 - val_fp: 293.0000 - val_tn: 3678.0000 - val_fn: 9.0000 - val_accuracy: 0.9620 - val_precision: 0.9311 - val_recall: 0.9977 - val_auc: 0.9896\n",
      "Epoch 32/40\n",
      "140/140 [==============================] - 1s 5ms/step - loss: 0.1488 - tp: 34980.0000 - fp: 1532.0000 - tn: 34160.0000 - fn: 779.0000 - accuracy: 0.9677 - precision: 0.9580 - recall: 0.9782 - auc: 0.9929 - val_loss: 0.1582 - val_tp: 3952.0000 - val_fp: 246.0000 - val_tn: 3725.0000 - val_fn: 16.0000 - val_accuracy: 0.9670 - val_precision: 0.9414 - val_recall: 0.9960 - val_auc: 0.9908\n",
      "Epoch 33/40\n",
      "140/140 [==============================] - 1s 5ms/step - loss: 0.1483 - tp: 34958.0000 - fp: 1538.0000 - tn: 34154.0000 - fn: 801.0000 - accuracy: 0.9673 - precision: 0.9579 - recall: 0.9776 - auc: 0.9932 - val_loss: 0.1647 - val_tp: 3953.0000 - val_fp: 275.0000 - val_tn: 3696.0000 - val_fn: 15.0000 - val_accuracy: 0.9635 - val_precision: 0.9350 - val_recall: 0.9962 - val_auc: 0.9913\n",
      "Epoch 34/40\n",
      "140/140 [==============================] - 1s 7ms/step - loss: 0.1432 - tp: 34988.0000 - fp: 1459.0000 - tn: 34233.0000 - fn: 771.0000 - accuracy: 0.9688 - precision: 0.9600 - recall: 0.9784 - auc: 0.9937 - val_loss: 0.1615 - val_tp: 3963.0000 - val_fp: 270.0000 - val_tn: 3701.0000 - val_fn: 5.0000 - val_accuracy: 0.9654 - val_precision: 0.9362 - val_recall: 0.9987 - val_auc: 0.9914\n",
      "Epoch 35/40\n",
      "140/140 [==============================] - 1s 7ms/step - loss: 0.1406 - tp: 35006.0000 - fp: 1438.0000 - tn: 34254.0000 - fn: 753.0000 - accuracy: 0.9693 - precision: 0.9605 - recall: 0.9789 - auc: 0.9938 - val_loss: 0.1561 - val_tp: 3954.0000 - val_fp: 222.0000 - val_tn: 3749.0000 - val_fn: 14.0000 - val_accuracy: 0.9703 - val_precision: 0.9468 - val_recall: 0.9965 - val_auc: 0.9899\n",
      "Epoch 36/40\n",
      "140/140 [==============================] - 1s 7ms/step - loss: 0.1434 - tp: 35011.0000 - fp: 1427.0000 - tn: 34265.0000 - fn: 748.0000 - accuracy: 0.9696 - precision: 0.9608 - recall: 0.9791 - auc: 0.9935 - val_loss: 0.1637 - val_tp: 3958.0000 - val_fp: 263.0000 - val_tn: 3708.0000 - val_fn: 10.0000 - val_accuracy: 0.9656 - val_precision: 0.9377 - val_recall: 0.9975 - val_auc: 0.9912\n",
      "Epoch 37/40\n",
      "140/140 [==============================] - 1s 7ms/step - loss: 0.1397 - tp: 35031.0000 - fp: 1357.0000 - tn: 34335.0000 - fn: 728.0000 - accuracy: 0.9708 - precision: 0.9627 - recall: 0.9796 - auc: 0.9941 - val_loss: 0.1687 - val_tp: 3957.0000 - val_fp: 282.0000 - val_tn: 3689.0000 - val_fn: 11.0000 - val_accuracy: 0.9631 - val_precision: 0.9335 - val_recall: 0.9972 - val_auc: 0.9913\n",
      "Epoch 38/40\n",
      "140/140 [==============================] - 1s 8ms/step - loss: 0.1399 - tp: 34997.0000 - fp: 1374.0000 - tn: 34318.0000 - fn: 762.0000 - accuracy: 0.9701 - precision: 0.9622 - recall: 0.9787 - auc: 0.9942 - val_loss: 0.1575 - val_tp: 3953.0000 - val_fp: 246.0000 - val_tn: 3725.0000 - val_fn: 15.0000 - val_accuracy: 0.9671 - val_precision: 0.9414 - val_recall: 0.9962 - val_auc: 0.9916\n",
      "Epoch 39/40\n",
      "140/140 [==============================] - 1s 6ms/step - loss: 0.1375 - tp: 35013.0000 - fp: 1367.0000 - tn: 34325.0000 - fn: 746.0000 - accuracy: 0.9704 - precision: 0.9624 - recall: 0.9791 - auc: 0.9945 - val_loss: 0.1454 - val_tp: 3944.0000 - val_fp: 218.0000 - val_tn: 3753.0000 - val_fn: 24.0000 - val_accuracy: 0.9695 - val_precision: 0.9476 - val_recall: 0.9940 - val_auc: 0.9928\n",
      "Epoch 40/40\n",
      "140/140 [==============================] - 1s 6ms/step - loss: 0.1407 - tp: 34992.0000 - fp: 1394.0000 - tn: 34298.0000 - fn: 767.0000 - accuracy: 0.9698 - precision: 0.9617 - recall: 0.9786 - auc: 0.9943 - val_loss: 0.1522 - val_tp: 3957.0000 - val_fp: 230.0000 - val_tn: 3741.0000 - val_fn: 11.0000 - val_accuracy: 0.9696 - val_precision: 0.9451 - val_recall: 0.9972 - val_auc: 0.9918\n",
      "Wall time: 56.3 s\n"
     ]
    }
   ],
   "source": [
    "%%time\n",
    "train_hist = ncf_model.fit(ds_train, validation_data = ds_val, epochs = 40, verbose=1)"
   ]
  },
  {
   "cell_type": "markdown",
   "metadata": {},
   "source": [
    "#### Prediction and evaluation"
   ]
  },
  {
   "cell_type": "markdown",
   "metadata": {},
   "source": [
    "**Make tf testing dataset** "
   ]
  },
  {
   "cell_type": "code",
   "execution_count": 25,
   "metadata": {
    "ExecuteTime": {
     "end_time": "2023-01-27T15:22:17.163653Z",
     "start_time": "2023-01-27T15:22:17.135047Z"
    }
   },
   "outputs": [],
   "source": [
    "ds_test, _ = make_tf_dataset(data_test[['Lbl_Authors', 'Lbl_Articles', 'View']], [\"View\"], val_split=0, seed=None)"
   ]
  },
  {
   "cell_type": "markdown",
   "metadata": {},
   "source": [
    "**Make the prediction**"
   ]
  },
  {
   "cell_type": "code",
   "execution_count": 26,
   "metadata": {
    "ExecuteTime": {
     "end_time": "2023-01-27T15:22:17.766528Z",
     "start_time": "2023-01-27T15:22:17.166653Z"
    }
   },
   "outputs": [
    {
     "name": "stdout",
     "output_type": "stream",
     "text": [
      "Wall time: 451 ms\n"
     ]
    },
    {
     "data": {
      "text/html": [
       "<div>\n",
       "<style scoped>\n",
       "    .dataframe tbody tr th:only-of-type {\n",
       "        vertical-align: middle;\n",
       "    }\n",
       "\n",
       "    .dataframe tbody tr th {\n",
       "        vertical-align: top;\n",
       "    }\n",
       "\n",
       "    .dataframe thead th {\n",
       "        text-align: right;\n",
       "    }\n",
       "</style>\n",
       "<table border=\"1\" class=\"dataframe\">\n",
       "  <thead>\n",
       "    <tr style=\"text-align: right;\">\n",
       "      <th></th>\n",
       "      <th>Authors</th>\n",
       "      <th>Articles</th>\n",
       "      <th>Lbl_Authors</th>\n",
       "      <th>Lbl_Articles</th>\n",
       "      <th>View</th>\n",
       "      <th>ncf_predictions</th>\n",
       "    </tr>\n",
       "  </thead>\n",
       "  <tbody>\n",
       "    <tr>\n",
       "      <th>35368</th>\n",
       "      <td>5485810adabfae9b40133700</td>\n",
       "      <td>5550411745ce0a409eb38760</td>\n",
       "      <td>485</td>\n",
       "      <td>31</td>\n",
       "      <td>0.0</td>\n",
       "      <td>0.999039</td>\n",
       "    </tr>\n",
       "    <tr>\n",
       "      <th>46207</th>\n",
       "      <td>562d148645cedb3398d49e87</td>\n",
       "      <td>573696026e3b12023e515eec</td>\n",
       "      <td>615</td>\n",
       "      <td>48</td>\n",
       "      <td>1.0</td>\n",
       "      <td>0.977494</td>\n",
       "    </tr>\n",
       "    <tr>\n",
       "      <th>35273</th>\n",
       "      <td>53f4c02adabfaedce5658d38</td>\n",
       "      <td>5550411745ce0a409eb38760</td>\n",
       "      <td>297</td>\n",
       "      <td>31</td>\n",
       "      <td>0.0</td>\n",
       "      <td>0.017526</td>\n",
       "    </tr>\n",
       "    <tr>\n",
       "      <th>21235</th>\n",
       "      <td>53f438c7dabfaeee229c1616</td>\n",
       "      <td>53e9aa48b7602d97033b6b90</td>\n",
       "      <td>140</td>\n",
       "      <td>12</td>\n",
       "      <td>0.0</td>\n",
       "      <td>0.000012</td>\n",
       "    </tr>\n",
       "    <tr>\n",
       "      <th>61424</th>\n",
       "      <td>5409688bdabfae450f481730</td>\n",
       "      <td>58d82fced649053542fd7289</td>\n",
       "      <td>386</td>\n",
       "      <td>65</td>\n",
       "      <td>1.0</td>\n",
       "      <td>0.966127</td>\n",
       "    </tr>\n",
       "  </tbody>\n",
       "</table>\n",
       "</div>"
      ],
      "text/plain": [
       "                        Authors                  Articles  Lbl_Authors  \\\n",
       "35368  5485810adabfae9b40133700  5550411745ce0a409eb38760          485   \n",
       "46207  562d148645cedb3398d49e87  573696026e3b12023e515eec          615   \n",
       "35273  53f4c02adabfaedce5658d38  5550411745ce0a409eb38760          297   \n",
       "21235  53f438c7dabfaeee229c1616  53e9aa48b7602d97033b6b90          140   \n",
       "61424  5409688bdabfae450f481730  58d82fced649053542fd7289          386   \n",
       "\n",
       "       Lbl_Articles  View  ncf_predictions  \n",
       "35368            31   0.0         0.999039  \n",
       "46207            48   1.0         0.977494  \n",
       "35273            31   0.0         0.017526  \n",
       "21235            12   0.0         0.000012  \n",
       "61424            65   1.0         0.966127  "
      ]
     },
     "execution_count": 26,
     "metadata": {},
     "output_type": "execute_result"
    }
   ],
   "source": [
    "%%time\n",
    "ncf_predictions = ncf_model.predict(ds_test)\n",
    "data_test[\"ncf_predictions\"] = ncf_predictions\n",
    "\n",
    "data_test.head()"
   ]
  },
  {
   "cell_type": "markdown",
   "metadata": {},
   "source": [
    "**Delete duplicates**"
   ]
  },
  {
   "cell_type": "code",
   "execution_count": 27,
   "metadata": {
    "ExecuteTime": {
     "end_time": "2023-01-27T15:22:17.798511Z",
     "start_time": "2023-01-27T15:22:17.769526Z"
    }
   },
   "outputs": [
    {
     "data": {
      "text/plain": [
       "6931"
      ]
     },
     "execution_count": 27,
     "metadata": {},
     "output_type": "execute_result"
    }
   ],
   "source": [
    "len(data_test[data_test.duplicated(subset=['Lbl_Authors','Lbl_Articles'])])"
   ]
  },
  {
   "cell_type": "code",
   "execution_count": 28,
   "metadata": {
    "ExecuteTime": {
     "end_time": "2023-01-27T15:22:17.893195Z",
     "start_time": "2023-01-27T15:22:17.803507Z"
    }
   },
   "outputs": [],
   "source": [
    "df_test = data_test.drop_duplicates(subset=['Lbl_Authors','Lbl_Articles'])"
   ]
  },
  {
   "cell_type": "code",
   "execution_count": 29,
   "metadata": {
    "ExecuteTime": {
     "end_time": "2023-01-27T15:22:18.081282Z",
     "start_time": "2023-01-27T15:22:17.911187Z"
    }
   },
   "outputs": [
    {
     "data": {
      "text/plain": [
       "0"
      ]
     },
     "execution_count": 29,
     "metadata": {},
     "output_type": "execute_result"
    }
   ],
   "source": [
    "len(df_test[df_test.duplicated(subset=['Lbl_Authors','Lbl_Articles'])])"
   ]
  },
  {
   "cell_type": "markdown",
   "metadata": {},
   "source": [
    "**Compute Precision, Recall and RMSE metrics**"
   ]
  },
  {
   "cell_type": "code",
   "execution_count": 105,
   "metadata": {
    "ExecuteTime": {
     "end_time": "2023-01-27T15:36:49.337533Z",
     "start_time": "2023-01-27T15:36:49.146533Z"
    }
   },
   "outputs": [
    {
     "name": "stdout",
     "output_type": "stream",
     "text": [
      "We have a precision of 0.93133336\n"
     ]
    }
   ],
   "source": [
    "from tensorflow.keras.metrics import Precision, Recall\n",
    "\n",
    "Precision = Precision(top_k=100)\n",
    "#Recall = Recall(top_k=5)\n",
    "\n",
    "Precision.update_state(df_test[\"View\"], df_test[\"ncf_predictions\"])\n",
    "#Recall.update_state(df_test[\"View\"], df_test[\"ncf_predictions\"])\n",
    "\n",
    "print(\"We have a precision of\",  Precision.result().numpy()) #, \",a recall of\", Recall.result().numpy())"
   ]
  },
  {
   "cell_type": "markdown",
   "metadata": {},
   "source": [
    "**Εquate predictions to 1 if it is grater than 0.5 or else to 0** "
   ]
  },
  {
   "cell_type": "code",
   "execution_count": 31,
   "metadata": {
    "ExecuteTime": {
     "end_time": "2023-01-27T15:22:18.350287Z",
     "start_time": "2023-01-27T15:22:18.305302Z"
    }
   },
   "outputs": [
    {
     "name": "stdout",
     "output_type": "stream",
     "text": [
      "0    9393\n",
      "1    3524\n",
      "Name: ncf_predictions_dummy, dtype: int64\n"
     ]
    },
    {
     "name": "stderr",
     "output_type": "stream",
     "text": [
      "<ipython-input-31-f7aab431bd59>:1: SettingWithCopyWarning: \n",
      "A value is trying to be set on a copy of a slice from a DataFrame.\n",
      "Try using .loc[row_indexer,col_indexer] = value instead\n",
      "\n",
      "See the caveats in the documentation: https://pandas.pydata.org/pandas-docs/stable/user_guide/indexing.html#returning-a-view-versus-a-copy\n",
      "  df_test['ncf_predictions_dummy'] = df_test['ncf_predictions'].apply(lambda rating : +1 if rating >= 0.5 else 0)\n"
     ]
    },
    {
     "data": {
      "text/html": [
       "<div>\n",
       "<style scoped>\n",
       "    .dataframe tbody tr th:only-of-type {\n",
       "        vertical-align: middle;\n",
       "    }\n",
       "\n",
       "    .dataframe tbody tr th {\n",
       "        vertical-align: top;\n",
       "    }\n",
       "\n",
       "    .dataframe thead th {\n",
       "        text-align: right;\n",
       "    }\n",
       "</style>\n",
       "<table border=\"1\" class=\"dataframe\">\n",
       "  <thead>\n",
       "    <tr style=\"text-align: right;\">\n",
       "      <th></th>\n",
       "      <th>Authors</th>\n",
       "      <th>Articles</th>\n",
       "      <th>Lbl_Authors</th>\n",
       "      <th>Lbl_Articles</th>\n",
       "      <th>View</th>\n",
       "      <th>ncf_predictions</th>\n",
       "      <th>ncf_predictions_dummy</th>\n",
       "    </tr>\n",
       "  </thead>\n",
       "  <tbody>\n",
       "    <tr>\n",
       "      <th>35368</th>\n",
       "      <td>5485810adabfae9b40133700</td>\n",
       "      <td>5550411745ce0a409eb38760</td>\n",
       "      <td>485</td>\n",
       "      <td>31</td>\n",
       "      <td>0.0</td>\n",
       "      <td>0.999039</td>\n",
       "      <td>1</td>\n",
       "    </tr>\n",
       "    <tr>\n",
       "      <th>46207</th>\n",
       "      <td>562d148645cedb3398d49e87</td>\n",
       "      <td>573696026e3b12023e515eec</td>\n",
       "      <td>615</td>\n",
       "      <td>48</td>\n",
       "      <td>1.0</td>\n",
       "      <td>0.977494</td>\n",
       "      <td>1</td>\n",
       "    </tr>\n",
       "    <tr>\n",
       "      <th>35273</th>\n",
       "      <td>53f4c02adabfaedce5658d38</td>\n",
       "      <td>5550411745ce0a409eb38760</td>\n",
       "      <td>297</td>\n",
       "      <td>31</td>\n",
       "      <td>0.0</td>\n",
       "      <td>0.017526</td>\n",
       "      <td>0</td>\n",
       "    </tr>\n",
       "    <tr>\n",
       "      <th>21235</th>\n",
       "      <td>53f438c7dabfaeee229c1616</td>\n",
       "      <td>53e9aa48b7602d97033b6b90</td>\n",
       "      <td>140</td>\n",
       "      <td>12</td>\n",
       "      <td>0.0</td>\n",
       "      <td>0.000012</td>\n",
       "      <td>0</td>\n",
       "    </tr>\n",
       "    <tr>\n",
       "      <th>61424</th>\n",
       "      <td>5409688bdabfae450f481730</td>\n",
       "      <td>58d82fced649053542fd7289</td>\n",
       "      <td>386</td>\n",
       "      <td>65</td>\n",
       "      <td>1.0</td>\n",
       "      <td>0.966127</td>\n",
       "      <td>1</td>\n",
       "    </tr>\n",
       "  </tbody>\n",
       "</table>\n",
       "</div>"
      ],
      "text/plain": [
       "                        Authors                  Articles  Lbl_Authors  \\\n",
       "35368  5485810adabfae9b40133700  5550411745ce0a409eb38760          485   \n",
       "46207  562d148645cedb3398d49e87  573696026e3b12023e515eec          615   \n",
       "35273  53f4c02adabfaedce5658d38  5550411745ce0a409eb38760          297   \n",
       "21235  53f438c7dabfaeee229c1616  53e9aa48b7602d97033b6b90          140   \n",
       "61424  5409688bdabfae450f481730  58d82fced649053542fd7289          386   \n",
       "\n",
       "       Lbl_Articles  View  ncf_predictions  ncf_predictions_dummy  \n",
       "35368            31   0.0         0.999039                      1  \n",
       "46207            48   1.0         0.977494                      1  \n",
       "35273            31   0.0         0.017526                      0  \n",
       "21235            12   0.0         0.000012                      0  \n",
       "61424            65   1.0         0.966127                      1  "
      ]
     },
     "execution_count": 31,
     "metadata": {},
     "output_type": "execute_result"
    }
   ],
   "source": [
    "df_test['ncf_predictions_dummy'] = df_test['ncf_predictions'].apply(lambda rating : +1 if rating >= 0.5 else 0)\n",
    "print(df_test['ncf_predictions_dummy'].value_counts())\n",
    "df_test.head()"
   ]
  },
  {
   "cell_type": "markdown",
   "metadata": {},
   "source": [
    "**Compute the accuracy score**"
   ]
  },
  {
   "cell_type": "code",
   "execution_count": 32,
   "metadata": {
    "ExecuteTime": {
     "end_time": "2023-01-27T15:22:18.473641Z",
     "start_time": "2023-01-27T15:22:18.354275Z"
    }
   },
   "outputs": [
    {
     "name": "stdout",
     "output_type": "stream",
     "text": [
      "Accuracy is equal to 0.954401176743826\n"
     ]
    }
   ],
   "source": [
    "from sklearn.metrics import accuracy_score\n",
    "\n",
    "print(\"Accuracy is equal to\", accuracy_score(df_test[\"View\"], df_test[\"ncf_predictions_dummy\"]))"
   ]
  },
  {
   "cell_type": "markdown",
   "metadata": {},
   "source": [
    "**Make an example recommendation**"
   ]
  },
  {
   "cell_type": "code",
   "execution_count": 33,
   "metadata": {
    "ExecuteTime": {
     "end_time": "2023-01-27T15:22:18.598585Z",
     "start_time": "2023-01-27T15:22:18.504623Z"
    }
   },
   "outputs": [
    {
     "data": {
      "text/html": [
       "<div>\n",
       "<style scoped>\n",
       "    .dataframe tbody tr th:only-of-type {\n",
       "        vertical-align: middle;\n",
       "    }\n",
       "\n",
       "    .dataframe tbody tr th {\n",
       "        vertical-align: top;\n",
       "    }\n",
       "\n",
       "    .dataframe thead th {\n",
       "        text-align: right;\n",
       "    }\n",
       "</style>\n",
       "<table border=\"1\" class=\"dataframe\">\n",
       "  <thead>\n",
       "    <tr style=\"text-align: right;\">\n",
       "      <th></th>\n",
       "      <th>Authors</th>\n",
       "      <th>Articles</th>\n",
       "      <th>Lbl_Authors</th>\n",
       "      <th>Lbl_Articles</th>\n",
       "      <th>View</th>\n",
       "      <th>ncf_predictions</th>\n",
       "      <th>ncf_predictions_dummy</th>\n",
       "    </tr>\n",
       "  </thead>\n",
       "  <tbody>\n",
       "    <tr>\n",
       "      <th>6837</th>\n",
       "      <td>5486563cdabfae9b40133d17</td>\n",
       "      <td>53e9bcc1b7602d97049412d4</td>\n",
       "      <td>494</td>\n",
       "      <td>25</td>\n",
       "      <td>1.0</td>\n",
       "      <td>0.999934</td>\n",
       "      <td>1</td>\n",
       "    </tr>\n",
       "    <tr>\n",
       "      <th>65504</th>\n",
       "      <td>5486563cdabfae9b40133d17</td>\n",
       "      <td>573698016e3b12023e6da477</td>\n",
       "      <td>494</td>\n",
       "      <td>59</td>\n",
       "      <td>1.0</td>\n",
       "      <td>0.998943</td>\n",
       "      <td>1</td>\n",
       "    </tr>\n",
       "    <tr>\n",
       "      <th>56244</th>\n",
       "      <td>5486563cdabfae9b40133d17</td>\n",
       "      <td>58d82fced649053542fd7355</td>\n",
       "      <td>494</td>\n",
       "      <td>66</td>\n",
       "      <td>1.0</td>\n",
       "      <td>0.992600</td>\n",
       "      <td>1</td>\n",
       "    </tr>\n",
       "    <tr>\n",
       "      <th>33955</th>\n",
       "      <td>5486563cdabfae9b40133d17</td>\n",
       "      <td>53e9a479b7602d9702d98afa</td>\n",
       "      <td>494</td>\n",
       "      <td>6</td>\n",
       "      <td>0.0</td>\n",
       "      <td>0.881807</td>\n",
       "      <td>1</td>\n",
       "    </tr>\n",
       "    <tr>\n",
       "      <th>14300</th>\n",
       "      <td>5486563cdabfae9b40133d17</td>\n",
       "      <td>58d82fced649053542fd7289</td>\n",
       "      <td>494</td>\n",
       "      <td>65</td>\n",
       "      <td>0.0</td>\n",
       "      <td>0.511678</td>\n",
       "      <td>1</td>\n",
       "    </tr>\n",
       "  </tbody>\n",
       "</table>\n",
       "</div>"
      ],
      "text/plain": [
       "                        Authors                  Articles  Lbl_Authors  \\\n",
       "6837   5486563cdabfae9b40133d17  53e9bcc1b7602d97049412d4          494   \n",
       "65504  5486563cdabfae9b40133d17  573698016e3b12023e6da477          494   \n",
       "56244  5486563cdabfae9b40133d17  58d82fced649053542fd7355          494   \n",
       "33955  5486563cdabfae9b40133d17  53e9a479b7602d9702d98afa          494   \n",
       "14300  5486563cdabfae9b40133d17  58d82fced649053542fd7289          494   \n",
       "\n",
       "       Lbl_Articles  View  ncf_predictions  ncf_predictions_dummy  \n",
       "6837             25   1.0         0.999934                      1  \n",
       "65504            59   1.0         0.998943                      1  \n",
       "56244            66   1.0         0.992600                      1  \n",
       "33955             6   0.0         0.881807                      1  \n",
       "14300            65   0.0         0.511678                      1  "
      ]
     },
     "execution_count": 33,
     "metadata": {},
     "output_type": "execute_result"
    }
   ],
   "source": [
    "#Pick a random author\n",
    "smpl = df_test.sample()\n",
    "#Find his predictions\n",
    "author_pred = df_test.loc[df_test['Lbl_Authors'] == smpl.iloc[0]['Lbl_Authors']]\n",
    "#Sort them by ncf_prediction from largest to smallest.\n",
    "recommendation = author_pred.sort_values(by=['ncf_predictions'], ascending=False)\n",
    "#Make the 5 most likely to like recommendations\n",
    "recommendation.head()"
   ]
  },
  {
   "cell_type": "markdown",
   "metadata": {},
   "source": [
    "### MF-LSTM model"
   ]
  },
  {
   "cell_type": "markdown",
   "metadata": {},
   "source": [
    "#### Model Construction"
   ]
  },
  {
   "cell_type": "markdown",
   "metadata": {},
   "source": [
    "**Define the model**"
   ]
  },
  {
   "cell_type": "code",
   "execution_count": 34,
   "metadata": {
    "ExecuteTime": {
     "end_time": "2023-01-27T15:22:18.678525Z",
     "start_time": "2023-01-27T15:22:18.604564Z"
    }
   },
   "outputs": [],
   "source": [
    "def create_ncf2(\n",
    "    number_of_users: int,\n",
    "    number_of_items: int,\n",
    "    latent_dim_mf: int = 4,\n",
    "    latent_dim_lstm: int = 32,\n",
    "    reg_mf: int = 0,\n",
    "    reg_lstm: int = 0.01,\n",
    "    dense_layers: List[int] = [8, 4],\n",
    "    reg_layers: List[int] = [0.01, 0.01],\n",
    "    activation_dense: str = \"relu\",\n",
    ") -> keras.Model:\n",
    "\n",
    "    # input layer\n",
    "    user = Input(shape=(1,), name=\"Lbl_Authors\")\n",
    "    item = Input(shape=(1,), name=\"Lbl_Articles\")\n",
    "\n",
    "    # embedding layers\n",
    "    mf_user_embedding = Embedding(input_dim = number_of_users, output_dim = latent_dim_mf, name = \"mf_user_embedding\", \n",
    "        embeddings_initializer = \"RandomNormal\", embeddings_regularizer = l2(reg_mf), input_length = 1)\n",
    "    mf_item_embedding = Embedding(input_dim = number_of_items, output_dim = latent_dim_mf, name = \"mf_item_embedding\",\n",
    "        embeddings_initializer = \"RandomNormal\", embeddings_regularizer = l2(reg_mf), input_length = 1)\n",
    "\n",
    "    lstm_user_embedding = Embedding(input_dim = number_of_users, output_dim = latent_dim_lstm, name = \"lstm_user_embedding\",\n",
    "        embeddings_initializer = \"RandomNormal\", embeddings_regularizer = l2(reg_lstm), input_length = 1)\n",
    "    lstm_item_embedding = Embedding(input_dim = number_of_items, output_dim = latent_dim_lstm, name = \"lstm_item_embedding\",\n",
    "        embeddings_initializer = \"RandomNormal\", embeddings_regularizer = l2(reg_lstm), input_length = 1)\n",
    "    \n",
    "    # MF vector\n",
    "    mf_user_latent = Flatten()(mf_user_embedding(user))\n",
    "    mf_item_latent = Flatten()(mf_item_embedding(item))\n",
    "    mf_cat_latent = Multiply()([mf_user_latent, mf_item_latent])\n",
    "\n",
    "    # LSTM vector\n",
    "    lstm_user_latent = Flatten()(lstm_user_embedding(user))\n",
    "    lstm_item_latent = Flatten()(lstm_item_embedding(item))\n",
    "    nn = Concatenate()([lstm_user_latent, lstm_item_latent])\n",
    "    lstm_cat_latent = Reshape((1, latent_dim_lstm * 2), input_shape=(latent_dim_lstm * 2,))(nn)\n",
    "    \n",
    "    lstm1 = LSTM(name=\"LSTM1\", units=latent_dim_lstm, activation='relu')(lstm_cat_latent)\n",
    "    lstm1 = Dropout(0.3)(lstm1)\n",
    "    lstm2 = LSTM(name=\"LSTM2\", units=latent_dim_lstm, activation='relu')(lstm_cat_latent)\n",
    "    lstm2 = Dropout(0.3)(lstm2)\n",
    "    lstm3 = LSTM(name=\"LSTM3\", units=latent_dim_lstm, activation='relu')(lstm_cat_latent)\n",
    "    lstm3 = Dropout(0.3)(lstm3)\n",
    "    lstm4 = LSTM(name=\"LSTM4\", units=latent_dim_lstm, activation='relu')(lstm_cat_latent)\n",
    "    lstm4 = Dropout(0.3)(lstm4)\n",
    "    \n",
    "    output = Concatenate()([lstm1, lstm2, lstm3, lstm4])\n",
    "    \n",
    "    output = Dense(units=int(latent_dim_lstm / 2), activation='relu')(output)\n",
    "    output = Dropout(.3)(output)\n",
    "    lstm_vector = Reshape((int(latent_dim_lstm / 2),), input_shape=(1, int(latent_dim_lstm / 2)))(output) \n",
    "    \n",
    "    predict_layer = Concatenate()([mf_cat_latent, lstm_vector])\n",
    "\n",
    "    result = Dense(1, activation = \"sigmoid\", kernel_initializer = \"lecun_uniform\", name = \"View\")\n",
    "\n",
    "    output = result(predict_layer)\n",
    "\n",
    "    model = Model(inputs = [user, item], outputs = [output])\n",
    "\n",
    "    return model"
   ]
  },
  {
   "cell_type": "markdown",
   "metadata": {},
   "source": [
    "**Create and compile the model**"
   ]
  },
  {
   "cell_type": "code",
   "execution_count": 35,
   "metadata": {
    "ExecuteTime": {
     "end_time": "2023-01-27T15:22:20.063943Z",
     "start_time": "2023-01-27T15:22:18.685518Z"
    }
   },
   "outputs": [
    {
     "name": "stdout",
     "output_type": "stream",
     "text": [
      "Model: \"neural_collaborative_filtering\"\n",
      "__________________________________________________________________________________________________\n",
      " Layer (type)                   Output Shape         Param #     Connected to                     \n",
      "==================================================================================================\n",
      " Lbl_Authors (InputLayer)       [(None, 1)]          0           []                               \n",
      "                                                                                                  \n",
      " Lbl_Articles (InputLayer)      [(None, 1)]          0           []                               \n",
      "                                                                                                  \n",
      " lstm_user_embedding (Embedding  (None, 1, 32)       21632       ['Lbl_Authors[0][0]']            \n",
      " )                                                                                                \n",
      "                                                                                                  \n",
      " lstm_item_embedding (Embedding  (None, 1, 32)       2496        ['Lbl_Articles[0][0]']           \n",
      " )                                                                                                \n",
      "                                                                                                  \n",
      " flatten_6 (Flatten)            (None, 32)           0           ['lstm_user_embedding[0][0]']    \n",
      "                                                                                                  \n",
      " flatten_7 (Flatten)            (None, 32)           0           ['lstm_item_embedding[0][0]']    \n",
      "                                                                                                  \n",
      " concatenate_2 (Concatenate)    (None, 64)           0           ['flatten_6[0][0]',              \n",
      "                                                                  'flatten_7[0][0]']              \n",
      "                                                                                                  \n",
      " reshape (Reshape)              (None, 1, 64)        0           ['concatenate_2[0][0]']          \n",
      "                                                                                                  \n",
      " LSTM1 (LSTM)                   (None, 32)           12416       ['reshape[0][0]']                \n",
      "                                                                                                  \n",
      " LSTM2 (LSTM)                   (None, 32)           12416       ['reshape[0][0]']                \n",
      "                                                                                                  \n",
      " LSTM3 (LSTM)                   (None, 32)           12416       ['reshape[0][0]']                \n",
      "                                                                                                  \n",
      " LSTM4 (LSTM)                   (None, 32)           12416       ['reshape[0][0]']                \n",
      "                                                                                                  \n",
      " dropout_1 (Dropout)            (None, 32)           0           ['LSTM1[0][0]']                  \n",
      "                                                                                                  \n",
      " dropout_2 (Dropout)            (None, 32)           0           ['LSTM2[0][0]']                  \n",
      "                                                                                                  \n",
      " dropout_3 (Dropout)            (None, 32)           0           ['LSTM3[0][0]']                  \n",
      "                                                                                                  \n",
      " dropout_4 (Dropout)            (None, 32)           0           ['LSTM4[0][0]']                  \n",
      "                                                                                                  \n",
      " concatenate_3 (Concatenate)    (None, 128)          0           ['dropout_1[0][0]',              \n",
      "                                                                  'dropout_2[0][0]',              \n",
      "                                                                  'dropout_3[0][0]',              \n",
      "                                                                  'dropout_4[0][0]']              \n",
      "                                                                                                  \n",
      " mf_user_embedding (Embedding)  (None, 1, 4)         2704        ['Lbl_Authors[0][0]']            \n",
      "                                                                                                  \n",
      " mf_item_embedding (Embedding)  (None, 1, 4)         312         ['Lbl_Articles[0][0]']           \n",
      "                                                                                                  \n",
      " dense (Dense)                  (None, 16)           2064        ['concatenate_3[0][0]']          \n",
      "                                                                                                  \n",
      " flatten_4 (Flatten)            (None, 4)            0           ['mf_user_embedding[0][0]']      \n",
      "                                                                                                  \n",
      " flatten_5 (Flatten)            (None, 4)            0           ['mf_item_embedding[0][0]']      \n",
      "                                                                                                  \n",
      " dropout_5 (Dropout)            (None, 16)           0           ['dense[0][0]']                  \n",
      "                                                                                                  \n",
      " multiply_1 (Multiply)          (None, 4)            0           ['flatten_4[0][0]',              \n",
      "                                                                  'flatten_5[0][0]']              \n",
      "                                                                                                  \n",
      " reshape_1 (Reshape)            (None, 16)           0           ['dropout_5[0][0]']              \n",
      "                                                                                                  \n",
      " concatenate_4 (Concatenate)    (None, 20)           0           ['multiply_1[0][0]',             \n",
      "                                                                  'reshape_1[0][0]']              \n",
      "                                                                                                  \n",
      " View (Dense)                   (None, 1)            21          ['concatenate_4[0][0]']          \n",
      "                                                                                                  \n",
      "==================================================================================================\n",
      "Total params: 78,893\n",
      "Trainable params: 78,893\n",
      "Non-trainable params: 0\n",
      "__________________________________________________________________________________________________\n"
     ]
    }
   ],
   "source": [
    "from tensorflow.keras.optimizers import Adam\n",
    "import tensorflow as tf\n",
    "\n",
    "n_users = merged_df['Lbl_Authors'].nunique()\n",
    "n_items = merged_df['Lbl_Articles'].nunique()\n",
    "\n",
    "ncf2_model = create_ncf2(n_users, n_items)\n",
    "\n",
    "ncf2_model.compile(optimizer = Adam(), loss = \"binary_crossentropy\",\n",
    "    metrics=[\n",
    "        tf.keras.metrics.TruePositives(name=\"tp\"),\n",
    "        tf.keras.metrics.FalsePositives(name=\"fp\"),\n",
    "        tf.keras.metrics.TrueNegatives(name=\"tn\"),\n",
    "        tf.keras.metrics.FalseNegatives(name=\"fn\"),\n",
    "        tf.keras.metrics.BinaryAccuracy(name=\"accuracy\"),\n",
    "        tf.keras.metrics.Precision(name=\"precision\"),\n",
    "        tf.keras.metrics.Recall(name=\"recall\"),\n",
    "        tf.keras.metrics.AUC(name=\"auc\"),\n",
    "    ],\n",
    ")\n",
    "\n",
    "ncf2_model._name = \"neural_collaborative_filtering\"\n",
    "ncf2_model.summary()"
   ]
  },
  {
   "cell_type": "markdown",
   "metadata": {},
   "source": [
    "**Fit the model**"
   ]
  },
  {
   "cell_type": "code",
   "execution_count": 36,
   "metadata": {
    "ExecuteTime": {
     "end_time": "2023-01-27T15:23:49.687928Z",
     "start_time": "2023-01-27T15:22:20.066882Z"
    }
   },
   "outputs": [
    {
     "name": "stdout",
     "output_type": "stream",
     "text": [
      "Epoch 1/40\n",
      "140/140 [==============================] - 9s 21ms/step - loss: 0.7972 - tp: 22453.0000 - fp: 14811.0000 - tn: 20881.0000 - fn: 13306.0000 - accuracy: 0.6065 - precision: 0.6025 - recall: 0.6279 - auc: 0.6539 - val_loss: 0.6157 - val_tp: 2591.0000 - val_fp: 1022.0000 - val_tn: 2949.0000 - val_fn: 1377.0000 - val_accuracy: 0.6978 - val_precision: 0.7171 - val_recall: 0.6530 - val_auc: 0.7499\n",
      "Epoch 2/40\n",
      "140/140 [==============================] - 2s 14ms/step - loss: 0.5980 - tp: 24020.0000 - fp: 8627.0000 - tn: 27065.0000 - fn: 11739.0000 - accuracy: 0.7150 - precision: 0.7357 - recall: 0.6717 - auc: 0.7659 - val_loss: 0.5758 - val_tp: 2691.0000 - val_fp: 963.0000 - val_tn: 3008.0000 - val_fn: 1277.0000 - val_accuracy: 0.7178 - val_precision: 0.7365 - val_recall: 0.6782 - val_auc: 0.7915\n",
      "Epoch 3/40\n",
      "140/140 [==============================] - 2s 17ms/step - loss: 0.5531 - tp: 24857.0000 - fp: 7992.0000 - tn: 27700.0000 - fn: 10902.0000 - accuracy: 0.7356 - precision: 0.7567 - recall: 0.6951 - auc: 0.8144 - val_loss: 0.5187 - val_tp: 2935.0000 - val_fp: 967.0000 - val_tn: 3004.0000 - val_fn: 1033.0000 - val_accuracy: 0.7481 - val_precision: 0.7522 - val_recall: 0.7397 - val_auc: 0.8470\n",
      "Epoch 4/40\n",
      "140/140 [==============================] - 2s 12ms/step - loss: 0.4910 - tp: 29038.0000 - fp: 8255.0000 - tn: 27437.0000 - fn: 6721.0000 - accuracy: 0.7904 - precision: 0.7786 - recall: 0.8120 - auc: 0.8694 - val_loss: 0.4523 - val_tp: 3456.0000 - val_fp: 934.0000 - val_tn: 3037.0000 - val_fn: 512.0000 - val_accuracy: 0.8179 - val_precision: 0.7872 - val_recall: 0.8710 - val_auc: 0.8941\n",
      "Epoch 5/40\n",
      "140/140 [==============================] - 2s 13ms/step - loss: 0.4322 - tp: 31900.0000 - fp: 8095.0000 - tn: 27597.0000 - fn: 3859.0000 - accuracy: 0.8327 - precision: 0.7976 - recall: 0.8921 - auc: 0.9080 - val_loss: 0.4073 - val_tp: 3628.0000 - val_fp: 904.0000 - val_tn: 3067.0000 - val_fn: 340.0000 - val_accuracy: 0.8433 - val_precision: 0.8005 - val_recall: 0.9143 - val_auc: 0.9205\n",
      "Epoch 6/40\n",
      "140/140 [==============================] - 2s 13ms/step - loss: 0.3887 - tp: 32895.0000 - fp: 7210.0000 - tn: 28482.0000 - fn: 2864.0000 - accuracy: 0.8590 - precision: 0.8202 - recall: 0.9199 - auc: 0.9300 - val_loss: 0.3682 - val_tp: 3715.0000 - val_fp: 801.0000 - val_tn: 3170.0000 - val_fn: 253.0000 - val_accuracy: 0.8672 - val_precision: 0.8226 - val_recall: 0.9362 - val_auc: 0.9360\n",
      "Epoch 7/40\n",
      "140/140 [==============================] - 2s 13ms/step - loss: 0.3507 - tp: 33530.0000 - fp: 6314.0000 - tn: 29378.0000 - fn: 2229.0000 - accuracy: 0.8804 - precision: 0.8415 - recall: 0.9377 - auc: 0.9445 - val_loss: 0.3344 - val_tp: 3781.0000 - val_fp: 726.0000 - val_tn: 3245.0000 - val_fn: 187.0000 - val_accuracy: 0.8850 - val_precision: 0.8389 - val_recall: 0.9529 - val_auc: 0.9482\n",
      "Epoch 8/40\n",
      "140/140 [==============================] - 2s 13ms/step - loss: 0.3228 - tp: 33844.0000 - fp: 5635.0000 - tn: 30057.0000 - fn: 1915.0000 - accuracy: 0.8943 - precision: 0.8573 - recall: 0.9464 - auc: 0.9528 - val_loss: 0.3167 - val_tp: 3781.0000 - val_fp: 664.0000 - val_tn: 3307.0000 - val_fn: 187.0000 - val_accuracy: 0.8928 - val_precision: 0.8506 - val_recall: 0.9529 - val_auc: 0.9525\n",
      "Epoch 9/40\n",
      "140/140 [==============================] - 2s 14ms/step - loss: 0.3010 - tp: 34056.0000 - fp: 5186.0000 - tn: 30506.0000 - fn: 1703.0000 - accuracy: 0.9036 - precision: 0.8678 - recall: 0.9524 - auc: 0.9589 - val_loss: 0.2972 - val_tp: 3825.0000 - val_fp: 625.0000 - val_tn: 3346.0000 - val_fn: 143.0000 - val_accuracy: 0.9033 - val_precision: 0.8596 - val_recall: 0.9640 - val_auc: 0.9576\n",
      "Epoch 10/40\n",
      "140/140 [==============================] - 2s 14ms/step - loss: 0.2831 - tp: 34196.0000 - fp: 4805.0000 - tn: 30887.0000 - fn: 1563.0000 - accuracy: 0.9109 - precision: 0.8768 - recall: 0.9563 - auc: 0.9632 - val_loss: 0.2866 - val_tp: 3831.0000 - val_fp: 586.0000 - val_tn: 3385.0000 - val_fn: 137.0000 - val_accuracy: 0.9089 - val_precision: 0.8673 - val_recall: 0.9655 - val_auc: 0.9599\n",
      "Epoch 11/40\n",
      "140/140 [==============================] - 2s 15ms/step - loss: 0.2705 - tp: 34346.0000 - fp: 4561.0000 - tn: 31131.0000 - fn: 1413.0000 - accuracy: 0.9164 - precision: 0.8828 - recall: 0.9605 - auc: 0.9661 - val_loss: 0.2757 - val_tp: 3852.0000 - val_fp: 559.0000 - val_tn: 3412.0000 - val_fn: 116.0000 - val_accuracy: 0.9150 - val_precision: 0.8733 - val_recall: 0.9708 - val_auc: 0.9628\n",
      "Epoch 12/40\n",
      "140/140 [==============================] - 2s 15ms/step - loss: 0.2558 - tp: 34458.0000 - fp: 4266.0000 - tn: 31426.0000 - fn: 1301.0000 - accuracy: 0.9221 - precision: 0.8898 - recall: 0.9636 - auc: 0.9696 - val_loss: 0.2670 - val_tp: 3852.0000 - val_fp: 547.0000 - val_tn: 3424.0000 - val_fn: 116.0000 - val_accuracy: 0.9165 - val_precision: 0.8757 - val_recall: 0.9708 - val_auc: 0.9636\n",
      "Epoch 13/40\n",
      "140/140 [==============================] - 2s 14ms/step - loss: 0.2477 - tp: 34542.0000 - fp: 4108.0000 - tn: 31584.0000 - fn: 1217.0000 - accuracy: 0.9255 - precision: 0.8937 - recall: 0.9660 - auc: 0.9712 - val_loss: 0.2554 - val_tp: 3868.0000 - val_fp: 502.0000 - val_tn: 3469.0000 - val_fn: 100.0000 - val_accuracy: 0.9242 - val_precision: 0.8851 - val_recall: 0.9748 - val_auc: 0.9662\n",
      "Epoch 14/40\n",
      "140/140 [==============================] - 2s 15ms/step - loss: 0.2401 - tp: 34615.0000 - fp: 3918.0000 - tn: 31774.0000 - fn: 1144.0000 - accuracy: 0.9292 - precision: 0.8983 - recall: 0.9680 - auc: 0.9730 - val_loss: 0.2489 - val_tp: 3872.0000 - val_fp: 477.0000 - val_tn: 3494.0000 - val_fn: 96.0000 - val_accuracy: 0.9278 - val_precision: 0.8903 - val_recall: 0.9758 - val_auc: 0.9687\n",
      "Epoch 15/40\n",
      "140/140 [==============================] - 2s 15ms/step - loss: 0.2330 - tp: 34682.0000 - fp: 3702.0000 - tn: 31990.0000 - fn: 1077.0000 - accuracy: 0.9331 - precision: 0.9036 - recall: 0.9699 - auc: 0.9745 - val_loss: 0.2423 - val_tp: 3879.0000 - val_fp: 454.0000 - val_tn: 3517.0000 - val_fn: 89.0000 - val_accuracy: 0.9316 - val_precision: 0.8952 - val_recall: 0.9776 - val_auc: 0.9696\n",
      "Epoch 16/40\n",
      "140/140 [==============================] - 2s 14ms/step - loss: 0.2250 - tp: 34772.0000 - fp: 3466.0000 - tn: 32226.0000 - fn: 987.0000 - accuracy: 0.9377 - precision: 0.9094 - recall: 0.9724 - auc: 0.9760 - val_loss: 0.2373 - val_tp: 3882.0000 - val_fp: 453.0000 - val_tn: 3518.0000 - val_fn: 86.0000 - val_accuracy: 0.9321 - val_precision: 0.8955 - val_recall: 0.9783 - val_auc: 0.9710\n",
      "Epoch 17/40\n",
      "140/140 [==============================] - 2s 14ms/step - loss: 0.2216 - tp: 34771.0000 - fp: 3429.0000 - tn: 32263.0000 - fn: 988.0000 - accuracy: 0.9382 - precision: 0.9102 - recall: 0.9724 - auc: 0.9770 - val_loss: 0.2348 - val_tp: 3888.0000 - val_fp: 426.0000 - val_tn: 3545.0000 - val_fn: 80.0000 - val_accuracy: 0.9363 - val_precision: 0.9013 - val_recall: 0.9798 - val_auc: 0.9715\n",
      "Epoch 18/40\n",
      "140/140 [==============================] - 3s 20ms/step - loss: 0.2145 - tp: 34865.0000 - fp: 3251.0000 - tn: 32441.0000 - fn: 894.0000 - accuracy: 0.9420 - precision: 0.9147 - recall: 0.9750 - auc: 0.9786 - val_loss: 0.2291 - val_tp: 3890.0000 - val_fp: 422.0000 - val_tn: 3549.0000 - val_fn: 78.0000 - val_accuracy: 0.9370 - val_precision: 0.9021 - val_recall: 0.9803 - val_auc: 0.9727racy: 0.9418 - precision: 0.9144 - recall: 0.9750 - auc: 0.97\n",
      "Epoch 19/40\n",
      "140/140 [==============================] - 3s 18ms/step - loss: 0.2090 - tp: 34909.0000 - fp: 3156.0000 - tn: 32536.0000 - fn: 850.0000 - accuracy: 0.9439 - precision: 0.9171 - recall: 0.9762 - auc: 0.9796 - val_loss: 0.2228 - val_tp: 3899.0000 - val_fp: 405.0000 - val_tn: 3566.0000 - val_fn: 69.0000 - val_accuracy: 0.9403 - val_precision: 0.9059 - val_recall: 0.9826 - val_auc: 0.9738\n",
      "Epoch 20/40\n",
      "140/140 [==============================] - 2s 16ms/step - loss: 0.2024 - tp: 34964.0000 - fp: 2990.0000 - tn: 32702.0000 - fn: 795.0000 - accuracy: 0.9470 - precision: 0.9212 - recall: 0.9778 - auc: 0.9809 - val_loss: 0.2213 - val_tp: 3897.0000 - val_fp: 386.0000 - val_tn: 3585.0000 - val_fn: 71.0000 - val_accuracy: 0.9424 - val_precision: 0.9099 - val_recall: 0.9821 - val_auc: 0.9749\n",
      "Epoch 21/40\n",
      "140/140 [==============================] - 3s 19ms/step - loss: 0.2006 - tp: 34946.0000 - fp: 2940.0000 - tn: 32752.0000 - fn: 813.0000 - accuracy: 0.9475 - precision: 0.9224 - recall: 0.9773 - auc: 0.9813 - val_loss: 0.2117 - val_tp: 3901.0000 - val_fp: 376.0000 - val_tn: 3595.0000 - val_fn: 67.0000 - val_accuracy: 0.9442 - val_precision: 0.9121 - val_recall: 0.9831 - val_auc: 0.9766\n",
      "Epoch 22/40\n",
      "140/140 [==============================] - 3s 18ms/step - loss: 0.1950 - tp: 35008.0000 - fp: 2809.0000 - tn: 32883.0000 - fn: 751.0000 - accuracy: 0.9502 - precision: 0.9257 - recall: 0.9790 - auc: 0.9823 - val_loss: 0.2090 - val_tp: 3919.0000 - val_fp: 367.0000 - val_tn: 3604.0000 - val_fn: 49.0000 - val_accuracy: 0.9476 - val_precision: 0.9144 - val_recall: 0.9877 - val_auc: 0.9774\n",
      "Epoch 23/40\n",
      "140/140 [==============================] - 2s 13ms/step - loss: 0.1923 - tp: 35007.0000 - fp: 2669.0000 - tn: 33023.0000 - fn: 752.0000 - accuracy: 0.9521 - precision: 0.9292 - recall: 0.9790 - auc: 0.9829 - val_loss: 0.2029 - val_tp: 3899.0000 - val_fp: 345.0000 - val_tn: 3626.0000 - val_fn: 69.0000 - val_accuracy: 0.9479 - val_precision: 0.9187 - val_recall: 0.9826 - val_auc: 0.9788\n",
      "Epoch 24/40\n",
      "140/140 [==============================] - 2s 13ms/step - loss: 0.1871 - tp: 35056.0000 - fp: 2603.0000 - tn: 33089.0000 - fn: 703.0000 - accuracy: 0.9537 - precision: 0.9309 - recall: 0.9803 - auc: 0.9840 - val_loss: 0.2038 - val_tp: 3914.0000 - val_fp: 345.0000 - val_tn: 3626.0000 - val_fn: 54.0000 - val_accuracy: 0.9497 - val_precision: 0.9190 - val_recall: 0.9864 - val_auc: 0.9778\n",
      "Epoch 25/40\n",
      "140/140 [==============================] - 2s 15ms/step - loss: 0.1842 - tp: 35053.0000 - fp: 2539.0000 - tn: 33153.0000 - fn: 706.0000 - accuracy: 0.9546 - precision: 0.9325 - recall: 0.9803 - auc: 0.9846 - val_loss: 0.2056 - val_tp: 3901.0000 - val_fp: 344.0000 - val_tn: 3627.0000 - val_fn: 67.0000 - val_accuracy: 0.9482 - val_precision: 0.9190 - val_recall: 0.9831 - val_auc: 0.9774\n",
      "Epoch 26/40\n",
      "140/140 [==============================] - 2s 12ms/step - loss: 0.1807 - tp: 35061.0000 - fp: 2480.0000 - tn: 33212.0000 - fn: 698.0000 - accuracy: 0.9555 - precision: 0.9339 - recall: 0.9805 - auc: 0.9852 - val_loss: 0.1981 - val_tp: 3913.0000 - val_fp: 317.0000 - val_tn: 3654.0000 - val_fn: 55.0000 - val_accuracy: 0.9531 - val_precision: 0.9251 - val_recall: 0.9861 - val_auc: 0.9791\n",
      "Epoch 27/40\n",
      "140/140 [==============================] - 2s 12ms/step - loss: 0.1794 - tp: 35134.0000 - fp: 2465.0000 - tn: 33227.0000 - fn: 625.0000 - accuracy: 0.9568 - precision: 0.9344 - recall: 0.9825 - auc: 0.9855 - val_loss: 0.1931 - val_tp: 3924.0000 - val_fp: 318.0000 - val_tn: 3653.0000 - val_fn: 44.0000 - val_accuracy: 0.9544 - val_precision: 0.9250 - val_recall: 0.9889 - val_auc: 0.9802\n",
      "Epoch 28/40\n",
      "140/140 [==============================] - 2s 13ms/step - loss: 0.1770 - tp: 35130.0000 - fp: 2403.0000 - tn: 33289.0000 - fn: 629.0000 - accuracy: 0.9576 - precision: 0.9360 - recall: 0.9824 - auc: 0.9860 - val_loss: 0.1944 - val_tp: 3911.0000 - val_fp: 306.0000 - val_tn: 3665.0000 - val_fn: 57.0000 - val_accuracy: 0.9543 - val_precision: 0.9274 - val_recall: 0.9856 - val_auc: 0.9796\n",
      "Epoch 29/40\n",
      "140/140 [==============================] - 2s 13ms/step - loss: 0.1723 - tp: 35142.0000 - fp: 2296.0000 - tn: 33396.0000 - fn: 617.0000 - accuracy: 0.9592 - precision: 0.9387 - recall: 0.9827 - auc: 0.9870 - val_loss: 0.1908 - val_tp: 3924.0000 - val_fp: 310.0000 - val_tn: 3661.0000 - val_fn: 44.0000 - val_accuracy: 0.9554 - val_precision: 0.9268 - val_recall: 0.9889 - val_auc: 0.9805\n",
      "Epoch 30/40\n",
      "140/140 [==============================] - 2s 14ms/step - loss: 0.1698 - tp: 35162.0000 - fp: 2220.0000 - tn: 33472.0000 - fn: 597.0000 - accuracy: 0.9606 - precision: 0.9406 - recall: 0.9833 - auc: 0.9873 - val_loss: 0.1907 - val_tp: 3929.0000 - val_fp: 300.0000 - val_tn: 3671.0000 - val_fn: 39.0000 - val_accuracy: 0.9573 - val_precision: 0.9291 - val_recall: 0.9902 - val_auc: 0.9802\n",
      "Epoch 31/40\n",
      "140/140 [==============================] - 2s 12ms/step - loss: 0.1679 - tp: 35173.0000 - fp: 2233.0000 - tn: 33459.0000 - fn: 586.0000 - accuracy: 0.9605 - precision: 0.9403 - recall: 0.9836 - auc: 0.9878 - val_loss: 0.1902 - val_tp: 3923.0000 - val_fp: 311.0000 - val_tn: 3660.0000 - val_fn: 45.0000 - val_accuracy: 0.9552 - val_precision: 0.9265 - val_recall: 0.9887 - val_auc: 0.9812\n",
      "Epoch 32/40\n",
      "140/140 [==============================] - 2s 12ms/step - loss: 0.1665 - tp: 35205.0000 - fp: 2124.0000 - tn: 33568.0000 - fn: 554.0000 - accuracy: 0.9625 - precision: 0.9431 - recall: 0.9845 - auc: 0.9878 - val_loss: 0.1888 - val_tp: 3919.0000 - val_fp: 297.0000 - val_tn: 3674.0000 - val_fn: 49.0000 - val_accuracy: 0.9564 - val_precision: 0.9296 - val_recall: 0.9877 - val_auc: 0.9808\n",
      "Epoch 33/40\n",
      "140/140 [==============================] - 2s 14ms/step - loss: 0.1661 - tp: 35161.0000 - fp: 2106.0000 - tn: 33586.0000 - fn: 598.0000 - accuracy: 0.9622 - precision: 0.9435 - recall: 0.9833 - auc: 0.9883 - val_loss: 0.1905 - val_tp: 3936.0000 - val_fp: 314.0000 - val_tn: 3657.0000 - val_fn: 32.0000 - val_accuracy: 0.9564 - val_precision: 0.9261 - val_recall: 0.9919 - val_auc: 0.9816\n",
      "Epoch 34/40\n",
      "140/140 [==============================] - 2s 12ms/step - loss: 0.1621 - tp: 35214.0000 - fp: 2005.0000 - tn: 33687.0000 - fn: 545.0000 - accuracy: 0.9643 - precision: 0.9461 - recall: 0.9848 - auc: 0.9890 - val_loss: 0.1892 - val_tp: 3937.0000 - val_fp: 307.0000 - val_tn: 3664.0000 - val_fn: 31.0000 - val_accuracy: 0.9574 - val_precision: 0.9277 - val_recall: 0.9922 - val_auc: 0.9814\n",
      "Epoch 35/40\n",
      "140/140 [==============================] - 2s 12ms/step - loss: 0.1610 - tp: 35222.0000 - fp: 2011.0000 - tn: 33681.0000 - fn: 537.0000 - accuracy: 0.9643 - precision: 0.9460 - recall: 0.9850 - auc: 0.9890 - val_loss: 0.1889 - val_tp: 3939.0000 - val_fp: 302.0000 - val_tn: 3669.0000 - val_fn: 29.0000 - val_accuracy: 0.9583 - val_precision: 0.9288 - val_recall: 0.9927 - val_auc: 0.9812\n",
      "Epoch 36/40\n",
      "140/140 [==============================] - 2s 12ms/step - loss: 0.1575 - tp: 35216.0000 - fp: 1947.0000 - tn: 33745.0000 - fn: 543.0000 - accuracy: 0.9652 - precision: 0.9476 - recall: 0.9848 - auc: 0.9896 - val_loss: 0.1800 - val_tp: 3931.0000 - val_fp: 281.0000 - val_tn: 3690.0000 - val_fn: 37.0000 - val_accuracy: 0.9599 - val_precision: 0.9333 - val_recall: 0.9907 - val_auc: 0.9835\n",
      "Epoch 37/40\n",
      "140/140 [==============================] - 2s 12ms/step - loss: 0.1539 - tp: 35227.0000 - fp: 1883.0000 - tn: 33809.0000 - fn: 532.0000 - accuracy: 0.9662 - precision: 0.9493 - recall: 0.9851 - auc: 0.9904 - val_loss: 0.1796 - val_tp: 3932.0000 - val_fp: 288.0000 - val_tn: 3683.0000 - val_fn: 36.0000 - val_accuracy: 0.9592 - val_precision: 0.9318 - val_recall: 0.9909 - val_auc: 0.9838\n",
      "Epoch 38/40\n",
      "140/140 [==============================] - 2s 12ms/step - loss: 0.1526 - tp: 35278.0000 - fp: 1858.0000 - tn: 33834.0000 - fn: 481.0000 - accuracy: 0.9673 - precision: 0.9500 - recall: 0.9865 - auc: 0.9904 - val_loss: 0.1768 - val_tp: 3935.0000 - val_fp: 273.0000 - val_tn: 3698.0000 - val_fn: 33.0000 - val_accuracy: 0.9615 - val_precision: 0.9351 - val_recall: 0.9917 - val_auc: 0.9841\n",
      "Epoch 39/40\n",
      "140/140 [==============================] - 2s 13ms/step - loss: 0.1501 - tp: 35243.0000 - fp: 1771.0000 - tn: 33921.0000 - fn: 516.0000 - accuracy: 0.9680 - precision: 0.9522 - recall: 0.9856 - auc: 0.9910 - val_loss: 0.1777 - val_tp: 3935.0000 - val_fp: 288.0000 - val_tn: 3683.0000 - val_fn: 33.0000 - val_accuracy: 0.9596 - val_precision: 0.9318 - val_recall: 0.9917 - val_auc: 0.9848\n",
      "Epoch 40/40\n",
      "140/140 [==============================] - 2s 13ms/step - loss: 0.1502 - tp: 35225.0000 - fp: 1787.0000 - tn: 33905.0000 - fn: 534.0000 - accuracy: 0.9675 - precision: 0.9517 - recall: 0.9851 - auc: 0.9911 - val_loss: 0.1815 - val_tp: 3931.0000 - val_fp: 279.0000 - val_tn: 3692.0000 - val_fn: 37.0000 - val_accuracy: 0.9602 - val_precision: 0.9337 - val_recall: 0.9907 - val_auc: 0.9841\n",
      "Wall time: 1min 29s\n"
     ]
    }
   ],
   "source": [
    "%%time\n",
    "train_hist = ncf2_model.fit(ds_train, validation_data = ds_val, epochs = 40, verbose=1)"
   ]
  },
  {
   "cell_type": "markdown",
   "metadata": {},
   "source": [
    "#### Prediction and evaluation"
   ]
  },
  {
   "cell_type": "markdown",
   "metadata": {},
   "source": [
    "**Make the prediction**"
   ]
  },
  {
   "cell_type": "code",
   "execution_count": 37,
   "metadata": {
    "ExecuteTime": {
     "end_time": "2023-01-27T15:23:50.483167Z",
     "start_time": "2023-01-27T15:23:49.687928Z"
    }
   },
   "outputs": [
    {
     "name": "stdout",
     "output_type": "stream",
     "text": [
      "Wall time: 764 ms\n"
     ]
    },
    {
     "data": {
      "text/html": [
       "<div>\n",
       "<style scoped>\n",
       "    .dataframe tbody tr th:only-of-type {\n",
       "        vertical-align: middle;\n",
       "    }\n",
       "\n",
       "    .dataframe tbody tr th {\n",
       "        vertical-align: top;\n",
       "    }\n",
       "\n",
       "    .dataframe thead th {\n",
       "        text-align: right;\n",
       "    }\n",
       "</style>\n",
       "<table border=\"1\" class=\"dataframe\">\n",
       "  <thead>\n",
       "    <tr style=\"text-align: right;\">\n",
       "      <th></th>\n",
       "      <th>Authors</th>\n",
       "      <th>Articles</th>\n",
       "      <th>Lbl_Authors</th>\n",
       "      <th>Lbl_Articles</th>\n",
       "      <th>View</th>\n",
       "      <th>ncf_predictions</th>\n",
       "    </tr>\n",
       "  </thead>\n",
       "  <tbody>\n",
       "    <tr>\n",
       "      <th>35368</th>\n",
       "      <td>5485810adabfae9b40133700</td>\n",
       "      <td>5550411745ce0a409eb38760</td>\n",
       "      <td>485</td>\n",
       "      <td>31</td>\n",
       "      <td>0.0</td>\n",
       "      <td>0.933970</td>\n",
       "    </tr>\n",
       "    <tr>\n",
       "      <th>46207</th>\n",
       "      <td>562d148645cedb3398d49e87</td>\n",
       "      <td>573696026e3b12023e515eec</td>\n",
       "      <td>615</td>\n",
       "      <td>48</td>\n",
       "      <td>1.0</td>\n",
       "      <td>0.997932</td>\n",
       "    </tr>\n",
       "    <tr>\n",
       "      <th>35273</th>\n",
       "      <td>53f4c02adabfaedce5658d38</td>\n",
       "      <td>5550411745ce0a409eb38760</td>\n",
       "      <td>297</td>\n",
       "      <td>31</td>\n",
       "      <td>0.0</td>\n",
       "      <td>0.000009</td>\n",
       "    </tr>\n",
       "    <tr>\n",
       "      <th>21235</th>\n",
       "      <td>53f438c7dabfaeee229c1616</td>\n",
       "      <td>53e9aa48b7602d97033b6b90</td>\n",
       "      <td>140</td>\n",
       "      <td>12</td>\n",
       "      <td>0.0</td>\n",
       "      <td>0.000099</td>\n",
       "    </tr>\n",
       "    <tr>\n",
       "      <th>61424</th>\n",
       "      <td>5409688bdabfae450f481730</td>\n",
       "      <td>58d82fced649053542fd7289</td>\n",
       "      <td>386</td>\n",
       "      <td>65</td>\n",
       "      <td>1.0</td>\n",
       "      <td>0.993731</td>\n",
       "    </tr>\n",
       "  </tbody>\n",
       "</table>\n",
       "</div>"
      ],
      "text/plain": [
       "                        Authors                  Articles  Lbl_Authors  \\\n",
       "35368  5485810adabfae9b40133700  5550411745ce0a409eb38760          485   \n",
       "46207  562d148645cedb3398d49e87  573696026e3b12023e515eec          615   \n",
       "35273  53f4c02adabfaedce5658d38  5550411745ce0a409eb38760          297   \n",
       "21235  53f438c7dabfaeee229c1616  53e9aa48b7602d97033b6b90          140   \n",
       "61424  5409688bdabfae450f481730  58d82fced649053542fd7289          386   \n",
       "\n",
       "       Lbl_Articles  View  ncf_predictions  \n",
       "35368            31   0.0         0.933970  \n",
       "46207            48   1.0         0.997932  \n",
       "35273            31   0.0         0.000009  \n",
       "21235            12   0.0         0.000099  \n",
       "61424            65   1.0         0.993731  "
      ]
     },
     "execution_count": 37,
     "metadata": {},
     "output_type": "execute_result"
    }
   ],
   "source": [
    "%%time\n",
    "ncf2_predictions = ncf2_model.predict(ds_test)\n",
    "data_test[\"ncf_predictions\"] = ncf2_predictions\n",
    "data_test.head()"
   ]
  },
  {
   "cell_type": "markdown",
   "metadata": {},
   "source": [
    "**Delete duplicates**"
   ]
  },
  {
   "cell_type": "code",
   "execution_count": 38,
   "metadata": {
    "ExecuteTime": {
     "end_time": "2023-01-27T15:23:50.498790Z",
     "start_time": "2023-01-27T15:23:50.483167Z"
    }
   },
   "outputs": [
    {
     "data": {
      "text/plain": [
       "6931"
      ]
     },
     "execution_count": 38,
     "metadata": {},
     "output_type": "execute_result"
    }
   ],
   "source": [
    "len(data_test[data_test.duplicated(subset=['Lbl_Authors','Lbl_Articles'])])"
   ]
  },
  {
   "cell_type": "code",
   "execution_count": 39,
   "metadata": {
    "ExecuteTime": {
     "end_time": "2023-01-27T15:23:50.686289Z",
     "start_time": "2023-01-27T15:23:50.498790Z"
    }
   },
   "outputs": [],
   "source": [
    "data_test = data_test.drop_duplicates(subset=['Lbl_Authors','Lbl_Articles'])"
   ]
  },
  {
   "cell_type": "code",
   "execution_count": 40,
   "metadata": {
    "ExecuteTime": {
     "end_time": "2023-01-27T15:23:50.858142Z",
     "start_time": "2023-01-27T15:23:50.686289Z"
    }
   },
   "outputs": [
    {
     "data": {
      "text/plain": [
       "0"
      ]
     },
     "execution_count": 40,
     "metadata": {},
     "output_type": "execute_result"
    }
   ],
   "source": [
    "len(data_test[data_test.duplicated(subset=['Lbl_Authors','Lbl_Articles'])])"
   ]
  },
  {
   "cell_type": "markdown",
   "metadata": {},
   "source": [
    "**Compute Precision, Recall and RMSE metrics**"
   ]
  },
  {
   "cell_type": "code",
   "execution_count": 67,
   "metadata": {
    "ExecuteTime": {
     "end_time": "2023-01-27T15:31:58.385454Z",
     "start_time": "2023-01-27T15:31:58.341483Z"
    }
   },
   "outputs": [
    {
     "name": "stdout",
     "output_type": "stream",
     "text": [
      "We have a precision of 0.95\n"
     ]
    }
   ],
   "source": [
    "from tensorflow.keras.metrics import Precision, Recall\n",
    "\n",
    "Precision = Precision(top_k=20\n",
    "#Recall = Recall(top_k=5)\n",
    "\n",
    "Precision.update_state(data_test[\"View\"], data_test[\"ncf_predictions\"])\n",
    "#Recall.update_state(data_test[\"View\"], data_test[\"ncf_predictions\"])\n",
    "\n",
    "print(\"We have a precision of\",  Precision.result().numpy()) #, \",a recall of\", Recall.result().numpy())"
   ]
  },
  {
   "cell_type": "markdown",
   "metadata": {},
   "source": [
    "**Εquate predictions to 1 if it is grater than 0.5 or else to 0** "
   ]
  },
  {
   "cell_type": "code",
   "execution_count": 42,
   "metadata": {
    "ExecuteTime": {
     "end_time": "2023-01-27T15:23:51.193554Z",
     "start_time": "2023-01-27T15:23:50.998797Z"
    }
   },
   "outputs": [
    {
     "name": "stdout",
     "output_type": "stream",
     "text": [
      "0    9308\n",
      "1    3609\n",
      "Name: ncf_predictions_dummy, dtype: int64\n"
     ]
    },
    {
     "name": "stderr",
     "output_type": "stream",
     "text": [
      "<ipython-input-42-f44f9e7c2190>:1: SettingWithCopyWarning: \n",
      "A value is trying to be set on a copy of a slice from a DataFrame.\n",
      "Try using .loc[row_indexer,col_indexer] = value instead\n",
      "\n",
      "See the caveats in the documentation: https://pandas.pydata.org/pandas-docs/stable/user_guide/indexing.html#returning-a-view-versus-a-copy\n",
      "  data_test['ncf_predictions_dummy'] = data_test['ncf_predictions'].apply(lambda rating : +1 if rating >= 0.5 else 0)\n"
     ]
    },
    {
     "data": {
      "text/html": [
       "<div>\n",
       "<style scoped>\n",
       "    .dataframe tbody tr th:only-of-type {\n",
       "        vertical-align: middle;\n",
       "    }\n",
       "\n",
       "    .dataframe tbody tr th {\n",
       "        vertical-align: top;\n",
       "    }\n",
       "\n",
       "    .dataframe thead th {\n",
       "        text-align: right;\n",
       "    }\n",
       "</style>\n",
       "<table border=\"1\" class=\"dataframe\">\n",
       "  <thead>\n",
       "    <tr style=\"text-align: right;\">\n",
       "      <th></th>\n",
       "      <th>Authors</th>\n",
       "      <th>Articles</th>\n",
       "      <th>Lbl_Authors</th>\n",
       "      <th>Lbl_Articles</th>\n",
       "      <th>View</th>\n",
       "      <th>ncf_predictions</th>\n",
       "      <th>ncf_predictions_dummy</th>\n",
       "    </tr>\n",
       "  </thead>\n",
       "  <tbody>\n",
       "    <tr>\n",
       "      <th>35368</th>\n",
       "      <td>5485810adabfae9b40133700</td>\n",
       "      <td>5550411745ce0a409eb38760</td>\n",
       "      <td>485</td>\n",
       "      <td>31</td>\n",
       "      <td>0.0</td>\n",
       "      <td>0.933970</td>\n",
       "      <td>1</td>\n",
       "    </tr>\n",
       "    <tr>\n",
       "      <th>46207</th>\n",
       "      <td>562d148645cedb3398d49e87</td>\n",
       "      <td>573696026e3b12023e515eec</td>\n",
       "      <td>615</td>\n",
       "      <td>48</td>\n",
       "      <td>1.0</td>\n",
       "      <td>0.997932</td>\n",
       "      <td>1</td>\n",
       "    </tr>\n",
       "    <tr>\n",
       "      <th>35273</th>\n",
       "      <td>53f4c02adabfaedce5658d38</td>\n",
       "      <td>5550411745ce0a409eb38760</td>\n",
       "      <td>297</td>\n",
       "      <td>31</td>\n",
       "      <td>0.0</td>\n",
       "      <td>0.000009</td>\n",
       "      <td>0</td>\n",
       "    </tr>\n",
       "    <tr>\n",
       "      <th>21235</th>\n",
       "      <td>53f438c7dabfaeee229c1616</td>\n",
       "      <td>53e9aa48b7602d97033b6b90</td>\n",
       "      <td>140</td>\n",
       "      <td>12</td>\n",
       "      <td>0.0</td>\n",
       "      <td>0.000099</td>\n",
       "      <td>0</td>\n",
       "    </tr>\n",
       "    <tr>\n",
       "      <th>61424</th>\n",
       "      <td>5409688bdabfae450f481730</td>\n",
       "      <td>58d82fced649053542fd7289</td>\n",
       "      <td>386</td>\n",
       "      <td>65</td>\n",
       "      <td>1.0</td>\n",
       "      <td>0.993731</td>\n",
       "      <td>1</td>\n",
       "    </tr>\n",
       "  </tbody>\n",
       "</table>\n",
       "</div>"
      ],
      "text/plain": [
       "                        Authors                  Articles  Lbl_Authors  \\\n",
       "35368  5485810adabfae9b40133700  5550411745ce0a409eb38760          485   \n",
       "46207  562d148645cedb3398d49e87  573696026e3b12023e515eec          615   \n",
       "35273  53f4c02adabfaedce5658d38  5550411745ce0a409eb38760          297   \n",
       "21235  53f438c7dabfaeee229c1616  53e9aa48b7602d97033b6b90          140   \n",
       "61424  5409688bdabfae450f481730  58d82fced649053542fd7289          386   \n",
       "\n",
       "       Lbl_Articles  View  ncf_predictions  ncf_predictions_dummy  \n",
       "35368            31   0.0         0.933970                      1  \n",
       "46207            48   1.0         0.997932                      1  \n",
       "35273            31   0.0         0.000009                      0  \n",
       "21235            12   0.0         0.000099                      0  \n",
       "61424            65   1.0         0.993731                      1  "
      ]
     },
     "execution_count": 42,
     "metadata": {},
     "output_type": "execute_result"
    }
   ],
   "source": [
    "data_test['ncf_predictions_dummy'] = data_test['ncf_predictions'].apply(lambda rating : +1 if rating >= 0.5 else 0)\n",
    "print(data_test['ncf_predictions_dummy'].value_counts())\n",
    "data_test.head()"
   ]
  },
  {
   "cell_type": "markdown",
   "metadata": {},
   "source": [
    "**Compute the accuracy score**"
   ]
  },
  {
   "cell_type": "code",
   "execution_count": 43,
   "metadata": {
    "ExecuteTime": {
     "end_time": "2023-01-27T15:23:51.334160Z",
     "start_time": "2023-01-27T15:23:51.256071Z"
    }
   },
   "outputs": [
    {
     "name": "stdout",
     "output_type": "stream",
     "text": [
      "Accuracy is equal to 0.9453433459781683\n"
     ]
    }
   ],
   "source": [
    "print(\"Accuracy is equal to\", accuracy_score(data_test[\"View\"], data_test[\"ncf_predictions_dummy\"]))"
   ]
  },
  {
   "cell_type": "markdown",
   "metadata": {},
   "source": [
    "**Make an example recommendation**"
   ]
  },
  {
   "cell_type": "code",
   "execution_count": 44,
   "metadata": {
    "ExecuteTime": {
     "end_time": "2023-01-27T15:23:51.552881Z",
     "start_time": "2023-01-27T15:23:51.334160Z"
    }
   },
   "outputs": [
    {
     "data": {
      "text/html": [
       "<div>\n",
       "<style scoped>\n",
       "    .dataframe tbody tr th:only-of-type {\n",
       "        vertical-align: middle;\n",
       "    }\n",
       "\n",
       "    .dataframe tbody tr th {\n",
       "        vertical-align: top;\n",
       "    }\n",
       "\n",
       "    .dataframe thead th {\n",
       "        text-align: right;\n",
       "    }\n",
       "</style>\n",
       "<table border=\"1\" class=\"dataframe\">\n",
       "  <thead>\n",
       "    <tr style=\"text-align: right;\">\n",
       "      <th></th>\n",
       "      <th>Authors</th>\n",
       "      <th>Articles</th>\n",
       "      <th>Lbl_Authors</th>\n",
       "      <th>Lbl_Articles</th>\n",
       "      <th>View</th>\n",
       "      <th>ncf_predictions</th>\n",
       "      <th>ncf_predictions_dummy</th>\n",
       "    </tr>\n",
       "  </thead>\n",
       "  <tbody>\n",
       "    <tr>\n",
       "      <th>69091</th>\n",
       "      <td>53f48a48dabfaea6f277b420</td>\n",
       "      <td>53e99a85b7602d97022f8644</td>\n",
       "      <td>271</td>\n",
       "      <td>3</td>\n",
       "      <td>1.0</td>\n",
       "      <td>0.913931</td>\n",
       "      <td>1</td>\n",
       "    </tr>\n",
       "    <tr>\n",
       "      <th>25066</th>\n",
       "      <td>53f48a48dabfaea6f277b420</td>\n",
       "      <td>53e9b068b7602d9703acf032</td>\n",
       "      <td>271</td>\n",
       "      <td>17</td>\n",
       "      <td>0.0</td>\n",
       "      <td>0.402783</td>\n",
       "      <td>0</td>\n",
       "    </tr>\n",
       "    <tr>\n",
       "      <th>31161</th>\n",
       "      <td>53f48a48dabfaea6f277b420</td>\n",
       "      <td>53e9a62eb7602d9702f5a6a2</td>\n",
       "      <td>271</td>\n",
       "      <td>8</td>\n",
       "      <td>0.0</td>\n",
       "      <td>0.032814</td>\n",
       "      <td>0</td>\n",
       "    </tr>\n",
       "    <tr>\n",
       "      <th>52186</th>\n",
       "      <td>53f48a48dabfaea6f277b420</td>\n",
       "      <td>53e9986eb7602d97020a7ef9</td>\n",
       "      <td>271</td>\n",
       "      <td>0</td>\n",
       "      <td>0.0</td>\n",
       "      <td>0.001351</td>\n",
       "      <td>0</td>\n",
       "    </tr>\n",
       "    <tr>\n",
       "      <th>11508</th>\n",
       "      <td>53f48a48dabfaea6f277b420</td>\n",
       "      <td>53e99a20b7602d9702279af2</td>\n",
       "      <td>271</td>\n",
       "      <td>2</td>\n",
       "      <td>0.0</td>\n",
       "      <td>0.000126</td>\n",
       "      <td>0</td>\n",
       "    </tr>\n",
       "  </tbody>\n",
       "</table>\n",
       "</div>"
      ],
      "text/plain": [
       "                        Authors                  Articles  Lbl_Authors  \\\n",
       "69091  53f48a48dabfaea6f277b420  53e99a85b7602d97022f8644          271   \n",
       "25066  53f48a48dabfaea6f277b420  53e9b068b7602d9703acf032          271   \n",
       "31161  53f48a48dabfaea6f277b420  53e9a62eb7602d9702f5a6a2          271   \n",
       "52186  53f48a48dabfaea6f277b420  53e9986eb7602d97020a7ef9          271   \n",
       "11508  53f48a48dabfaea6f277b420  53e99a20b7602d9702279af2          271   \n",
       "\n",
       "       Lbl_Articles  View  ncf_predictions  ncf_predictions_dummy  \n",
       "69091             3   1.0         0.913931                      1  \n",
       "25066            17   0.0         0.402783                      0  \n",
       "31161             8   0.0         0.032814                      0  \n",
       "52186             0   0.0         0.001351                      0  \n",
       "11508             2   0.0         0.000126                      0  "
      ]
     },
     "execution_count": 44,
     "metadata": {},
     "output_type": "execute_result"
    }
   ],
   "source": [
    "#Pick a random author\n",
    "smpl = data_test.sample()\n",
    "#Find his predictions\n",
    "author_pred = data_test.loc[data_test['Lbl_Authors'] == smpl.iloc[0]['Lbl_Authors']]\n",
    "#Sort them by ncf_prediction from largest to smallest.\n",
    "recommendation = author_pred.sort_values(by=['ncf_predictions'], ascending=False)\n",
    "#Make the 5 most likely to like recommendations\n",
    "recommendation.head()"
   ]
  }
 ],
 "metadata": {
  "kernelspec": {
   "display_name": "Python 3",
   "language": "python",
   "name": "python3"
  },
  "language_info": {
   "codemirror_mode": {
    "name": "ipython",
    "version": 3
   },
   "file_extension": ".py",
   "mimetype": "text/x-python",
   "name": "python",
   "nbconvert_exporter": "python",
   "pygments_lexer": "ipython3",
   "version": "3.8.5"
  },
  "latex_envs": {
   "LaTeX_envs_menu_present": true,
   "autoclose": false,
   "autocomplete": true,
   "bibliofile": "biblio.bib",
   "cite_by": "apalike",
   "current_citInitial": 1,
   "eqLabelWithNumbers": true,
   "eqNumInitial": 1,
   "hotkeys": {
    "equation": "Ctrl-E",
    "itemize": "Ctrl-I"
   },
   "labels_anchors": false,
   "latex_user_defs": false,
   "report_style_numbering": false,
   "user_envs_cfg": false
  },
  "toc": {
   "base_numbering": 1,
   "nav_menu": {},
   "number_sections": true,
   "sideBar": true,
   "skip_h1_title": false,
   "title_cell": "Table of Contents",
   "title_sidebar": "Contents",
   "toc_cell": true,
   "toc_position": {
    "height": "calc(100% - 180px)",
    "left": "10px",
    "top": "150px",
    "width": "165px"
   },
   "toc_section_display": true,
   "toc_window_display": true
  },
  "varInspector": {
   "cols": {
    "lenName": 16,
    "lenType": 16,
    "lenVar": 40
   },
   "kernels_config": {
    "python": {
     "delete_cmd_postfix": "",
     "delete_cmd_prefix": "del ",
     "library": "var_list.py",
     "varRefreshCmd": "print(var_dic_list())"
    },
    "r": {
     "delete_cmd_postfix": ") ",
     "delete_cmd_prefix": "rm(",
     "library": "var_list.r",
     "varRefreshCmd": "cat(var_dic_list()) "
    }
   },
   "types_to_exclude": [
    "module",
    "function",
    "builtin_function_or_method",
    "instance",
    "_Feature"
   ],
   "window_display": false
  }
 },
 "nbformat": 4,
 "nbformat_minor": 5
}
